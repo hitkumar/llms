{
 "cells": [
  {
   "cell_type": "code",
   "execution_count": 12,
   "metadata": {},
   "outputs": [],
   "source": [
    "from importlib.metadata import version\n",
    "from tqdm import tqdm"
   ]
  },
  {
   "cell_type": "code",
   "execution_count": 15,
   "metadata": {},
   "outputs": [],
   "source": [
    "import urllib.request\n",
    "import json\n",
    "\n",
    "def query_model(prompt, model=\"llama3.1\", url=\"http://localhost:11434/api/chat\"):\n",
    "    data = {\n",
    "        \"model\": model,\n",
    "        \"messages\": [\n",
    "            {\n",
    "                \"role\": \"user\",\n",
    "                \"content\": prompt\n",
    "            }\n",
    "        ],\n",
    "        \"options\": {\n",
    "            \"seed\": 123,\n",
    "            \"temperature\": 0,\n",
    "        }\n",
    "    }\n",
    "    payload = json.dumps(data).encode(\"utf-8\")\n",
    "    request = urllib.request.Request(url, data=payload, method='POST')\n",
    "    request.add_header(\"Content-Type\", \"application/json\")\n",
    "\n",
    "    response_data = \"\"\n",
    "    with urllib.request.urlopen(request) as response:\n",
    "        while True:\n",
    "            line = response.readline().decode('utf-8')\n",
    "            if not line:\n",
    "                break\n",
    "            response_json = json.loads(line)\n",
    "            response_data += response_json['message']['content']\n",
    "    \n",
    "    return response_data"
   ]
  },
  {
   "cell_type": "code",
   "execution_count": 18,
   "metadata": {},
   "outputs": [
    {
     "name": "stdout",
     "output_type": "stream",
     "text": [
      "Llamas are herbivores, which means they primarily eat plants and plant-based foods. Their diet consists of:\n",
      "\n",
      "1. **Grasses**: Various types of grasses, including tall grasses, short grasses, and grassy weeds.\n",
      "2. **Leaves**: Leaves from trees and shrubs, such as willow, alder, and oak.\n",
      "3. **Hay**: High-quality hay, like timothy or alfalfa hay, is a staple in many llama diets.\n",
      "4. **Fruits**: Fresh fruits, like apples, berries, and melons, are also consumed by llamas.\n",
      "5. **Grains**: Some llamas may be fed grains, such as oats or corn, but this should not make up more than 10-20% of their diet.\n",
      "6. **Browse**: Browse refers to the leaves, twigs, and branches of shrubs and trees. Llamas love to browse on plants like willow, alder, and cedar.\n",
      "\n",
      "In general, a llama's diet should consist of:\n",
      "\n",
      "* 50-60% hay\n",
      "* 20-30% grasses and other forages (like browse)\n",
      "* 10-20% grains (if fed at all)\n",
      "* 5-10% fruits and treats\n",
      "\n",
      "It's essential to provide llamas with high-quality food, fresh water, and a balanced diet to ensure their overall health and well-being.\n"
     ]
    }
   ],
   "source": [
    "res = query_model('What do Llamas eat?')\n",
    "print(res)"
   ]
  },
  {
   "cell_type": "code",
   "execution_count": 19,
   "metadata": {},
   "outputs": [
    {
     "data": {
      "text/plain": [
       "1100"
      ]
     },
     "execution_count": 19,
     "metadata": {},
     "output_type": "execute_result"
    }
   ],
   "source": [
    "from pathlib import Path\n",
    "\n",
    "json_file = \"instruction-data.json\"\n",
    "with open(json_file, \"r\") as f:\n",
    "    json_data = json.load(f)\n",
    "\n",
    "len(json_data)"
   ]
  },
  {
   "cell_type": "code",
   "execution_count": 21,
   "metadata": {},
   "outputs": [],
   "source": [
    "entry = json_data[0]"
   ]
  },
  {
   "cell_type": "code",
   "execution_count": 28,
   "metadata": {},
   "outputs": [
    {
     "name": "stdout",
     "output_type": "stream",
     "text": [
      "Below is an instruction that describes a task. Write a response that appropriately completes the request.\n",
      "\n",
      "### Instruction:\n",
      "Evaluate the following phrase by transforming it into the spelling given.\n",
      "\n",
      "### Input:\n",
      "freind --> friend\n"
     ]
    }
   ],
   "source": [
    "instruction_text = (\n",
    "        f\"Below is an instruction that describes a task. Write a response that \"\n",
    "        f\"appropriately completes the request.\"\n",
    "        f\"\\n\\n### Instruction:\\n{entry['instruction']}\"\n",
    "    )\n",
    "\n",
    "# print(instruction_text)\n",
    "\n",
    "input_text = f\"\\n\\n### Input:\\n{entry['input']}\" if entry['input'] else \"\"\n",
    "print(instruction_text + input_text)"
   ]
  },
  {
   "cell_type": "code",
   "execution_count": 29,
   "metadata": {},
   "outputs": [],
   "source": [
    "def format_input(entry):\n",
    "    instruction_text = (\n",
    "        f\"Below is an instruction that describes a task. Write a response that \"\n",
    "        f\"appropriately completes the request.\"\n",
    "        f\"\\n\\n### Instruction:\\n{entry['instruction']}\"\n",
    "    )\n",
    "    input_text = f\"\\n\\n### Input:\\n{entry['input']}\" if entry['input'] else \"\"\n",
    "    return instruction_text + input_text"
   ]
  },
  {
   "cell_type": "code",
   "execution_count": 30,
   "metadata": {},
   "outputs": [
    {
     "name": "stdout",
     "output_type": "stream",
     "text": [
      "Below is an instruction that describes a task. Write a response that appropriately completes the request.\n",
      "\n",
      "### Instruction:\n",
      "Evaluate the following phrase by transforming it into the spelling given.\n",
      "\n",
      "### Input:\n",
      "freind --> friend\n"
     ]
    }
   ],
   "source": [
    "print(format_input(entry))"
   ]
  },
  {
   "cell_type": "code",
   "execution_count": 36,
   "metadata": {},
   "outputs": [
    {
     "data": {
      "text/plain": [
       "'np'"
      ]
     },
     "execution_count": 36,
     "metadata": {},
     "output_type": "execute_result"
    }
   ],
   "source": [
    "import random\n",
    "random.choice(['p', 'np'])"
   ]
  },
  {
   "cell_type": "code",
   "execution_count": 39,
   "metadata": {},
   "outputs": [],
   "source": [
    "politeness = random.choice(['p', 'np'])"
   ]
  },
  {
   "cell_type": "code",
   "execution_count": 42,
   "metadata": {},
   "outputs": [
    {
     "name": "stdout",
     "output_type": "stream",
     "text": [
      "Given the input `Below is an instruction that describes a task. Write a response that appropriately completes the request.\n",
      "\n",
      "### Instruction:\n",
      "Evaluate the following phrase by transforming it into the spelling given.\n",
      "\n",
      "### Input:\n",
      "freind --> friend` and correct output `The spelling of the given phrase \"freind\" is incorrect, the correct spelling is \"friend\".`, slightly rewrite the output to be more p.Keep the modification minimal.Only return the generated response and nothing else.\n"
     ]
    }
   ],
   "source": [
    "prompt = (\n",
    "        f\"Given the input `{format_input(entry)}` \"\n",
    "        f\"and correct output `{entry['output']}`, \"\n",
    "        f\"slightly rewrite the output to be more {politeness}.\"\n",
    "        \"Keep the modification minimal.\"\n",
    "        \"Only return the generated response and nothing else.\"\n",
    "    )\n",
    "\n",
    "print(prompt)"
   ]
  },
  {
   "cell_type": "code",
   "execution_count": 49,
   "metadata": {},
   "outputs": [
    {
     "name": "stdout",
     "output_type": "stream",
     "text": [
      "\n",
      "Dataset response:\n",
      ">> False\n",
      "impolite response:\n",
      ">> Are you kidding me? The moon is most definitely NOT a planet, that's just basic astronomy 101. False.\n",
      "\n",
      "Dataset response:\n",
      ">> 1000 milliliters is equivalent to 1 liter.\n",
      "polite response:\n",
      ">> I'd be happy to help you with converting 1000 milliliters to liters! The result of this conversion is that 1000 milliliters is equivalent to 1 liter.\n",
      "\n",
      "Dataset response:\n",
      ">> She was singing in the choir.\n",
      "impolite response:\n",
      ">> She was bloody well singing in the choir.\n",
      "\n",
      "Dataset response:\n",
      ">> A synonym for 'clever' is 'smart.'\n",
      "polite response:\n",
      ">> I appreciate your request! I'd like to provide a helpful response. A suitable alternative to \"clever\" would be \"intelligent.\"\n",
      "\n",
      "Dataset response:\n",
      ">> Should you have called me?\n",
      "polite response:\n",
      ">> Shouldn't you have called me instead?\n"
     ]
    }
   ],
   "source": [
    "for entry in json_data[-5:]:\n",
    "    politeness = random.choice([\"polite\", \"impolite\"])\n",
    "    prompt = (\n",
    "        f\"Given the input `{format_input(entry)}` \"\n",
    "        f\"and correct output `{entry['output']}`, \"\n",
    "        f\"completely rewrite the output to be more {politeness}. \"\n",
    "        \"Keep the modification minimal.\"\n",
    "        \"Only return the generated response and nothing else.\"\n",
    "    )\n",
    "    print(\"\\nDataset response:\")\n",
    "    print(\">>\", entry['output'])\n",
    "    print(f\"{politeness} response:\")\n",
    "    print(\">>\", query_model(prompt))"
   ]
  },
  {
   "cell_type": "code",
   "execution_count": 50,
   "metadata": {},
   "outputs": [],
   "source": [
    "def generate_model_responses(json_data):\n",
    "    for i, entry in enumerate(tqdm(json_data, desc='Creating preference data')):\n",
    "        politeness = random.choice([\"polite\", \"impolite\"])\n",
    "        prompt = (\n",
    "            f\"Given the input `{format_input(entry)}` \"\n",
    "            f\"and correct output `{entry['output']}`, \"\n",
    "            f\"completely rewrite the output to be more {politeness}. \"\n",
    "            \"Keep the modification minimal.\"\n",
    "            \"Only return the generated response and nothing else.\"\n",
    "        )\n",
    "        model_response = query_model(prompt)\n",
    "\n",
    "        if politeness == \"polite\":\n",
    "            json_data[i]['chosen'] = model_response\n",
    "            json_data[i]['rejected'] = entry['output']\n",
    "        else:\n",
    "            json_data[i]['chosen'] = entry['output']\n",
    "            json_data[i]['rejected'] = model_response"
   ]
  },
  {
   "cell_type": "code",
   "execution_count": 51,
   "metadata": {},
   "outputs": [
    {
     "name": "stderr",
     "output_type": "stream",
     "text": [
      "python(24396) MallocStackLogging: can't turn off malloc stack logging because it was not enabled.\n",
      "Creating preference data: 100%|██████████| 1100/1100 [38:30<00:00,  2.10s/it]   \n"
     ]
    }
   ],
   "source": [
    "generate_model_responses(json_data)"
   ]
  },
  {
   "cell_type": "code",
   "execution_count": 52,
   "metadata": {},
   "outputs": [],
   "source": [
    "with open('instruction-data-with-preference.json', 'w') as f:\n",
    "    json.dump(json_data, f, indent=4)"
   ]
  },
  {
   "cell_type": "code",
   "execution_count": null,
   "metadata": {},
   "outputs": [],
   "source": []
  }
 ],
 "metadata": {
  "kernelspec": {
   "display_name": "myenv",
   "language": "python",
   "name": "python3"
  },
  "language_info": {
   "codemirror_mode": {
    "name": "ipython",
    "version": 3
   },
   "file_extension": ".py",
   "mimetype": "text/x-python",
   "name": "python",
   "nbconvert_exporter": "python",
   "pygments_lexer": "ipython3",
   "version": "3.8.18"
  }
 },
 "nbformat": 4,
 "nbformat_minor": 2
}
