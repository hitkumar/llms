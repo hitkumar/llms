{
 "cells": [
  {
   "cell_type": "code",
   "execution_count": null,
   "metadata": {},
   "outputs": [],
   "source": [
    "from huggingface_hub import notebook_login\n",
    "\n",
    "notebook_login()"
   ]
  },
  {
   "cell_type": "code",
   "execution_count": 82,
   "metadata": {},
   "outputs": [],
   "source": [
    "from pathlib import Path\n",
    "\n",
    "from huggingface_hub import snapshot_download\n",
    "\n",
    "mistral_model_path = Path.home().joinpath(\"mistral_models\", \"7B-v0.3\")\n",
    "mistral_model_path.mkdir(parents=True, exist_ok=True)"
   ]
  },
  {
   "cell_type": "code",
   "execution_count": 83,
   "metadata": {
    "output": {
     "id": 792151339759898,
     "loadingStatus": "loaded"
    }
   },
   "outputs": [
    {
     "data": {
      "text/plain": [
       "PosixPath('/home/htkumar/mistral_models/7B-v0.3')"
      ]
     },
     "execution_count": 98,
     "metadata": {},
     "output_type": "execute_result"
    }
   ],
   "source": [
    "mistral_model_path"
   ]
  },
  {
   "cell_type": "code",
   "execution_count": null,
   "metadata": {},
   "outputs": [],
   "source": [
    "import pandas as pd"
   ]
  },
  {
   "cell_type": "code",
   "execution_count": null,
   "metadata": {},
   "outputs": [],
   "source": [
    "pd.set_option(\"display.max_colwidth\", None)\n",
    "pd.set_option(\"display.max_rows\", None)\n",
    "pd.set_option(\"display.max_columns\", None)"
   ]
  },
  {
   "cell_type": "code",
   "execution_count": null,
   "metadata": {
    "output": {
     "id": 438757202459634,
     "loadingStatus": "loaded"
    }
   },
   "outputs": [],
   "source": [
    "train_data = pd.read_json(\n",
    "    \"/home/htkumar/llms/mistral-finetune/ultrachat/train.jsonl\", lines=True\n",
    ")"
   ]
  },
  {
   "cell_type": "code",
   "execution_count": null,
   "metadata": {},
   "outputs": [],
   "source": [
    "train_data.columns"
   ]
  },
  {
   "cell_type": "code",
   "execution_count": null,
   "metadata": {},
   "outputs": [],
   "source": [
    "first_sample = train_data.iloc[3674]\n",
    "print(first_sample[\"prompt\"])"
   ]
  },
  {
   "cell_type": "code",
   "execution_count": null,
   "metadata": {},
   "outputs": [],
   "source": [
    "print(first_sample[\"prompt_id\"])"
   ]
  },
  {
   "cell_type": "code",
   "execution_count": null,
   "metadata": {},
   "outputs": [],
   "source": [
    "first_sample[\"messages\"]"
   ]
  },
  {
   "cell_type": "code",
   "execution_count": 51,
   "metadata": {},
   "outputs": [],
   "source": [
    "import json\n",
    "from dataclasses import dataclass, field\n",
    "from typing import Optional\n",
    "\n",
    "from simple_parsing.helpers import Serializable"
   ]
  },
  {
   "cell_type": "code",
   "execution_count": 80,
   "metadata": {},
   "outputs": [],
   "source": [
    "@dataclass\n",
    "class MoeArgs(Serializable):\n",
    "    num_experts: int = 8\n",
    "    num_experts_per_tok: int = 2\n",
    "\n",
    "    def __post_init__(self):\n",
    "        if self.num_experts > 10:\n",
    "            raise ValueError(\"num_experts must be <= 2\")"
   ]
  },
  {
   "cell_type": "code",
   "execution_count": 81,
   "metadata": {},
   "outputs": [
    {
     "ename": "ValueError",
     "evalue": "num_experts must be <= 2",
     "output_type": "error",
     "traceback": [
      "\u001b[0;31m---------------------------------------------------------------------------\u001b[0m\n",
      "\u001b[0;31mValueError\u001b[0m                                Traceback (most recent call last)\n",
      "Cell \u001b[0;32mIn[96], line 1\u001b[0m\n",
      "\u001b[0;32m----> 1\u001b[0m a \u001b[38;5;241m=\u001b[39m MoeArgs\u001b[49m(\u001b[49mnum_experts\u001b[49m\u001b[38;5;241;43m=\u001b[39;49m\u001b[38;5;241;43m11\u001b[39;49m)\u001b[49m\n",
      "\n",
      "File \u001b[0;32m<string>:5\u001b[0m, in \u001b[0;36m__init__\u001b[0;34m(self, num_experts, num_experts_per_tok)\u001b[0m\n",
      "\n",
      "Cell \u001b[0;32mIn[95], line 8\u001b[0m, in \u001b[0;36mMoeArgs.__post_init__\u001b[0;34m(self)\u001b[0m\n",
      "\u001b[1;32m      6\u001b[0m \u001b[38;5;28;01mdef\u001b[39;00m \u001b[38;5;21m__post_init__\u001b[39m(\u001b[38;5;28mself\u001b[39m):\n",
      "\u001b[1;32m      7\u001b[0m     \u001b[38;5;28;01mif\u001b[39;00m \u001b[38;5;28mself\u001b[39m\u001b[38;5;241m.\u001b[39mnum_experts \u001b[38;5;241m>\u001b[39m \u001b[38;5;241m10\u001b[39m:\n",
      "\u001b[0;32m----> 8\u001b[0m         \u001b[38;5;28;01mraise\u001b[39;00m \u001b[38;5;167;01mValueError\u001b[39;00m(\u001b[38;5;124m\"\u001b[39m\u001b[38;5;124mnum_experts must be <= 2\u001b[39m\u001b[38;5;124m\"\u001b[39m)\n",
      "\n",
      "\u001b[0;31mValueError\u001b[0m: num_experts must be <= 2"
     ]
    }
   ],
   "source": [
    "a = MoeArgs(num_experts=11)"
   ]
  },
  {
   "cell_type": "code",
   "execution_count": 74,
   "metadata": {},
   "outputs": [],
   "source": [
    "with open(\"/home/htkumar/llms/mistral-finetune/moe_args.txt\", \"w\") as f:\n",
    "    f.write(json.dumps(a.to_dict()))"
   ]
  },
  {
   "cell_type": "code",
   "execution_count": 79,
   "metadata": {},
   "outputs": [
    {
     "name": "stdout",
     "output_type": "stream",
     "text": [
      "MoeArgs(num_experts=8, num_experts_per_tok=2)\n"
     ]
    }
   ],
   "source": [
    "with open(\"/home/htkumar/llms/mistral-finetune/moe_args.txt\", \"r\") as f:\n",
    "    for line in f:\n",
    "        b = MoeArgs.from_dict(json.loads(line))\n",
    "        print(b)"
   ]
  },
  {
   "cell_type": "code",
   "execution_count": null,
   "metadata": {},
   "outputs": [],
   "source": []
  }
 ],
 "metadata": {
  "fileHeader": "",
  "fileUid": "016c5a11-f387-442a-b9a5-bfad5df34987",
  "isAdHoc": false,
  "kernelspec": {
   "display_name": "mistral_ft (local)",
   "language": "python",
   "name": "mistral_ft_local"
  },
  "language_info": {
   "name": "python"
  }
 },
 "nbformat": 4,
 "nbformat_minor": 2
}
