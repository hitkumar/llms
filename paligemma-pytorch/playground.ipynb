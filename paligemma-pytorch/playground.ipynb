{
  "cells": [
    {
      "cell_type": "code",
      "execution_count": 1,
      "metadata": {},
      "outputs": [],
      "source": [
        "import torch\n",
        "import torch.nn as nn"
      ]
    },
    {
      "cell_type": "code",
      "execution_count": 40,
      "metadata": {
        "output": {
          "id": 1178862366663787,
          "loadingStatus": "loaded"
        }
      },
      "outputs": [
        {
          "data": {
            "text/plain": [
              "tensor([ 1, 10,  3, 20,  5])"
            ]
          },
          "execution_count": 39,
          "metadata": {},
          "output_type": "execute_result"
        }
      ],
      "source": [
        "target = torch.tensor([1, 2, 3, 4, 5])\n",
        "mask = torch.tensor([False, True, False, True, False])\n",
        "source = torch.tensor([10, 20])\n",
        "\n",
        "result = target.masked_scatter(mask, source)\n",
        "result"
      ]
    },
    {
      "cell_type": "code",
      "execution_count": 44,
      "metadata": {
        "output": {
          "id": 1696589817776073,
          "loadingStatus": "loaded"
        }
      },
      "outputs": [
        {
          "data": {
            "text/plain": [
              "torch.Size([4, 12])"
            ]
          },
          "execution_count": 43,
          "metadata": {},
          "output_type": "execute_result"
        }
      ],
      "source": [
        "attention_mask = torch.full(\n",
        "    (4, 12), fill_value=1\n",
        ")\n",
        "attention_mask.shape"
      ]
    },
    {
      "cell_type": "code",
      "execution_count": 49,
      "metadata": {
        "output": {
          "id": 883612360296641,
          "loadingStatus": "loaded"
        }
      },
      "outputs": [
        {
          "data": {
            "text/plain": [
              "1"
            ]
          },
          "execution_count": 48,
          "metadata": {},
          "output_type": "execute_result"
        }
      ],
      "source": [
        "attention_mask.cumsum(-1)[:, -1].dim()"
      ]
    },
    {
      "cell_type": "code",
      "execution_count": 48,
      "metadata": {
        "output": {
          "id": 1552795101987007,
          "loadingStatus": "loaded"
        }
      },
      "outputs": [
        {
          "data": {
            "text/plain": [
              "tensor([[ 1,  2,  3,  4,  5,  6,  7,  8,  9, 10, 11, 12],\n",
              "        [ 1,  2,  3,  4,  5,  6,  7,  8,  9, 10, 11, 12],\n",
              "        [ 1,  2,  3,  4,  5,  6,  7,  8,  9, 10, 11, 12],\n",
              "        [ 1,  2,  3,  4,  5,  6,  7,  8,  9, 10, 11, 12]])"
            ]
          },
          "execution_count": 47,
          "metadata": {},
          "output_type": "execute_result"
        }
      ],
      "source": [
        "(attention_mask.cumsum(-1)).masked_fill_((attention_mask == 0), 1)"
      ]
    },
    {
      "cell_type": "code",
      "execution_count": 39,
      "metadata": {
        "output": {
          "id": 1457638904953704,
          "loadingStatus": "loaded"
        }
      },
      "outputs": [
        {
          "data": {
            "text/plain": [
              "(torch.Size([10000, 256]), torch.Size([10000, 256]))"
            ]
          },
          "execution_count": 38,
          "metadata": {},
          "output_type": "execute_result"
        }
      ],
      "source": [
        "vocab_size, hidden_state = 10000, 256\n",
        "lm_head = nn.Linear(hidden_state, vocab_size)\n",
        "embed_tokens = nn.Embedding(vocab_size, hidden_state)\n",
        "lm_head.weight.shape, embed_tokens.weight.shape"
      ]
    },
    {
      "cell_type": "code",
      "execution_count": 36,
      "metadata": {
        "output": {
          "id": 1896364940831580,
          "loadingStatus": "loaded"
        }
      },
      "outputs": [
        {
          "data": {
            "text/plain": [
              "False"
            ]
          },
          "execution_count": 35,
          "metadata": {},
          "output_type": "execute_result"
        }
      ],
      "source": [
        "torch.equal(lm_head.weight, embed_tokens.weight)"
      ]
    },
    {
      "cell_type": "code",
      "execution_count": 37,
      "metadata": {},
      "outputs": [],
      "source": [
        "lm_head.weight = embed_tokens.weight"
      ]
    },
    {
      "cell_type": "code",
      "execution_count": 38,
      "metadata": {
        "output": {
          "id": 1009201844282437,
          "loadingStatus": "loaded"
        }
      },
      "outputs": [
        {
          "data": {
            "text/plain": [
              "True"
            ]
          },
          "execution_count": 37,
          "metadata": {},
          "output_type": "execute_result"
        }
      ],
      "source": [
        "torch.equal(lm_head.weight, embed_tokens.weight)"
      ]
    },
    {
      "cell_type": "code",
      "execution_count": 2,
      "metadata": {
        "output": {
          "id": 828537992374852,
          "loadingStatus": "loaded"
        }
      },
      "outputs": [
        {
          "data": {
            "text/plain": [
              "(torch.Size([64]), torch.float32)"
            ]
          },
          "execution_count": 2,
          "metadata": {},
          "output_type": "execute_result"
        }
      ],
      "source": [
        "base, dim = 1000, 128\n",
        "inv_freq = 1.0 / (base ** (torch.arange(0, dim, 2).float() / dim))\n",
        "inv_freq.shape, inv_freq.dtype"
      ]
    },
    {
      "cell_type": "code",
      "execution_count": 3,
      "metadata": {
        "output": {
          "id": 1033759741236383,
          "loadingStatus": "loaded"
        }
      },
      "outputs": [
        {
          "data": {
            "text/plain": [
              "torch.Size([1, 64, 1])"
            ]
          },
          "execution_count": 3,
          "metadata": {},
          "output_type": "execute_result"
        }
      ],
      "source": [
        "inv_freq_expanded = inv_freq[None, :, None]\n",
        "inv_freq_expanded.shape"
      ]
    },
    {
      "cell_type": "code",
      "execution_count": 4,
      "metadata": {
        "output": {
          "id": 525097173360785,
          "loadingStatus": "loaded"
        }
      },
      "outputs": [
        {
          "data": {
            "text/plain": [
              "tensor([[0, 1, 2, 3, 4, 5, 6, 7, 8, 9],\n",
              "        [0, 1, 2, 3, 4, 5, 6, 7, 8, 9]])"
            ]
          },
          "execution_count": 4,
          "metadata": {},
          "output_type": "execute_result"
        }
      ],
      "source": [
        "bs, seq_len, n_heads = 2, 10, 4\n",
        "position_ids = torch.cat([torch.arange(seq_len)[None, :] for _ in range(bs)], dim=0)\n",
        "position_ids"
      ]
    },
    {
      "cell_type": "code",
      "execution_count": 5,
      "metadata": {
        "output": {
          "id": 517282490780744,
          "loadingStatus": "loaded"
        }
      },
      "outputs": [
        {
          "data": {
            "text/plain": [
              "torch.Size([2, 1, 10])"
            ]
          },
          "execution_count": 5,
          "metadata": {},
          "output_type": "execute_result"
        }
      ],
      "source": [
        "position_ids_expanded = position_ids[:, None, :].float()\n",
        "position_ids_expanded.shape"
      ]
    },
    {
      "cell_type": "code",
      "execution_count": 6,
      "metadata": {
        "output": {
          "id": 844477997658525,
          "loadingStatus": "loaded"
        }
      },
      "outputs": [
        {
          "data": {
            "text/plain": [
              "torch.Size([2, 10, 64])"
            ]
          },
          "execution_count": 6,
          "metadata": {},
          "output_type": "execute_result"
        }
      ],
      "source": [
        "freqs = (inv_freq_expanded @ position_ids_expanded).transpose(1, 2)\n",
        "freqs.shape"
      ]
    },
    {
      "cell_type": "code",
      "execution_count": 7,
      "metadata": {
        "output": {
          "id": 1061077032277862,
          "loadingStatus": "loaded"
        }
      },
      "outputs": [
        {
          "data": {
            "text/plain": [
              "tensor([[[0.0000e+00, 0.0000e+00, 0.0000e+00,  ..., 0.0000e+00,\n",
              "          0.0000e+00, 0.0000e+00],\n",
              "         [1.0000e+00, 8.9769e-01, 8.0584e-01,  ..., 1.3824e-03,\n",
              "          1.2409e-03, 1.1140e-03],\n",
              "         [2.0000e+00, 1.7954e+00, 1.6117e+00,  ..., 2.7647e-03,\n",
              "          2.4819e-03, 2.2279e-03],\n",
              "         ...,\n",
              "         [7.0000e+00, 6.2838e+00, 5.6409e+00,  ..., 9.6766e-03,\n",
              "          8.6866e-03, 7.7978e-03],\n",
              "         [8.0000e+00, 7.1815e+00, 6.4467e+00,  ..., 1.1059e-02,\n",
              "          9.9275e-03, 8.9118e-03],\n",
              "         [9.0000e+00, 8.0792e+00, 7.2526e+00,  ..., 1.2441e-02,\n",
              "          1.1168e-02, 1.0026e-02]],\n",
              "\n",
              "        [[0.0000e+00, 0.0000e+00, 0.0000e+00,  ..., 0.0000e+00,\n",
              "          0.0000e+00, 0.0000e+00],\n",
              "         [1.0000e+00, 8.9769e-01, 8.0584e-01,  ..., 1.3824e-03,\n",
              "          1.2409e-03, 1.1140e-03],\n",
              "         [2.0000e+00, 1.7954e+00, 1.6117e+00,  ..., 2.7647e-03,\n",
              "          2.4819e-03, 2.2279e-03],\n",
              "         ...,\n",
              "         [7.0000e+00, 6.2838e+00, 5.6409e+00,  ..., 9.6766e-03,\n",
              "          8.6866e-03, 7.7978e-03],\n",
              "         [8.0000e+00, 7.1815e+00, 6.4467e+00,  ..., 1.1059e-02,\n",
              "          9.9275e-03, 8.9118e-03],\n",
              "         [9.0000e+00, 8.0792e+00, 7.2526e+00,  ..., 1.2441e-02,\n",
              "          1.1168e-02, 1.0026e-02]]])"
            ]
          },
          "execution_count": 7,
          "metadata": {},
          "output_type": "execute_result"
        }
      ],
      "source": [
        "freqs"
      ]
    },
    {
      "cell_type": "code",
      "execution_count": 8,
      "metadata": {
        "output": {
          "id": 935900835201477,
          "loadingStatus": "loaded"
        }
      },
      "outputs": [
        {
          "data": {
            "text/plain": [
              "torch.Size([2, 4, 10, 128])"
            ]
          },
          "execution_count": 8,
          "metadata": {},
          "output_type": "execute_result"
        }
      ],
      "source": [
        "q = torch.ones(bs, n_heads, seq_len, dim)\n",
        "q.shape"
      ]
    },
    {
      "cell_type": "code",
      "execution_count": 9,
      "metadata": {
        "output": {
          "id": 443175825355383,
          "loadingStatus": "loaded"
        }
      },
      "outputs": [
        {
          "data": {
            "text/plain": [
              "(torch.Size([2, 4, 10, 64]), torch.Size([2, 4, 10, 64]))"
            ]
          },
          "execution_count": 9,
          "metadata": {},
          "output_type": "execute_result"
        }
      ],
      "source": [
        "x1 = q[..., :q.shape[-1] // 2]\n",
        "x2 = q[..., q.shape[-1] // 2:]\n",
        "x1.shape, x2.shape"
      ]
    },
    {
      "cell_type": "code",
      "execution_count": 10,
      "metadata": {
        "output": {
          "id": 519342507339564,
          "loadingStatus": "loaded"
        }
      },
      "outputs": [
        {
          "data": {
            "text/plain": [
              "torch.Size([2, 4, 10, 128])"
            ]
          },
          "execution_count": 10,
          "metadata": {},
          "output_type": "execute_result"
        }
      ],
      "source": [
        "a = torch.cat((-x2, x1), dim=-1)\n",
        "a.shape"
      ]
    },
    {
      "cell_type": "code",
      "execution_count": 11,
      "metadata": {
        "output": {
          "id": 482982191194449,
          "loadingStatus": "loaded"
        }
      },
      "outputs": [
        {
          "data": {
            "text/plain": [
              "tensor([[[[-1., -1., -1.,  ...,  1.,  1.,  1.],\n",
              "          [-1., -1., -1.,  ...,  1.,  1.,  1.],\n",
              "          [-1., -1., -1.,  ...,  1.,  1.,  1.],\n",
              "          ...,\n",
              "          [-1., -1., -1.,  ...,  1.,  1.,  1.],\n",
              "          [-1., -1., -1.,  ...,  1.,  1.,  1.],\n",
              "          [-1., -1., -1.,  ...,  1.,  1.,  1.]],\n",
              "\n",
              "         [[-1., -1., -1.,  ...,  1.,  1.,  1.],\n",
              "          [-1., -1., -1.,  ...,  1.,  1.,  1.],\n",
              "          [-1., -1., -1.,  ...,  1.,  1.,  1.],\n",
              "          ...,\n",
              "          [-1., -1., -1.,  ...,  1.,  1.,  1.],\n",
              "          [-1., -1., -1.,  ...,  1.,  1.,  1.],\n",
              "          [-1., -1., -1.,  ...,  1.,  1.,  1.]],\n",
              "\n",
              "         [[-1., -1., -1.,  ...,  1.,  1.,  1.],\n",
              "          [-1., -1., -1.,  ...,  1.,  1.,  1.],\n",
              "          [-1., -1., -1.,  ...,  1.,  1.,  1.],\n",
              "          ...,\n",
              "          [-1., -1., -1.,  ...,  1.,  1.,  1.],\n",
              "          [-1., -1., -1.,  ...,  1.,  1.,  1.],\n",
              "          [-1., -1., -1.,  ...,  1.,  1.,  1.]],\n",
              "\n",
              "         [[-1., -1., -1.,  ...,  1.,  1.,  1.],\n",
              "          [-1., -1., -1.,  ...,  1.,  1.,  1.],\n",
              "          [-1., -1., -1.,  ...,  1.,  1.,  1.],\n",
              "          ...,\n",
              "          [-1., -1., -1.,  ...,  1.,  1.,  1.],\n",
              "          [-1., -1., -1.,  ...,  1.,  1.,  1.],\n",
              "          [-1., -1., -1.,  ...,  1.,  1.,  1.]]],\n",
              "\n",
              "\n",
              "        [[[-1., -1., -1.,  ...,  1.,  1.,  1.],\n",
              "          [-1., -1., -1.,  ...,  1.,  1.,  1.],\n",
              "          [-1., -1., -1.,  ...,  1.,  1.,  1.],\n",
              "          ...,\n",
              "          [-1., -1., -1.,  ...,  1.,  1.,  1.],\n",
              "          [-1., -1., -1.,  ...,  1.,  1.,  1.],\n",
              "          [-1., -1., -1.,  ...,  1.,  1.,  1.]],\n",
              "\n",
              "         [[-1., -1., -1.,  ...,  1.,  1.,  1.],\n",
              "          [-1., -1., -1.,  ...,  1.,  1.,  1.],\n",
              "          [-1., -1., -1.,  ...,  1.,  1.,  1.],\n",
              "          ...,\n",
              "          [-1., -1., -1.,  ...,  1.,  1.,  1.],\n",
              "          [-1., -1., -1.,  ...,  1.,  1.,  1.],\n",
              "          [-1., -1., -1.,  ...,  1.,  1.,  1.]],\n",
              "\n",
              "         [[-1., -1., -1.,  ...,  1.,  1.,  1.],\n",
              "          [-1., -1., -1.,  ...,  1.,  1.,  1.],\n",
              "          [-1., -1., -1.,  ...,  1.,  1.,  1.],\n",
              "          ...,\n",
              "          [-1., -1., -1.,  ...,  1.,  1.,  1.],\n",
              "          [-1., -1., -1.,  ...,  1.,  1.,  1.],\n",
              "          [-1., -1., -1.,  ...,  1.,  1.,  1.]],\n",
              "\n",
              "         [[-1., -1., -1.,  ...,  1.,  1.,  1.],\n",
              "          [-1., -1., -1.,  ...,  1.,  1.,  1.],\n",
              "          [-1., -1., -1.,  ...,  1.,  1.,  1.],\n",
              "          ...,\n",
              "          [-1., -1., -1.,  ...,  1.,  1.,  1.],\n",
              "          [-1., -1., -1.,  ...,  1.,  1.,  1.],\n",
              "          [-1., -1., -1.,  ...,  1.,  1.,  1.]]]])"
            ]
          },
          "execution_count": 11,
          "metadata": {},
          "output_type": "execute_result"
        }
      ],
      "source": [
        "a"
      ]
    },
    {
      "cell_type": "code",
      "execution_count": 12,
      "metadata": {
        "output": {
          "id": 871925924389031,
          "loadingStatus": "loaded"
        }
      },
      "outputs": [
        {
          "data": {
            "text/plain": [
              "torch.Size([2, 10, 64])"
            ]
          },
          "execution_count": 12,
          "metadata": {},
          "output_type": "execute_result"
        }
      ],
      "source": [
        "freqs.shape"
      ]
    },
    {
      "cell_type": "code",
      "execution_count": 13,
      "metadata": {
        "output": {
          "id": 1039895167525182,
          "loadingStatus": "loaded"
        }
      },
      "outputs": [
        {
          "data": {
            "text/plain": [
              "torch.Size([2, 10, 128])"
            ]
          },
          "execution_count": 13,
          "metadata": {},
          "output_type": "execute_result"
        }
      ],
      "source": [
        "emb = torch.cat((freqs, freqs), dim=-1)\n",
        "emb.shape"
      ]
    },
    {
      "cell_type": "code",
      "execution_count": 14,
      "metadata": {
        "output": {
          "id": 491487773484721,
          "loadingStatus": "loaded"
        }
      },
      "outputs": [
        {
          "data": {
            "text/plain": [
              "torch.Size([2, 10, 128])"
            ]
          },
          "execution_count": 14,
          "metadata": {},
          "output_type": "execute_result"
        }
      ],
      "source": [
        "cos = emb.cos()\n",
        "cos.shape"
      ]
    },
    {
      "cell_type": "code",
      "execution_count": 15,
      "metadata": {
        "output": {
          "id": 8928893093794343,
          "loadingStatus": "loaded"
        }
      },
      "outputs": [
        {
          "data": {
            "text/plain": [
              "torch.Size([2, 1, 10, 128])"
            ]
          },
          "execution_count": 15,
          "metadata": {},
          "output_type": "execute_result"
        }
      ],
      "source": [
        "cos = cos.unsqueeze(1)\n",
        "cos.shape"
      ]
    },
    {
      "cell_type": "code",
      "execution_count": 16,
      "metadata": {
        "output": {
          "id": 530405546010881,
          "loadingStatus": "loaded"
        }
      },
      "outputs": [
        {
          "data": {
            "text/plain": [
              "torch.Size([2, 4, 10, 128])"
            ]
          },
          "execution_count": 16,
          "metadata": {},
          "output_type": "execute_result"
        }
      ],
      "source": [
        "a.shape"
      ]
    },
    {
      "cell_type": "code",
      "execution_count": 17,
      "metadata": {},
      "outputs": [],
      "source": [
        "def rotate_half(x):\n",
        "    x1 = x[..., :x.shape[-1] // 2]\n",
        "    x2 = x[..., x.shape[-1] // 2:]\n",
        "    return torch.cat((-x2, x1), dim=-1)"
      ]
    },
    {
      "cell_type": "code",
      "execution_count": 18,
      "metadata": {
        "output": {
          "id": 1073653721021605,
          "loadingStatus": "loaded"
        }
      },
      "outputs": [
        {
          "data": {
            "text/plain": [
              "tensor([[1, 2, 3, 4],\n",
              "        [5, 6, 7, 8]])"
            ]
          },
          "execution_count": 18,
          "metadata": {},
          "output_type": "execute_result"
        }
      ],
      "source": [
        "x = torch.tensor([[1, 2, 3, 4], [5, 6, 7, 8]])\n",
        "x"
      ]
    },
    {
      "cell_type": "code",
      "execution_count": 19,
      "metadata": {
        "output": {
          "id": 850449407150911,
          "loadingStatus": "loaded"
        }
      },
      "outputs": [
        {
          "data": {
            "text/plain": [
              "torch.Size([2, 4])"
            ]
          },
          "execution_count": 19,
          "metadata": {},
          "output_type": "execute_result"
        }
      ],
      "source": [
        "x.shape"
      ]
    },
    {
      "cell_type": "code",
      "execution_count": 20,
      "metadata": {
        "output": {
          "id": 1079502723604674,
          "loadingStatus": "loaded"
        }
      },
      "outputs": [
        {
          "data": {
            "text/plain": [
              "tensor([[-3, -4,  1,  2],\n",
              "        [-7, -8,  5,  6]])"
            ]
          },
          "execution_count": 20,
          "metadata": {},
          "output_type": "execute_result"
        }
      ],
      "source": [
        "rotate_half(x)"
      ]
    },
    {
      "cell_type": "code",
      "execution_count": 21,
      "metadata": {
        "output": {
          "id": 301337089708603,
          "loadingStatus": "loaded"
        }
      },
      "outputs": [
        {
          "data": {
            "text/plain": [
              "torch.Size([1, 10])"
            ]
          },
          "execution_count": 21,
          "metadata": {},
          "output_type": "execute_result"
        }
      ],
      "source": [
        "a = torch.arange(10).expand(1, -1)\n",
        "a.shape"
      ]
    },
    {
      "cell_type": "code",
      "execution_count": 22,
      "metadata": {},
      "outputs": [],
      "source": [
        "num_positions = 100\n",
        "emb_dim = 128\n",
        "B = 4"
      ]
    },
    {
      "cell_type": "code",
      "execution_count": 23,
      "metadata": {},
      "outputs": [],
      "source": [
        "emb_layer = nn.Embedding(num_positions, emb_dim)"
      ]
    },
    {
      "cell_type": "code",
      "execution_count": 24,
      "metadata": {},
      "outputs": [],
      "source": [
        "conv_output = torch.randn(B, num_positions, emb_dim)"
      ]
    },
    {
      "cell_type": "code",
      "execution_count": 25,
      "metadata": {
        "output": {
          "id": 494860553265642,
          "loadingStatus": "loaded"
        }
      },
      "outputs": [
        {
          "data": {
            "text/plain": [
              "torch.Size([100, 128])"
            ]
          },
          "execution_count": 25,
          "metadata": {},
          "output_type": "execute_result"
        }
      ],
      "source": [
        "position_ids = torch.arange(num_positions)\n",
        "position_emb = emb_layer(position_ids)\n",
        "position_emb.shape"
      ]
    },
    {
      "cell_type": "code",
      "execution_count": 26,
      "metadata": {},
      "outputs": [],
      "source": [
        "out_1 = conv_output + position_emb"
      ]
    },
    {
      "cell_type": "code",
      "execution_count": 27,
      "metadata": {
        "output": {
          "id": 787142836681238,
          "loadingStatus": "loaded"
        }
      },
      "outputs": [
        {
          "data": {
            "text/plain": [
              "torch.Size([4, 100, 128])"
            ]
          },
          "execution_count": 27,
          "metadata": {},
          "output_type": "execute_result"
        }
      ],
      "source": [
        "out_2 = conv_output + emb_layer(position_ids.expand(1, -1))\n",
        "out_2.shape"
      ]
    },
    {
      "cell_type": "code",
      "execution_count": 28,
      "metadata": {
        "output": {
          "id": 1481738505799273,
          "loadingStatus": "loaded"
        }
      },
      "outputs": [
        {
          "data": {
            "text/plain": [
              "True"
            ]
          },
          "execution_count": 28,
          "metadata": {},
          "output_type": "execute_result"
        }
      ],
      "source": [
        "torch.equal(out_1, out_2)"
      ]
    },
    {
      "cell_type": "code",
      "execution_count": 29,
      "metadata": {},
      "outputs": [],
      "source": [
        "B, num_heads, seq_len, emb_dim = 4, 2, 10, 128"
      ]
    },
    {
      "cell_type": "code",
      "execution_count": 30,
      "metadata": {
        "output": {
          "id": 517191450802645,
          "loadingStatus": "loaded"
        }
      },
      "outputs": [
        {
          "data": {
            "text/plain": [
              "(torch.Size([4, 2, 10, 10]), torch.Size([4, 2, 10, 64]))"
            ]
          },
          "execution_count": 30,
          "metadata": {},
          "output_type": "execute_result"
        }
      ],
      "source": [
        "attn_scores = torch.randn(B, num_heads, seq_len, seq_len)\n",
        "values = torch.randn(B, num_heads, seq_len, emb_dim // num_heads)\n",
        "attn_scores.shape, values.shape"
      ]
    },
    {
      "cell_type": "code",
      "execution_count": 31,
      "metadata": {
        "output": {
          "id": 1285157695806741,
          "loadingStatus": "loaded"
        }
      },
      "outputs": [
        {
          "data": {
            "text/plain": [
              "torch.Size([4, 2, 10, 64])"
            ]
          },
          "execution_count": 31,
          "metadata": {},
          "output_type": "execute_result"
        }
      ],
      "source": [
        "out = attn_scores @ values\n",
        "out.shape"
      ]
    },
    {
      "cell_type": "code",
      "execution_count": 32,
      "metadata": {
        "output": {
          "id": 1233186101451675,
          "loadingStatus": "loaded"
        }
      },
      "outputs": [
        {
          "data": {
            "text/plain": [
              "torch.Size([4, 10, 128])"
            ]
          },
          "execution_count": 32,
          "metadata": {},
          "output_type": "execute_result"
        }
      ],
      "source": [
        "act = torch.ones(B, seq_len, emb_dim)\n",
        "act.shape"
      ]
    },
    {
      "cell_type": "code",
      "execution_count": 33,
      "metadata": {
        "output": {
          "id": 1703465530405904,
          "loadingStatus": "loaded"
        }
      },
      "outputs": [
        {
          "data": {
            "text/plain": [
              "torch.Size([4, 10, 1])"
            ]
          },
          "execution_count": 33,
          "metadata": {},
          "output_type": "execute_result"
        }
      ],
      "source": [
        "act.mean(-1, keepdim=True).shape"
      ]
    },
    {
      "cell_type": "code",
      "execution_count": 34,
      "metadata": {},
      "outputs": [],
      "source": []
    }
  ],
  "metadata": {
    "fileHeader": "",
    "fileUid": "b06960f7-97cf-4a56-aed8-3d1a700d025a",
    "isAdHoc": false,
    "kernelspec": {
      "display_name": "gpt (local)",
      "language": "python",
      "name": "gpt_local"
    },
    "language_info": {
      "name": "plaintext"
    }
  }
}
