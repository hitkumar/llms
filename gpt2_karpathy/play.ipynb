{
 "cells": [
  {
   "cell_type": "code",
   "execution_count": 1,
   "metadata": {
    "output": {
     "id": 979799203751848,
     "loadingStatus": "loaded"
    }
   },
   "outputs": [
    {
     "name": "stderr",
     "output_type": "stream",
     "text": [
      "/home/htkumar/local/miniconda3/envs/gpt-2/lib/python3.10/site-packages/tqdm/auto.py:21: TqdmWarning: IProgress not found. Please update jupyter and ipywidgets. See https://ipywidgets.readthedocs.io/en/stable/user_install.html\n",
      "  from .autonotebook import tqdm as notebook_tqdm\n"
     ]
    }
   ],
   "source": [
    "from transformers import GPT2LMHeadModel"
   ]
  },
  {
   "cell_type": "code",
   "execution_count": 5,
   "metadata": {
    "output": {
     "id": 480524341136371,
     "loadingStatus": "loaded"
    }
   },
   "outputs": [
    {
     "name": "stderr",
     "output_type": "stream",
     "text": [
      "/home/htkumar/local/miniconda3/envs/gpt-2/lib/python3.10/site-packages/tqdm/auto.py:21: TqdmWarning: IProgress not found. Please update jupyter and ipywidgets. See https://ipywidgets.readthedocs.io/en/stable/user_install.html\n",
      "  from .autonotebook import tqdm as notebook_tqdm\n"
     ]
    }
   ],
   "source": [
    "import torch\n",
    "import torch.nn as nn\n",
    "import torch.nn.functional as F\n",
    "from datasets import load_dataset"
   ]
  },
  {
   "cell_type": "code",
   "execution_count": 3,
   "metadata": {
    "output": {
     "id": 1334712374109700,
     "loadingStatus": "loaded"
    }
   },
   "outputs": [
    {
     "data": {
      "text/plain": [
       "True"
      ]
     },
     "execution_count": 3,
     "metadata": {},
     "output_type": "execute_result"
    }
   ],
   "source": [
    "torch.cuda.is_available()"
   ]
  },
  {
   "cell_type": "code",
   "execution_count": 4,
   "metadata": {
    "output": {
     "id": 358193103975925,
     "loadingStatus": "loaded"
    }
   },
   "outputs": [
    {
     "data": {
      "text/plain": [
       "True"
      ]
     },
     "execution_count": 4,
     "metadata": {},
     "output_type": "execute_result"
    }
   ],
   "source": [
    "torch.cuda.is_bf16_supported()"
   ]
  },
  {
   "cell_type": "code",
   "execution_count": null,
   "metadata": {
    "output": {
     "id": 460782253564857,
     "loadingStatus": "loaded"
    }
   },
   "outputs": [],
   "source": [
    "torch.tril(torch.ones(8, 8)).view(1, 1, 8, 8)"
   ]
  },
  {
   "cell_type": "code",
   "execution_count": null,
   "metadata": {
    "output": {
     "id": 1749601785445025,
     "loadingStatus": "loaded"
    }
   },
   "outputs": [],
   "source": [
    "x = torch.arange(12).view(2, 2, 3)\n",
    "x.shape"
   ]
  },
  {
   "cell_type": "code",
   "execution_count": null,
   "metadata": {
    "output": {
     "id": 1884320715324407,
     "loadingStatus": "loaded"
    }
   },
   "outputs": [],
   "source": [
    "q, k, v = x.chunk(3, dim=2)\n",
    "q.shape, k.shape, v.shape"
   ]
  },
  {
   "cell_type": "code",
   "execution_count": null,
   "metadata": {
    "output": {
     "id": 455146967454013,
     "loadingStatus": "loaded"
    }
   },
   "outputs": [],
   "source": [
    "q, k, v = x.split(1, dim=2)\n",
    "q.shape, k.shape, v.shape"
   ]
  },
  {
   "cell_type": "code",
   "execution_count": null,
   "metadata": {},
   "outputs": [],
   "source": [
    "module_dict = nn.ModuleDict(\n",
    "    dict(\n",
    "        module_1=nn.Linear(10, 10),\n",
    "        module_2=nn.Linear(10, 10),\n",
    "    )\n",
    ")"
   ]
  },
  {
   "cell_type": "code",
   "execution_count": null,
   "metadata": {
    "output": {
     "id": 3892652207619737,
     "loadingStatus": "loaded"
    }
   },
   "outputs": [],
   "source": [
    "module_dict.keys()"
   ]
  },
  {
   "cell_type": "code",
   "execution_count": null,
   "metadata": {
    "output": {
     "id": 490528413533711,
     "loadingStatus": "loaded"
    }
   },
   "outputs": [],
   "source": [
    "q.shape"
   ]
  },
  {
   "cell_type": "code",
   "execution_count": null,
   "metadata": {
    "output": {
     "id": 1162430931665391,
     "loadingStatus": "loaded"
    }
   },
   "outputs": [],
   "source": [
    "q.shape[::-1]"
   ]
  },
  {
   "cell_type": "code",
   "execution_count": null,
   "metadata": {
    "output": {
     "id": 3483441518619692,
     "loadingStatus": "loaded"
    }
   },
   "outputs": [],
   "source": [
    "a = torch.arange(6).view(2, 3)\n",
    "a.shape"
   ]
  },
  {
   "cell_type": "code",
   "execution_count": null,
   "metadata": {
    "output": {
     "id": 1501707360740072,
     "loadingStatus": "loaded"
    }
   },
   "outputs": [],
   "source": [
    "a.t().shape"
   ]
  },
  {
   "cell_type": "code",
   "execution_count": null,
   "metadata": {},
   "outputs": [],
   "source": [
    "import tiktoken"
   ]
  },
  {
   "cell_type": "code",
   "execution_count": null,
   "metadata": {
    "output": {
     "id": 457653246986947,
     "loadingStatus": "loaded"
    }
   },
   "outputs": [],
   "source": [
    "a = torch.arange(12).view(3, 4).double()\n",
    "a.shape, a.dtype"
   ]
  },
  {
   "cell_type": "code",
   "execution_count": null,
   "metadata": {
    "output": {
     "id": 437219712540773,
     "loadingStatus": "loaded"
    }
   },
   "outputs": [],
   "source": [
    "a = F.softmax(a, dim=1)\n",
    "a"
   ]
  },
  {
   "cell_type": "code",
   "execution_count": null,
   "metadata": {},
   "outputs": [],
   "source": [
    "topk_probs, topk_indices = torch.topk(a, 2, dim=1)"
   ]
  },
  {
   "cell_type": "code",
   "execution_count": null,
   "metadata": {
    "output": {
     "id": 1586628228785650,
     "loadingStatus": "loaded"
    }
   },
   "outputs": [],
   "source": [
    "topk_probs"
   ]
  },
  {
   "cell_type": "code",
   "execution_count": null,
   "metadata": {
    "output": {
     "id": 1136044267482862,
     "loadingStatus": "loaded"
    }
   },
   "outputs": [],
   "source": [
    "topk_indices"
   ]
  },
  {
   "cell_type": "code",
   "execution_count": null,
   "metadata": {
    "output": {
     "id": 7727262957362172,
     "loadingStatus": "loaded"
    }
   },
   "outputs": [],
   "source": [
    "b = torch.multinomial(topk_probs, 1)\n",
    "b"
   ]
  },
  {
   "cell_type": "code",
   "execution_count": null,
   "metadata": {
    "output": {
     "id": 989682702862967,
     "loadingStatus": "loaded"
    }
   },
   "outputs": [],
   "source": [
    "b.shape"
   ]
  },
  {
   "cell_type": "code",
   "execution_count": null,
   "metadata": {
    "output": {
     "id": 3865948780358782,
     "loadingStatus": "loaded"
    }
   },
   "outputs": [],
   "source": [
    "xcol = torch.gather(topk_indices, -1, b)\n",
    "xcol"
   ]
  },
  {
   "cell_type": "code",
   "execution_count": null,
   "metadata": {
    "output": {
     "id": 441781708807519,
     "loadingStatus": "loaded"
    }
   },
   "outputs": [],
   "source": [
    "t = torch.tensor([[1, 2], [3, 4]])\n",
    "torch.gather(t, 1, torch.tensor([[0, 0], [1, 0]]))"
   ]
  },
  {
   "cell_type": "code",
   "execution_count": null,
   "metadata": {
    "output": {
     "id": 437536875794784,
     "loadingStatus": "loaded"
    }
   },
   "outputs": [],
   "source": [
    "torch.gather(t, 0, torch.tensor([[0, 0], [1, 0]]))"
   ]
  },
  {
   "cell_type": "code",
   "execution_count": null,
   "metadata": {
    "output": {
     "id": 1414781922574115,
     "loadingStatus": "loaded"
    }
   },
   "outputs": [],
   "source": [
    "a = torch.tensor(1)\n",
    "a.shape"
   ]
  },
  {
   "cell_type": "code",
   "execution_count": null,
   "metadata": {
    "output": {
     "id": 7649666835129514,
     "loadingStatus": "loaded"
    }
   },
   "outputs": [],
   "source": [
    "a.item()"
   ]
  },
  {
   "cell_type": "code",
   "execution_count": null,
   "metadata": {
    "output": {
     "id": 454530247200409,
     "loadingStatus": "loaded"
    }
   },
   "outputs": [],
   "source": [
    "a = torch.tensor([1, 2, 3])\n",
    "len(a)"
   ]
  },
  {
   "cell_type": "code",
   "execution_count": null,
   "metadata": {
    "output": {
     "id": 485231607398396,
     "loadingStatus": "loaded"
    }
   },
   "outputs": [],
   "source": [
    "import time\n",
    "\n",
    "t0 = time.time()\n",
    "t0"
   ]
  },
  {
   "cell_type": "code",
   "execution_count": null,
   "metadata": {},
   "outputs": [],
   "source": [
    "t1 = time.time()"
   ]
  },
  {
   "cell_type": "code",
   "execution_count": null,
   "metadata": {
    "output": {
     "id": 1422872198389354,
     "loadingStatus": "loaded"
    }
   },
   "outputs": [],
   "source": [
    "(t1 - t0)"
   ]
  },
  {
   "cell_type": "code",
   "execution_count": null,
   "metadata": {},
   "outputs": [],
   "source": [
    "time.time??"
   ]
  },
  {
   "cell_type": "code",
   "execution_count": 5,
   "metadata": {},
   "outputs": [],
   "source": [
    "import math"
   ]
  },
  {
   "cell_type": "code",
   "execution_count": 6,
   "metadata": {},
   "outputs": [],
   "source": [
    "max_lr = 6e-4\n",
    "min_lr = max_lr * 0.1\n",
    "warmup_steps = 10\n",
    "max_steps = 50\n",
    "\n",
    "\n",
    "def get_lr(it):\n",
    "    # linear warmup\n",
    "    if it < warmup_steps:\n",
    "        return max_lr * (it + 1) / warmup_steps\n",
    "    elif it > max_steps:\n",
    "        return min_lr\n",
    "    # cosine decay\n",
    "    decay_ratio = (it - warmup_steps) / (max_steps - warmup_steps)\n",
    "    assert 0 <= decay_ratio <= 1\n",
    "    coeff = 0.5 * (1.0 + math.cos(math.pi * decay_ratio))\n",
    "    return min_lr + coeff * (max_lr - min_lr)"
   ]
  },
  {
   "cell_type": "code",
   "execution_count": 12,
   "metadata": {
    "output": {
     "id": 8059968670720695,
     "loadingStatus": "loaded"
    }
   },
   "outputs": [],
   "source": [
    "iters = list(range(100))"
   ]
  },
  {
   "cell_type": "code",
   "execution_count": 14,
   "metadata": {
    "output": {
     "id": 483191510920635,
     "loadingStatus": "loaded"
    }
   },
   "outputs": [],
   "source": [
    "lrs = [get_lr(it) for it in iters]"
   ]
  },
  {
   "cell_type": "code",
   "execution_count": 17,
   "metadata": {
    "output": {
     "id": 2111884599182869,
     "loadingStatus": "loaded"
    }
   },
   "outputs": [
    {
     "name": "stderr",
     "output_type": "stream",
     "text": [
      "\n",
      "Bad key keymap.all_axes in file /mnt/xarfuse/uid-285367/b89978fe-seed-nspid4026531836_cgpid14017160-ns-4026531840/bento/server/matplotlibrc-3.1.3, line 76 ('keymap.all_axes : a                 # enable all axes')\n",
      "You probably need to get an updated matplotlibrc file from\n",
      "https://github.com/matplotlib/matplotlib/blob/v3.8.4/lib/matplotlib/mpl-data/matplotlibrc\n",
      "or from the matplotlib source distribution\n"
     ]
    }
   ],
   "source": [
    "import matplotlib.pyplot as plt"
   ]
  },
  {
   "cell_type": "code",
   "execution_count": 19,
   "metadata": {},
   "outputs": [],
   "source": [
    "plt.style.use(\"_mpl-gallery\")"
   ]
  },
  {
   "cell_type": "code",
   "execution_count": 21,
   "metadata": {
    "output": {
     "id": 778608654263023,
     "loadingStatus": "loaded"
    }
   },
   "outputs": [
    {
     "data": {
      "text/plain": [
       "[<matplotlib.lines.Line2D at 0x7f5e9598ead0>]"
      ]
     },
     "execution_count": 22,
     "metadata": {},
     "output_type": "execute_result"
    },
    {
     "name": "stderr",
     "output_type": "stream",
     "text": [
      "findfont: Font family 'Noto Sans TC' not found.\n"
     ]
    },
    {
     "name": "stderr",
     "output_type": "stream",
     "text": [
      "findfont: Font family 'Noto Sans SC' not found.\n"
     ]
    },
    {
     "name": "stderr",
     "output_type": "stream",
     "text": [
      "findfont: Font family 'Noto Sans TC' not found.\n"
     ]
    },
    {
     "name": "stderr",
     "output_type": "stream",
     "text": [
      "findfont: Font family 'Noto Sans SC' not found.\n"
     ]
    },
    {
     "data": {
      "image/png": "[encoded data removed]",
      "text/plain": [
       "<Figure size 200x200 with 1 Axes>"
      ]
     },
     "metadata": {},
     "output_type": "display_data"
    }
   ],
   "source": [
    "plt.plot(iters, lrs, linewidth=2.0)"
   ]
  },
  {
   "cell_type": "code",
   "execution_count": 1,
   "metadata": {
    "output": {
     "id": 7495874297201745,
     "loadingStatus": "loaded"
    }
   },
   "outputs": [
    {
     "data": {
      "text/plain": [
       "'/data/users/htkumar'"
      ]
     },
     "execution_count": 1,
     "metadata": {},
     "output_type": "execute_result"
    }
   ],
   "source": [
    "import os\n",
    "\n",
    "os.getcwd()"
   ]
  },
  {
   "cell_type": "code",
   "execution_count": 2,
   "metadata": {},
   "outputs": [],
   "source": [
    "import sys\n",
    "\n",
    "sys.path.append(\"/home/htkumar/llms/gpt2_karpathy\")"
   ]
  },
  {
   "cell_type": "code",
   "execution_count": 3,
   "metadata": {
    "output": {
     "id": 1257448388954268,
     "loadingStatus": "loaded"
    }
   },
   "outputs": [
    {
     "name": "stdout",
     "output_type": "stream",
     "text": [
      "using device: cuda\n",
      "loaded 338025 in dataloader, num_batches in 1 epoch is 20\n",
      "loss at iter 0: 10.947336196899414, time_taken: 26720.49, tokens_per_sec: 613.16, norm: 28.5689\n",
      "loss at iter 1: 9.502246856689453, time_taken: 107.53, tokens_per_sec: 152371.35, norm: 10.6583\n",
      "loss at iter 2: 9.251029968261719, time_taken: 107.51, tokens_per_sec: 152388.24, norm: 7.3670\n",
      "loss at iter 3: 9.761412620544434, time_taken: 108.47, tokens_per_sec: 151045.43, norm: 6.6522\n",
      "loss at iter 4: 9.103813171386719, time_taken: 106.80, tokens_per_sec: 153407.44, norm: 4.2447\n",
      "loss at iter 5: 8.79364013671875, time_taken: 107.71, tokens_per_sec: 152106.93, norm: 3.2618\n",
      "loss at iter 6: 8.584518432617188, time_taken: 107.02, tokens_per_sec: 153088.25, norm: 2.3656\n",
      "loss at iter 7: 8.26370620727539, time_taken: 106.81, tokens_per_sec: 153391.35, norm: 2.0581\n",
      "loss at iter 8: 7.886693954467773, time_taken: 106.93, tokens_per_sec: 153216.58, norm: 2.2193\n",
      "loss at iter 9: 7.517749786376953, time_taken: 107.59, tokens_per_sec: 152280.52, norm: 2.1480\n",
      "loss at iter 10: 7.1448822021484375, time_taken: 106.98, tokens_per_sec: 153148.63, norm: 1.8105\n",
      "loss at iter 11: 6.891427516937256, time_taken: 107.19, tokens_per_sec: 152856.01, norm: 1.2608\n",
      "loss at iter 12: 6.611016273498535, time_taken: 107.65, tokens_per_sec: 152193.17, norm: 1.0859\n",
      "loss at iter 13: 6.652338027954102, time_taken: 107.43, tokens_per_sec: 152503.56, norm: 1.1981\n",
      "loss at iter 14: 6.672340393066406, time_taken: 106.67, tokens_per_sec: 153599.46, norm: 1.0982\n",
      "loss at iter 15: 6.520816802978516, time_taken: 107.35, tokens_per_sec: 152619.06, norm: 1.6696\n",
      "loss at iter 16: 6.531906604766846, time_taken: 107.57, tokens_per_sec: 152314.94, norm: 1.1587\n",
      "loss at iter 17: 6.529350280761719, time_taken: 107.17, tokens_per_sec: 152876.07, norm: 0.9985\n",
      "loss at iter 18: 6.556347370147705, time_taken: 107.60, tokens_per_sec: 152266.01, norm: 1.1105\n",
      "loss at iter 19: 6.37991189956665, time_taken: 107.65, tokens_per_sec: 152194.85, norm: 1.7567\n",
      "loss at iter 20: 6.507857799530029, time_taken: 107.51, tokens_per_sec: 152390.94, norm: 1.6225\n",
      "loss at iter 21: 6.20208740234375, time_taken: 107.81, tokens_per_sec: 151969.69, norm: 1.3715\n",
      "loss at iter 22: 6.276354789733887, time_taken: 108.30, tokens_per_sec: 151285.51, norm: 1.1291\n",
      "loss at iter 23: 6.180556297302246, time_taken: 107.19, tokens_per_sec: 152851.59, norm: 1.3671\n",
      "loss at iter 24: 6.08558464050293, time_taken: 107.26, tokens_per_sec: 152750.68, norm: 1.1017\n",
      "loss at iter 25: 6.314226150512695, time_taken: 107.87, tokens_per_sec: 151889.07, norm: 1.0091\n",
      "loss at iter 26: 6.399629592895508, time_taken: 107.32, tokens_per_sec: 152661.10, norm: 1.1801\n",
      "loss at iter 27: 6.263822555541992, time_taken: 107.39, tokens_per_sec: 152563.83, norm: 1.2027\n",
      "loss at iter 28: 6.164924621582031, time_taken: 107.85, tokens_per_sec: 151914.59, norm: 0.7216\n",
      "loss at iter 29: 6.076641082763672, time_taken: 107.32, tokens_per_sec: 152661.78, norm: 0.8498\n",
      "loss at iter 30: 6.049956798553467, time_taken: 107.66, tokens_per_sec: 152178.00, norm: 0.8247\n",
      "loss at iter 31: 6.028459548950195, time_taken: 108.46, tokens_per_sec: 151061.03, norm: 0.8164\n",
      "loss at iter 32: 5.95688009262085, time_taken: 107.23, tokens_per_sec: 152789.74, norm: 0.7217\n",
      "loss at iter 33: 6.116900444030762, time_taken: 108.63, tokens_per_sec: 150829.94, norm: 0.8787\n",
      "loss at iter 34: 6.242204666137695, time_taken: 107.60, tokens_per_sec: 152261.62, norm: 1.0942\n",
      "loss at iter 35: 6.097507476806641, time_taken: 108.05, tokens_per_sec: 151638.04, norm: 0.7262\n",
      "loss at iter 36: 6.053888320922852, time_taken: 107.56, tokens_per_sec: 152327.44, norm: 0.9026\n",
      "loss at iter 37: 6.048734664916992, time_taken: 108.18, tokens_per_sec: 151453.56, norm: 0.7898\n",
      "loss at iter 38: 6.06107234954834, time_taken: 107.44, tokens_per_sec: 152492.39, norm: 0.9281\n",
      "loss at iter 39: 5.931937217712402, time_taken: 107.50, tokens_per_sec: 152408.18, norm: 1.1310\n",
      "loss at iter 40: 6.132922172546387, time_taken: 107.88, tokens_per_sec: 151872.96, norm: 0.7955\n",
      "loss at iter 41: 5.880884170532227, time_taken: 107.79, tokens_per_sec: 151999.94, norm: 1.0073\n",
      "loss at iter 42: 6.002288818359375, time_taken: 107.59, tokens_per_sec: 152284.57, norm: 0.7394\n",
      "loss at iter 43: 5.861666679382324, time_taken: 107.96, tokens_per_sec: 151759.60, norm: 0.7857\n",
      "loss at iter 44: 5.804477214813232, time_taken: 107.62, tokens_per_sec: 152240.37, norm: 0.8151\n",
      "loss at iter 45: 6.009209632873535, time_taken: 107.64, tokens_per_sec: 152217.10, norm: 0.8687\n",
      "loss at iter 46: 6.145229816436768, time_taken: 108.20, tokens_per_sec: 151426.19, norm: 0.7972\n",
      "loss at iter 47: 6.030853748321533, time_taken: 107.79, tokens_per_sec: 151993.89, norm: 0.7771\n",
      "loss at iter 48: 5.967168807983398, time_taken: 107.52, tokens_per_sec: 152385.87, norm: 0.5640\n",
      "loss at iter 49: 5.880896091461182, time_taken: 107.80, tokens_per_sec: 151985.48, norm: 0.7001\n"
     ]
    }
   ],
   "source": [
    "from train_gpt2 import GPT, GPTConfig\n",
    "\n",
    "model = GPT(GPTConfig(vocab_size=50304))"
   ]
  },
  {
   "cell_type": "code",
   "execution_count": 6,
   "metadata": {},
   "outputs": [],
   "source": [
    "optimizer = torch.optim.AdamW(model.parameters(), lr=3e-4, betas=(0.9, 0.95), eps=1e-9)"
   ]
  },
  {
   "cell_type": "code",
   "execution_count": 13,
   "metadata": {},
   "outputs": [
    {
     "data": {
      "text/plain": [
       "0.0003"
      ]
     },
     "execution_count": 14,
     "metadata": {},
     "output_type": "execute_result"
    }
   ],
   "source": [
    "optimizer.param_groups[0][\"lr\"]"
   ]
  },
  {
   "cell_type": "code",
   "execution_count": null,
   "metadata": {},
   "outputs": [],
   "source": []
  }
 ],
 "metadata": {
  "fileHeader": "",
  "fileUid": "85155958-28a9-4f49-844f-e50516dbc8c5",
  "isAdHoc": false,
  "kernelspec": {
   "display_name": "gpt-2 (local)",
   "language": "python",
   "name": "gpt-2_local"
  }
 },
 "nbformat": 4,
 "nbformat_minor": 2
}
