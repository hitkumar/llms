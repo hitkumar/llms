{
  "cells": [
    {
      "cell_type": "code",
      "execution_count": 1,
      "metadata": {
        "output": {
          "id": 835705088077767,
          "loadingStatus": "loaded"
        }
      },
      "outputs": [
        {
          "name": "stderr",
          "output_type": "stream",
          "text": [
            "/home/htkumar/local/miniconda3/envs/gpt-2/lib/python3.10/site-packages/tqdm/auto.py:21: TqdmWarning: IProgress not found. Please update jupyter and ipywidgets. See https://ipywidgets.readthedocs.io/en/stable/user_install.html\n",
            "  from .autonotebook import tqdm as notebook_tqdm\n"
          ]
        }
      ],
      "source": [
        "from transformers import GPT2LMHeadModel"
      ]
    },
    {
      "cell_type": "code",
      "execution_count": 2,
      "metadata": {},
      "outputs": [],
      "source": [
        "import sys\n",
        "\n",
        "sys.path.append(\"/home/htkumar/llms/gpt2_karpathy\")"
      ]
    },
    {
      "cell_type": "code",
      "execution_count": 23,
      "metadata": {
        "output": {
          "id": 913804740551745,
          "loadingStatus": "loaded"
        }
      },
      "outputs": [],
      "source": [
        "import os\n",
        "\n",
        "import matplotlib.pyplot as plt\n",
        "\n",
        "import tiktoken\n",
        "\n",
        "import torch\n",
        "import torch.nn as nn\n",
        "import torch.nn.functional as F\n",
        "from datasets import load_dataset\n",
        "from model import GPT, GPTConfig\n",
        "\n",
        "%matplotlib inline"
      ]
    },
    {
      "cell_type": "code",
      "execution_count": 4,
      "metadata": {
        "output": {
          "id": 864599185510497,
          "loadingStatus": "loaded"
        }
      },
      "outputs": [],
      "source": [
        "device = \"cuda\"\n",
        "experiment_id = \"base_gpt2\"\n",
        "LOGS_DIR = f\"/home/htkumar/llms/gpt2_karpathy/logs_{experiment_id}\"\n",
        "step = 19072"
      ]
    },
    {
      "cell_type": "code",
      "execution_count": 5,
      "metadata": {
        "output": {
          "id": 362950246816660,
          "loadingStatus": "loaded"
        }
      },
      "outputs": [
        {
          "data": {
            "text/plain": [
              "<All keys matched successfully>"
            ]
          },
          "execution_count": 5,
          "metadata": {},
          "output_type": "execute_result"
        }
      ],
      "source": [
        "model = GPT(GPTConfig(vocab_size=50304))\n",
        "model.to(device)\n",
        "model = torch.compile(model)\n",
        "checkpoint_file = torch.load(os.path.join(LOGS_DIR, f\"model_{step:05d}.pt\"))\n",
        "model.load_state_dict(checkpoint_file[\"model\"])"
      ]
    },
    {
      "cell_type": "code",
      "execution_count": 28,
      "metadata": {},
      "outputs": [],
      "source": [
        "torch.manual_seed(42)\n",
        "torch.cuda.manual_seed(42)"
      ]
    },
    {
      "cell_type": "code",
      "execution_count": 7,
      "metadata": {},
      "outputs": [],
      "source": [
        "def generate_from_model(model):\n",
        "    # generate from the model\n",
        "    num_return_sequences = 5\n",
        "    max_length = 32\n",
        "    enc = tiktoken.get_encoding(\"gpt2\")\n",
        "    tokens = enc.encode(\"Hello, I'm a language model,\")\n",
        "    tokens = [15496, 11, 314, 1101, 257, 3303, 2746, 11]\n",
        "    tokens = torch.tensor(tokens, dtype=torch.long)  # (8,)\n",
        "    tokens = tokens.unsqueeze(0).repeat(num_return_sequences, 1)  # (5, 8)\n",
        "    x = tokens.to(device)\n",
        "\n",
        "    sample_rng = torch.Generator(device=device)\n",
        "    sample_rng.manual_seed(42)\n",
        "\n",
        "    # (B, T)\n",
        "    while x.size(1) < max_length:\n",
        "        with torch.no_grad():\n",
        "            # (B, T, vocab_size)\n",
        "            with torch.autocast(device_type=device, dtype=torch.bfloat16):\n",
        "                logits, loss = model(x)\n",
        "            # (B, vocab_size)\n",
        "            # print(logits.shape)\n",
        "            logits = logits[:, -1, :]\n",
        "            probs = F.softmax(logits, dim=-1)\n",
        "\n",
        "            # (B, 50)\n",
        "            topk_probs, topk_indices = torch.topk(probs, 50, dim=-1)\n",
        "            new_id = torch.multinomial(topk_probs, num_samples=1)  # (B, 1)\n",
        "            new_id = torch.gather(topk_indices, -1, new_id)  # (B, 1)\n",
        "            # (B, T + 1)\n",
        "            x = torch.cat((x, new_id), dim=-1)\n",
        "\n",
        "    for i in range(num_return_sequences):\n",
        "        decoded = enc.decode(x[i].tolist())\n",
        "        print(f\"{i} {decoded}\")"
      ]
    },
    {
      "cell_type": "code",
      "execution_count": 8,
      "metadata": {},
      "outputs": [],
      "source": [
        "def generate_from_hf_model(model):\n",
        "    # generate from the model\n",
        "    num_return_sequences = 5\n",
        "    max_length = 32\n",
        "    enc = tiktoken.get_encoding(\"gpt2\")\n",
        "    tokens = enc.encode(\"Hello, I'm a language model,\")\n",
        "    tokens = [15496, 11, 314, 1101, 257, 3303, 2746, 11]\n",
        "    tokens = torch.tensor(tokens, dtype=torch.long)  # (8,)\n",
        "    tokens = tokens.unsqueeze(0).repeat(num_return_sequences, 1)  # (5, 8)\n",
        "    x = tokens.to(device)\n",
        "\n",
        "    sample_rng = torch.Generator(device=device)\n",
        "    sample_rng.manual_seed(42)\n",
        "\n",
        "    # (B, T)\n",
        "    while x.size(1) < max_length:\n",
        "        with torch.no_grad():\n",
        "            # (B, T, vocab_size)\n",
        "            with torch.autocast(device_type=device, dtype=torch.bfloat16):\n",
        "                logits = model(x)[0]\n",
        "            # (B, vocab_size)\n",
        "            # print(logits.shape)\n",
        "            logits = logits[:, -1, :]\n",
        "            probs = F.softmax(logits, dim=-1)\n",
        "\n",
        "            # (B, 50)\n",
        "            topk_probs, topk_indices = torch.topk(probs, 50, dim=-1)\n",
        "            new_id = torch.multinomial(topk_probs, num_samples=1)  # (B, 1)\n",
        "            new_id = torch.gather(topk_indices, -1, new_id)  # (B, 1)\n",
        "            # (B, T + 1)\n",
        "            x = torch.cat((x, new_id), dim=-1)\n",
        "\n",
        "    for i in range(num_return_sequences):\n",
        "        decoded = enc.decode(x[i].tolist())\n",
        "        print(f\"{i} {decoded}\")"
      ]
    },
    {
      "cell_type": "code",
      "execution_count": 9,
      "metadata": {
        "output": {
          "id": 1872641143208686,
          "loadingStatus": "loaded"
        }
      },
      "outputs": [
        {
          "name": "stderr",
          "output_type": "stream",
          "text": [
            "/home/htkumar/local/miniconda3/envs/gpt-2/lib/python3.10/site-packages/huggingface_hub/file_download.py:1132: FutureWarning: `resume_download` is deprecated and will be removed in version 1.0.0. Downloads always resume when possible. If you want to force a new download, use `force_download=True`.\n",
            "  warnings.warn(\n"
          ]
        },
        {
          "data": {
            "text/plain": [
              "odict_keys(['transformer.wte.weight', 'transformer.wpe.weight', 'transformer.h.0.ln_1.weight', 'transformer.h.0.ln_1.bias', 'transformer.h.0.attn.c_attn.weight', 'transformer.h.0.attn.c_attn.bias', 'transformer.h.0.attn.c_proj.weight', 'transformer.h.0.attn.c_proj.bias', 'transformer.h.0.ln_2.weight', 'transformer.h.0.ln_2.bias', 'transformer.h.0.mlp.c_fc.weight', 'transformer.h.0.mlp.c_fc.bias', 'transformer.h.0.mlp.c_proj.weight', 'transformer.h.0.mlp.c_proj.bias', 'transformer.h.1.ln_1.weight', 'transformer.h.1.ln_1.bias', 'transformer.h.1.attn.c_attn.weight', 'transformer.h.1.attn.c_attn.bias', 'transformer.h.1.attn.c_proj.weight', 'transformer.h.1.attn.c_proj.bias', 'transformer.h.1.ln_2.weight', 'transformer.h.1.ln_2.bias', 'transformer.h.1.mlp.c_fc.weight', 'transformer.h.1.mlp.c_fc.bias', 'transformer.h.1.mlp.c_proj.weight', 'transformer.h.1.mlp.c_proj.bias', 'transformer.h.2.ln_1.weight', 'transformer.h.2.ln_1.bias', 'transformer.h.2.attn.c_attn.weight', 'transformer.h.2.attn.c_attn.bias', 'transformer.h.2.attn.c_proj.weight', 'transformer.h.2.attn.c_proj.bias', 'transformer.h.2.ln_2.weight', 'transformer.h.2.ln_2.bias', 'transformer.h.2.mlp.c_fc.weight', 'transformer.h.2.mlp.c_fc.bias', 'transformer.h.2.mlp.c_proj.weight', 'transformer.h.2.mlp.c_proj.bias', 'transformer.h.3.ln_1.weight', 'transformer.h.3.ln_1.bias', 'transformer.h.3.attn.c_attn.weight', 'transformer.h.3.attn.c_attn.bias', 'transformer.h.3.attn.c_proj.weight', 'transformer.h.3.attn.c_proj.bias', 'transformer.h.3.ln_2.weight', 'transformer.h.3.ln_2.bias', 'transformer.h.3.mlp.c_fc.weight', 'transformer.h.3.mlp.c_fc.bias', 'transformer.h.3.mlp.c_proj.weight', 'transformer.h.3.mlp.c_proj.bias', 'transformer.h.4.ln_1.weight', 'transformer.h.4.ln_1.bias', 'transformer.h.4.attn.c_attn.weight', 'transformer.h.4.attn.c_attn.bias', 'transformer.h.4.attn.c_proj.weight', 'transformer.h.4.attn.c_proj.bias', 'transformer.h.4.ln_2.weight', 'transformer.h.4.ln_2.bias', 'transformer.h.4.mlp.c_fc.weight', 'transformer.h.4.mlp.c_fc.bias', 'transformer.h.4.mlp.c_proj.weight', 'transformer.h.4.mlp.c_proj.bias', 'transformer.h.5.ln_1.weight', 'transformer.h.5.ln_1.bias', 'transformer.h.5.attn.c_attn.weight', 'transformer.h.5.attn.c_attn.bias', 'transformer.h.5.attn.c_proj.weight', 'transformer.h.5.attn.c_proj.bias', 'transformer.h.5.ln_2.weight', 'transformer.h.5.ln_2.bias', 'transformer.h.5.mlp.c_fc.weight', 'transformer.h.5.mlp.c_fc.bias', 'transformer.h.5.mlp.c_proj.weight', 'transformer.h.5.mlp.c_proj.bias', 'transformer.h.6.ln_1.weight', 'transformer.h.6.ln_1.bias', 'transformer.h.6.attn.c_attn.weight', 'transformer.h.6.attn.c_attn.bias', 'transformer.h.6.attn.c_proj.weight', 'transformer.h.6.attn.c_proj.bias', 'transformer.h.6.ln_2.weight', 'transformer.h.6.ln_2.bias', 'transformer.h.6.mlp.c_fc.weight', 'transformer.h.6.mlp.c_fc.bias', 'transformer.h.6.mlp.c_proj.weight', 'transformer.h.6.mlp.c_proj.bias', 'transformer.h.7.ln_1.weight', 'transformer.h.7.ln_1.bias', 'transformer.h.7.attn.c_attn.weight', 'transformer.h.7.attn.c_attn.bias', 'transformer.h.7.attn.c_proj.weight', 'transformer.h.7.attn.c_proj.bias', 'transformer.h.7.ln_2.weight', 'transformer.h.7.ln_2.bias', 'transformer.h.7.mlp.c_fc.weight', 'transformer.h.7.mlp.c_fc.bias', 'transformer.h.7.mlp.c_proj.weight', 'transformer.h.7.mlp.c_proj.bias', 'transformer.h.8.ln_1.weight', 'transformer.h.8.ln_1.bias', 'transformer.h.8.attn.c_attn.weight', 'transformer.h.8.attn.c_attn.bias', 'transformer.h.8.attn.c_proj.weight', 'transformer.h.8.attn.c_proj.bias', 'transformer.h.8.ln_2.weight', 'transformer.h.8.ln_2.bias', 'transformer.h.8.mlp.c_fc.weight', 'transformer.h.8.mlp.c_fc.bias', 'transformer.h.8.mlp.c_proj.weight', 'transformer.h.8.mlp.c_proj.bias', 'transformer.h.9.ln_1.weight', 'transformer.h.9.ln_1.bias', 'transformer.h.9.attn.c_attn.weight', 'transformer.h.9.attn.c_attn.bias', 'transformer.h.9.attn.c_proj.weight', 'transformer.h.9.attn.c_proj.bias', 'transformer.h.9.ln_2.weight', 'transformer.h.9.ln_2.bias', 'transformer.h.9.mlp.c_fc.weight', 'transformer.h.9.mlp.c_fc.bias', 'transformer.h.9.mlp.c_proj.weight', 'transformer.h.9.mlp.c_proj.bias', 'transformer.h.10.ln_1.weight', 'transformer.h.10.ln_1.bias', 'transformer.h.10.attn.c_attn.weight', 'transformer.h.10.attn.c_attn.bias', 'transformer.h.10.attn.c_proj.weight', 'transformer.h.10.attn.c_proj.bias', 'transformer.h.10.ln_2.weight', 'transformer.h.10.ln_2.bias', 'transformer.h.10.mlp.c_fc.weight', 'transformer.h.10.mlp.c_fc.bias', 'transformer.h.10.mlp.c_proj.weight', 'transformer.h.10.mlp.c_proj.bias', 'transformer.h.11.ln_1.weight', 'transformer.h.11.ln_1.bias', 'transformer.h.11.attn.c_attn.weight', 'transformer.h.11.attn.c_attn.bias', 'transformer.h.11.attn.c_proj.weight', 'transformer.h.11.attn.c_proj.bias', 'transformer.h.11.ln_2.weight', 'transformer.h.11.ln_2.bias', 'transformer.h.11.mlp.c_fc.weight', 'transformer.h.11.mlp.c_fc.bias', 'transformer.h.11.mlp.c_proj.weight', 'transformer.h.11.mlp.c_proj.bias', 'transformer.ln_f.weight', 'transformer.ln_f.bias', 'lm_head.weight'])"
            ]
          },
          "execution_count": 9,
          "metadata": {},
          "output_type": "execute_result"
        }
      ],
      "source": [
        "model_hf = GPT2LMHeadModel.from_pretrained(\"gpt2\")\n",
        "sd_hf = model_hf.state_dict()\n",
        "sd_hf.keys()"
      ]
    },
    {
      "cell_type": "code",
      "execution_count": 14,
      "metadata": {
        "output": {
          "id": 1548951372325900,
          "loadingStatus": "loaded"
        }
      },
      "outputs": [
        {
          "name": "stdout",
          "output_type": "stream",
          "text": [
            "0 Hello, I'm a language model, and I do not want to spend much time studying in English. (Or in any language.) This book makes me very\n",
            "1 Hello, I'm a language model, not a problem solver. I find it really surprising that in many games there are a lot of characters, and you\n",
            "2 Hello, I'm a language model, not a designer,\" he writes. \"I love reading and doing what I do best.\"\n",
            "\n",
            "Yet, while the\n",
            "3 Hello, I'm a language model, you said. You're talking to me, yeah?\n",
            "\n",
            "The only reason for it is that most people who play\n",
            "4 Hello, I'm a language model, so I can say that every single program I write as a Java programmer was written from a programming language, but we can\n"
          ]
        }
      ],
      "source": [
        "model_hf.eval()\n",
        "model_hf.to(device)\n",
        "torch.manual_seed(42)\n",
        "torch.cuda.manual_seed(42)\n",
        "generate_from_hf_model(model_hf)"
      ]
    },
    {
      "cell_type": "code",
      "execution_count": null,
      "metadata": {},
      "outputs": [],
      "source": [
        "generate_from_model(model)"
      ]
    },
    {
      "cell_type": "code",
      "execution_count": null,
      "metadata": {},
      "outputs": [],
      "source": [
        "print(sd_hf[\"lm_head.weight\"].data_ptr())\n",
        "print(sd_hf[\"transformer.wte.weight\"].data_ptr())"
      ]
    },
    {
      "cell_type": "code",
      "execution_count": null,
      "metadata": {},
      "outputs": [],
      "source": [
        "for k, v in sd_hf.items():\n",
        "    print(k, v.shape)"
      ]
    },
    {
      "cell_type": "code",
      "execution_count": null,
      "metadata": {},
      "outputs": [],
      "source": [
        "sd_hf[\"transformer.wpe.weight\"].shape"
      ]
    },
    {
      "cell_type": "code",
      "execution_count": null,
      "metadata": {},
      "outputs": [],
      "source": [
        "sd_hf[\"transformer.wpe.weight\"].view(-1)[:20]"
      ]
    },
    {
      "cell_type": "code",
      "execution_count": null,
      "metadata": {},
      "outputs": [],
      "source": [
        "plt.imshow(sd_hf[\"transformer.wpe.weight\"], cmap=\"gray\")"
      ]
    },
    {
      "cell_type": "code",
      "execution_count": null,
      "metadata": {},
      "outputs": [],
      "source": [
        "plt.plot(sd_hf[\"transformer.wpe.weight\"][:, 150])"
      ]
    },
    {
      "cell_type": "code",
      "execution_count": null,
      "metadata": {},
      "outputs": [],
      "source": [
        "plt.plot(sd_hf[\"transformer.wpe.weight\"][:, 200])"
      ]
    },
    {
      "cell_type": "code",
      "execution_count": null,
      "metadata": {},
      "outputs": [],
      "source": [
        "plt.plot(sd_hf[\"transformer.wpe.weight\"][:, 250])"
      ]
    },
    {
      "cell_type": "code",
      "execution_count": null,
      "metadata": {},
      "outputs": [],
      "source": [
        "plt.plot(sd_hf[\"transformer.wpe.weight\"][:, 0])"
      ]
    },
    {
      "cell_type": "code",
      "execution_count": null,
      "metadata": {},
      "outputs": [],
      "source": [
        "plt.imshow(sd_hf[\"transformer.h.1.attn.c_attn.weight\"][:300, :300], cmap=\"gray\")"
      ]
    },
    {
      "cell_type": "code",
      "execution_count": null,
      "metadata": {},
      "outputs": [],
      "source": [
        "# from transformers import pipeline, set_seed\n",
        "\n",
        "# generator = pipeline(\"text-generation\", model=\"gpt2\")\n",
        "# set_seed(42)\n",
        "# generator(\"Hello, I'm a language model,\", max_length=30, num_return_sequences=5)"
      ]
    },
    {
      "cell_type": "code",
      "execution_count": null,
      "metadata": {},
      "outputs": [],
      "source": [
        "# check impact of gradient accumulation\n",
        "\n",
        "net = nn.Sequential(\n",
        "    nn.Linear(16, 32),\n",
        "    nn.GELU(),\n",
        "    nn.Linear(32, 1),\n",
        ")\n",
        "\n",
        "torch.random.manual_seed(42)\n",
        "x = torch.randn(4, 16)\n",
        "y = torch.randn(4, 1)\n",
        "net.zero_grad()\n",
        "yhat = net(x)\n",
        "\n",
        "loss = F.mse_loss(yhat, y)\n",
        "loss.backward()\n",
        "net[0].weight.grad.view(-1)[:10]"
      ]
    },
    {
      "cell_type": "code",
      "execution_count": null,
      "metadata": {},
      "outputs": [],
      "source": [
        "net.zero_grad()\n",
        "for i in range(4):\n",
        "    yhat = net(x[i])\n",
        "    loss = F.mse_loss(yhat, y[i])\n",
        "    loss /= 4\n",
        "    loss.backward()\n",
        "\n",
        "net[0].weight.grad.view(-1)[:10]"
      ]
    },
    {
      "cell_type": "code",
      "execution_count": null,
      "metadata": {},
      "outputs": [],
      "source": [
        "# analyze the logfile generated after initial training"
      ]
    },
    {
      "cell_type": "code",
      "execution_count": 29,
      "metadata": {
        "output": {
          "id": 492701879900281,
          "loadingStatus": "loaded"
        }
      },
      "outputs": [
        {
          "name": "stdout",
          "output_type": "stream",
          "text": [
            "found 1 for split val\n"
          ]
        }
      ],
      "source": [
        "# calculate validation loss of gpt2 from hf to serve as baseline\n",
        "from dataloader import DataLoaderLite\n",
        "\n",
        "val_dataloader = DataLoaderLite(\n",
        "    B=16, T=1024, process_rank=0, num_processes=1, split=\"val\"\n",
        ")"
      ]
    },
    {
      "cell_type": "code",
      "execution_count": 30,
      "metadata": {},
      "outputs": [],
      "source": [
        "from tqdm import tqdm"
      ]
    },
    {
      "cell_type": "code",
      "execution_count": 31,
      "metadata": {
        "output": {
          "id": 1180142416565266,
          "loadingStatus": "loaded"
        }
      },
      "outputs": [
        {
          "name": "stderr",
          "output_type": "stream",
          "text": [
            "\rEvaluating validation loss:   0%|          | 0/100 [00:00<?, ?it/s]\rEvaluating validation loss:   2%|▏         | 2/100 [00:00<00:18,  5.29it/s]\rEvaluating validation loss:   3%|▎         | 3/100 [00:00<00:25,  3.80it/s]\rEvaluating validation loss:   4%|▍         | 4/100 [00:01<00:29,  3.30it/s]\rEvaluating validation loss:   5%|▌         | 5/100 [00:01<00:30,  3.07it/s]\rEvaluating validation loss:   6%|▌         | 6/100 [00:01<00:31,  2.94it/s]\rEvaluating validation loss:   7%|▋         | 7/100 [00:02<00:32,  2.87it/s]\rEvaluating validation loss:   8%|▊         | 8/100 [00:02<00:32,  2.82it/s]\rEvaluating validation loss:   9%|▉         | 9/100 [00:02<00:32,  2.78it/s]\rEvaluating validation loss:  10%|█         | 10/100 [00:03<00:32,  2.76it/s]\rEvaluating validation loss:  11%|█         | 11/100 [00:03<00:32,  2.74it/s]\rEvaluating validation loss:  12%|█▏        | 12/100 [00:04<00:32,  2.73it/s]\rEvaluating validation loss:  13%|█▎        | 13/100 [00:04<00:31,  2.73it/s]\rEvaluating validation loss:  14%|█▍        | 14/100 [00:04<00:31,  2.72it/s]\rEvaluating validation loss:  15%|█▌        | 15/100 [00:05<00:31,  2.72it/s]\rEvaluating validation loss:  16%|█▌        | 16/100 [00:05<00:30,  2.71it/s]\rEvaluating validation loss:  17%|█▋        | 17/100 [00:05<00:30,  2.71it/s]\rEvaluating validation loss:  18%|█▊        | 18/100 [00:06<00:30,  2.71it/s]\rEvaluating validation loss:  19%|█▉        | 19/100 [00:06<00:29,  2.71it/s]\rEvaluating validation loss:  20%|██        | 20/100 [00:07<00:29,  2.71it/s]\rEvaluating validation loss:  21%|██        | 21/100 [00:07<00:29,  2.71it/s]\rEvaluating validation loss:  22%|██▏       | 22/100 [00:07<00:28,  2.70it/s]\rEvaluating validation loss:  23%|██▎       | 23/100 [00:08<00:28,  2.70it/s]\rEvaluating validation loss:  24%|██▍       | 24/100 [00:08<00:28,  2.70it/s]\rEvaluating validation loss:  25%|██▌       | 25/100 [00:08<00:27,  2.70it/s]\rEvaluating validation loss:  26%|██▌       | 26/100 [00:09<00:27,  2.70it/s]\rEvaluating validation loss:  27%|██▋       | 27/100 [00:09<00:27,  2.70it/s]\rEvaluating validation loss:  28%|██▊       | 28/100 [00:09<00:26,  2.70it/s]\rEvaluating validation loss:  29%|██▉       | 29/100 [00:10<00:26,  2.70it/s]\rEvaluating validation loss:  30%|███       | 30/100 [00:10<00:25,  2.70it/s]\rEvaluating validation loss:  31%|███       | 31/100 [00:11<00:25,  2.70it/s]\rEvaluating validation loss:  32%|███▏      | 32/100 [00:11<00:25,  2.70it/s]\rEvaluating validation loss:  33%|███▎      | 33/100 [00:11<00:24,  2.70it/s]\rEvaluating validation loss:  34%|███▍      | 34/100 [00:12<00:24,  2.70it/s]\rEvaluating validation loss:  35%|███▌      | 35/100 [00:12<00:24,  2.70it/s]\rEvaluating validation loss:  36%|███▌      | 36/100 [00:12<00:23,  2.70it/s]\rEvaluating validation loss:  37%|███▋      | 37/100 [00:13<00:23,  2.70it/s]\rEvaluating validation loss:  38%|███▊      | 38/100 [00:13<00:22,  2.70it/s]\rEvaluating validation loss:  39%|███▉      | 39/100 [00:14<00:22,  2.70it/s]\rEvaluating validation loss:  40%|████      | 40/100 [00:14<00:22,  2.70it/s]\rEvaluating validation loss:  41%|████      | 41/100 [00:14<00:21,  2.70it/s]\rEvaluating validation loss:  42%|████▏     | 42/100 [00:15<00:21,  2.70it/s]\rEvaluating validation loss:  43%|████▎     | 43/100 [00:15<00:21,  2.70it/s]\rEvaluating validation loss:  44%|████▍     | 44/100 [00:15<00:20,  2.70it/s]\rEvaluating validation loss:  45%|████▌     | 45/100 [00:16<00:20,  2.70it/s]\rEvaluating validation loss:  46%|████▌     | 46/100 [00:16<00:19,  2.70it/s]\rEvaluating validation loss:  47%|████▋     | 47/100 [00:17<00:19,  2.70it/s]\rEvaluating validation loss:  48%|████▊     | 48/100 [00:17<00:19,  2.70it/s]\rEvaluating validation loss:  49%|████▉     | 49/100 [00:17<00:18,  2.70it/s]\rEvaluating validation loss:  50%|█████     | 50/100 [00:18<00:18,  2.70it/s]\rEvaluating validation loss:  51%|█████     | 51/100 [00:18<00:18,  2.70it/s]\rEvaluating validation loss:  52%|█████▏    | 52/100 [00:18<00:17,  2.70it/s]\rEvaluating validation loss:  53%|█████▎    | 53/100 [00:19<00:17,  2.70it/s]\rEvaluating validation loss:  54%|█████▍    | 54/100 [00:19<00:17,  2.70it/s]\rEvaluating validation loss:  55%|█████▌    | 55/100 [00:19<00:16,  2.70it/s]\rEvaluating validation loss:  56%|█████▌    | 56/100 [00:20<00:16,  2.70it/s]\rEvaluating validation loss:  57%|█████▋    | 57/100 [00:20<00:15,  2.70it/s]\rEvaluating validation loss:  58%|█████▊    | 58/100 [00:21<00:15,  2.70it/s]\rEvaluating validation loss:  59%|█████▉    | 59/100 [00:21<00:15,  2.70it/s]\rEvaluating validation loss:  60%|██████    | 60/100 [00:21<00:14,  2.70it/s]\rEvaluating validation loss:  61%|██████    | 61/100 [00:22<00:14,  2.70it/s]\rEvaluating validation loss:  62%|██████▏   | 62/100 [00:22<00:14,  2.70it/s]\rEvaluating validation loss:  63%|██████▎   | 63/100 [00:22<00:13,  2.69it/s]\rEvaluating validation loss:  64%|██████▍   | 64/100 [00:23<00:13,  2.70it/s]\rEvaluating validation loss:  65%|██████▌   | 65/100 [00:23<00:12,  2.69it/s]\rEvaluating validation loss:  66%|██████▌   | 66/100 [00:24<00:12,  2.69it/s]\rEvaluating validation loss:  67%|██████▋   | 67/100 [00:24<00:12,  2.70it/s]\rEvaluating validation loss:  68%|██████▊   | 68/100 [00:24<00:11,  2.69it/s]\rEvaluating validation loss:  69%|██████▉   | 69/100 [00:25<00:11,  2.69it/s]\rEvaluating validation loss:  70%|███████   | 70/100 [00:25<00:11,  2.69it/s]\rEvaluating validation loss:  71%|███████   | 71/100 [00:25<00:10,  2.69it/s]\rEvaluating validation loss:  72%|███████▏  | 72/100 [00:26<00:10,  2.69it/s]\rEvaluating validation loss:  73%|███████▎  | 73/100 [00:26<00:10,  2.69it/s]\rEvaluating validation loss:  74%|███████▍  | 74/100 [00:27<00:09,  2.69it/s]\rEvaluating validation loss:  75%|███████▌  | 75/100 [00:27<00:09,  2.69it/s]\rEvaluating validation loss:  76%|███████▌  | 76/100 [00:27<00:08,  2.69it/s]\rEvaluating validation loss:  77%|███████▋  | 77/100 [00:28<00:08,  2.69it/s]\rEvaluating validation loss:  78%|███████▊  | 78/100 [00:28<00:08,  2.69it/s]\rEvaluating validation loss:  79%|███████▉  | 79/100 [00:28<00:07,  2.69it/s]\rEvaluating validation loss:  80%|████████  | 80/100 [00:29<00:07,  2.69it/s]\rEvaluating validation loss:  81%|████████  | 81/100 [00:29<00:07,  2.69it/s]\rEvaluating validation loss:  82%|████████▏ | 82/100 [00:30<00:06,  2.69it/s]\rEvaluating validation loss:  83%|████████▎ | 83/100 [00:30<00:06,  2.69it/s]\rEvaluating validation loss:  84%|████████▍ | 84/100 [00:30<00:05,  2.69it/s]\rEvaluating validation loss:  85%|████████▌ | 85/100 [00:31<00:05,  2.69it/s]\rEvaluating validation loss:  86%|████████▌ | 86/100 [00:31<00:05,  2.69it/s]\rEvaluating validation loss:  87%|████████▋ | 87/100 [00:31<00:04,  2.69it/s]\rEvaluating validation loss:  88%|████████▊ | 88/100 [00:32<00:04,  2.69it/s]\rEvaluating validation loss:  89%|████████▉ | 89/100 [00:32<00:04,  2.69it/s]\rEvaluating validation loss:  90%|█████████ | 90/100 [00:32<00:03,  2.69it/s]\rEvaluating validation loss:  91%|█████████ | 91/100 [00:33<00:03,  2.69it/s]\rEvaluating validation loss:  92%|█████████▏| 92/100 [00:33<00:02,  2.69it/s]\rEvaluating validation loss:  93%|█████████▎| 93/100 [00:34<00:02,  2.69it/s]\rEvaluating validation loss:  94%|█████████▍| 94/100 [00:34<00:02,  2.69it/s]\rEvaluating validation loss:  95%|█████████▌| 95/100 [00:34<00:01,  2.69it/s]\rEvaluating validation loss:  96%|█████████▌| 96/100 [00:35<00:01,  2.69it/s]\rEvaluating validation loss:  97%|█████████▋| 97/100 [00:35<00:01,  2.69it/s]\rEvaluating validation loss:  98%|█████████▊| 98/100 [00:35<00:00,  2.69it/s]\rEvaluating validation loss:  99%|█████████▉| 99/100 [00:36<00:00,  2.69it/s]\rEvaluating validation loss: 100%|██████████| 100/100 [00:36<00:00,  2.69it/s]\rEvaluating validation loss: 100%|██████████| 100/100 [00:36<00:00,  2.72it/s]\n"
          ]
        },
        {
          "name": "stdout",
          "output_type": "stream",
          "text": [
            "tensor(3.2758, device='cuda:0')\n"
          ]
        }
      ],
      "source": [
        "# evaluate gpt-2 baseline model\n",
        "val_dataloader.reset()\n",
        "with torch.no_grad():\n",
        "    val_loss_accum = 0.0\n",
        "    val_loss_steps = 100\n",
        "    loss_total = 0.0\n",
        "    for _ in tqdm(range(val_loss_steps), desc=\"Evaluating validation loss\"):\n",
        "        x, y = val_dataloader.next_batch()\n",
        "        x, y = x.to(device), y.to(device)\n",
        "        logits = model_hf(x)[0]\n",
        "        # print(logits.size()[-1])\n",
        "        loss = F.cross_entropy(logits.view(-1, logits.size()[-1]), y.view(-1))\n",
        "        loss_total += loss.detach()\n",
        "\n",
        "    loss_avg = loss_total / val_loss_steps\n",
        "    print(loss_avg)"
      ]
    },
    {
      "cell_type": "code",
      "execution_count": 33,
      "metadata": {
        "output": {
          "id": 840641424591755,
          "loadingStatus": "loaded"
        }
      },
      "outputs": [
        {
          "name": "stderr",
          "output_type": "stream",
          "text": [
            "\rEvaluating validation loss:   0%|          | 0/100 [00:00<?, ?it/s]\rEvaluating validation loss:   5%|▌         | 5/100 [00:00<00:02, 40.29it/s]\rEvaluating validation loss:  10%|█         | 10/100 [00:00<00:02, 35.56it/s]\rEvaluating validation loss:  14%|█▍        | 14/100 [00:00<00:02, 34.38it/s]\rEvaluating validation loss:  18%|█▊        | 18/100 [00:00<00:02, 33.85it/s]\rEvaluating validation loss:  22%|██▏       | 22/100 [00:00<00:02, 33.48it/s]\rEvaluating validation loss:  26%|██▌       | 26/100 [00:00<00:02, 33.30it/s]\rEvaluating validation loss:  30%|███       | 30/100 [00:00<00:02, 33.12it/s]\rEvaluating validation loss:  34%|███▍      | 34/100 [00:01<00:01, 33.06it/s]\rEvaluating validation loss:  38%|███▊      | 38/100 [00:01<00:01, 32.98it/s]\rEvaluating validation loss:  42%|████▏     | 42/100 [00:01<00:01, 32.94it/s]\rEvaluating validation loss:  46%|████▌     | 46/100 [00:01<00:01, 32.92it/s]\rEvaluating validation loss:  50%|█████     | 50/100 [00:01<00:01, 32.89it/s]\rEvaluating validation loss:  54%|█████▍    | 54/100 [00:01<00:01, 32.83it/s]\rEvaluating validation loss:  58%|█████▊    | 58/100 [00:01<00:01, 32.74it/s]\rEvaluating validation loss:  62%|██████▏   | 62/100 [00:01<00:01, 32.70it/s]\rEvaluating validation loss:  66%|██████▌   | 66/100 [00:01<00:01, 32.77it/s]\rEvaluating validation loss:  70%|███████   | 70/100 [00:02<00:00, 32.69it/s]\rEvaluating validation loss:  74%|███████▍  | 74/100 [00:02<00:00, 32.73it/s]\rEvaluating validation loss:  78%|███████▊  | 78/100 [00:02<00:00, 32.77it/s]\rEvaluating validation loss:  82%|████████▏ | 82/100 [00:02<00:00, 32.79it/s]\rEvaluating validation loss:  86%|████████▌ | 86/100 [00:02<00:00, 32.80it/s]\rEvaluating validation loss:  90%|█████████ | 90/100 [00:02<00:00, 32.81it/s]\rEvaluating validation loss:  94%|█████████▍| 94/100 [00:02<00:00, 32.83it/s]\rEvaluating validation loss:  98%|█████████▊| 98/100 [00:02<00:00, 32.76it/s]\rEvaluating validation loss: 100%|██████████| 100/100 [00:03<00:00, 33.09it/s]\n"
          ]
        },
        {
          "name": "stdout",
          "output_type": "stream",
          "text": [
            "tensor(3.0829, device='cuda:0')\n"
          ]
        }
      ],
      "source": [
        "val_dataloader.reset()\n",
        "with torch.no_grad():\n",
        "    val_loss_accum = 0.0\n",
        "    val_loss_steps = 100\n",
        "    loss_total = 0.0\n",
        "    for _ in tqdm(range(val_loss_steps), desc=\"Evaluating validation loss\"):\n",
        "        x, y = val_dataloader.next_batch()\n",
        "        x, y = x.to(device), y.to(device)\n",
        "        with torch.autocast(device_type=\"cuda\", dtype=torch.bfloat16):\n",
        "            logits, loss = model(x, y)\n",
        "        # print(logits.size()[-1])\n",
        "        # loss = F.cross_entropy(logits.view(-1, logits.size()[-1]), y.view(-1))\n",
        "        loss_total += loss.detach()\n",
        "\n",
        "    loss_avg = loss_total / val_loss_steps\n",
        "    print(loss_avg)"
      ]
    },
    {
      "cell_type": "code",
      "execution_count": 16,
      "metadata": {
        "output": {
          "id": 484922304005266,
          "loadingStatus": "loaded"
        }
      },
      "outputs": [
        {
          "data": {
            "text/plain": [
              "19113"
            ]
          },
          "execution_count": 19,
          "metadata": {},
          "output_type": "execute_result"
        }
      ],
      "source": [
        "import numpy as np\n",
        "\n",
        "sz = \"124M\"\n",
        "loss_baseline = {\n",
        "    \"124M\": 3.2758,\n",
        "}[sz]\n",
        "\n",
        "with open(f\"{LOGS_DIR}/log.txt\", \"r\") as f:\n",
        "    lines = f.readlines()\n",
        "\n",
        "len(lines)"
      ]
    },
    {
      "cell_type": "code",
      "execution_count": 17,
      "metadata": {},
      "outputs": [],
      "source": [
        "streams = {}\n",
        "for line in lines:\n",
        "    step, stream, val = line.strip().split()\n",
        "    if stream not in streams:\n",
        "        streams[stream] = {}\n",
        "    streams[stream][int(step)] = float(val)"
      ]
    },
    {
      "cell_type": "code",
      "execution_count": 18,
      "metadata": {
        "output": {
          "id": 1189951272180874,
          "loadingStatus": "loaded"
        }
      },
      "outputs": [
        {
          "data": {
            "text/plain": [
              "2"
            ]
          },
          "execution_count": 21,
          "metadata": {},
          "output_type": "execute_result"
        }
      ],
      "source": [
        "len(streams.keys())"
      ]
    },
    {
      "cell_type": "code",
      "execution_count": 24,
      "metadata": {},
      "outputs": [],
      "source": [
        "streams_xy = {}\n",
        "for k, v in streams.items():\n",
        "    xy = sorted(list(v.items()))\n",
        "    # print(xy)\n",
        "    # print(zip(*xy))\n",
        "    streams_xy[k] = list(zip(*xy))"
      ]
    },
    {
      "cell_type": "code",
      "execution_count": 25,
      "metadata": {
        "output": {
          "id": 399464166470905,
          "loadingStatus": "loaded"
        }
      },
      "outputs": [
        {
          "data": {
            "text/plain": [
              "<Figure size 1600x600 with 0 Axes>"
            ]
          },
          "execution_count": 28,
          "metadata": {},
          "output_type": "execute_result"
        },
        {
          "data": {
            "text/plain": [
              "<Figure size 1600x600 with 0 Axes>"
            ]
          },
          "metadata": {},
          "output_type": "display_data"
        }
      ],
      "source": [
        "plt.figure(figsize=(16, 6))"
      ]
    },
    {
      "cell_type": "code",
      "execution_count": 26,
      "metadata": {
        "output": {
          "id": 895499795954726,
          "loadingStatus": "loaded"
        }
      },
      "outputs": [
        {
          "name": "stdout",
          "output_type": "stream",
          "text": [
            "min train loss 2.8671\n",
            "min val loss 3.0742\n"
          ]
        }
      ],
      "source": [
        "xs, ys = streams_xy[\"train\"]\n",
        "ys = np.array(ys)\n",
        "print(f\"min train loss {min(ys)}\")\n",
        "\n",
        "xs_val, ys_val = streams_xy[\"val\"]\n",
        "ys_val = np.array(ys_val)\n",
        "print(f\"min val loss {min(ys_val)}\")"
      ]
    },
    {
      "cell_type": "code",
      "execution_count": 27,
      "metadata": {
        "output": {
          "id": 1507874096603786,
          "loadingStatus": "loaded"
        }
      },
      "outputs": [
        {
          "data": {
            "text/plain": [
              "Text(0.5, 1.0, 'Loss curve')"
            ]
          },
          "execution_count": 30,
          "metadata": {},
          "output_type": "execute_result"
        },
        {
          "name": "stderr",
          "output_type": "stream",
          "text": [
            "findfont: Font family 'Noto Sans TC' not found.\n"
          ]
        },
        {
          "name": "stderr",
          "output_type": "stream",
          "text": [
            "findfont: Font family 'Noto Sans SC' not found.\n"
          ]
        },
        {
          "name": "stderr",
          "output_type": "stream",
          "text": [
            "findfont: Font family 'Noto Sans TC' not found.\n"
          ]
        },
        {
          "name": "stderr",
          "output_type": "stream",
          "text": [
            "findfont: Font family 'Noto Sans SC' not found.\n"
          ]
        },
        {
          "name": "stderr",
          "output_type": "stream",
          "text": [
            "findfont: Font family 'Noto Sans TC' not found.\n"
          ]
        },
        {
          "name": "stderr",
          "output_type": "stream",
          "text": [
            "findfont: Font family 'Noto Sans SC' not found.\n"
          ]
        },
        {
          "name": "stderr",
          "output_type": "stream",
          "text": [
            "findfont: Font family 'Noto Sans TC' not found.\n"
          ]
        },
        {
          "name": "stderr",
          "output_type": "stream",
          "text": [
            "findfont: Font family 'Noto Sans SC' not found.\n"
          ]
        },
        {
          "name": "stderr",
          "output_type": "stream",
          "text": [
            "findfont: Font family 'Noto Sans TC' not found.\n"
          ]
        },
        {
          "name": "stderr",
          "output_type": "stream",
          "text": [
            "findfont: Font family 'Noto Sans SC' not found.\n"
          ]
        },
        {
          "name": "stderr",
          "output_type": "stream",
          "text": [
            "findfont: Font family 'Noto Sans TC' not found.\n"
          ]
        },
        {
          "name": "stderr",
          "output_type": "stream",
          "text": [
            "findfont: Font family 'Noto Sans SC' not found.\n"
          ]
        },
        {
          "name": "stderr",
          "output_type": "stream",
          "text": [
            "findfont: Font family 'Noto Sans TC' not found.\n"
          ]
        },
        {
          "name": "stderr",
          "output_type": "stream",
          "text": [
            "findfont: Font family 'Noto Sans SC' not found.\n"
          ]
        },
        {
          "name": "stderr",
          "output_type": "stream",
          "text": [
            "findfont: Font family 'Noto Sans TC' not found.\n"
          ]
        },
        {
          "name": "stderr",
          "output_type": "stream",
          "text": [
            "findfont: Font family 'Noto Sans SC' not found.\n"
          ]
        },
        {
          "name": "stderr",
          "output_type": "stream",
          "text": [
            "findfont: Font family 'Noto Sans TC' not found.\n"
          ]
        },
        {
          "name": "stderr",
          "output_type": "stream",
          "text": [
            "findfont: Font family 'Noto Sans SC' not found.\n"
          ]
        },
        {
          "name": "stderr",
          "output_type": "stream",
          "text": [
            "findfont: Font family 'Noto Sans TC' not found.\n"
          ]
        },
        {
          "name": "stderr",
          "output_type": "stream",
          "text": [
            "findfont: Font family 'Noto Sans SC' not found.\n"
          ]
        },
        {
          "name": "stderr",
          "output_type": "stream",
          "text": [
            "findfont: Font family 'Noto Sans TC' not found.\n"
          ]
        },
        {
          "name": "stderr",
          "output_type": "stream",
          "text": [
            "findfont: Font family 'Noto Sans SC' not found.\n"
          ]
        },
        {
          "name": "stderr",
          "output_type": "stream",
          "text": [
            "findfont: Font family 'Noto Sans TC' not found.\n"
          ]
        },
        {
          "name": "stderr",
          "output_type": "stream",
          "text": [
            "findfont: Font family 'Noto Sans SC' not found.\n"
          ]
        },
        {
          "name": "stderr",
          "output_type": "stream",
          "text": [
            "findfont: Font family 'Noto Sans TC' not found.\n"
          ]
        },
        {
          "name": "stderr",
          "output_type": "stream",
          "text": [
            "findfont: Font family 'Noto Sans SC' not found.\n"
          ]
        },
        {
          "name": "stderr",
          "output_type": "stream",
          "text": [
            "findfont: Font family 'Noto Sans TC' not found.\n"
          ]
        },
        {
          "name": "stderr",
          "output_type": "stream",
          "text": [
            "findfont: Font family 'Noto Sans SC' not found.\n"
          ]
        },
        {
          "name": "stderr",
          "output_type": "stream",
          "text": [
            "findfont: Font family 'Noto Sans TC' not found.\n"
          ]
        },
        {
          "name": "stderr",
          "output_type": "stream",
          "text": [
            "findfont: Font family 'Noto Sans SC' not found.\n"
          ]
        },
        {
          "name": "stderr",
          "output_type": "stream",
          "text": [
            "findfont: Font family 'Noto Sans TC' not found.\n"
          ]
        },
        {
          "name": "stderr",
          "output_type": "stream",
          "text": [
            "findfont: Font family 'Noto Sans SC' not found.\n"
          ]
        },
        {
          "name": "stderr",
          "output_type": "stream",
          "text": [
            "findfont: Font family 'Noto Sans TC' not found.\n"
          ]
        },
        {
          "name": "stderr",
          "output_type": "stream",
          "text": [
            "findfont: Font family 'Noto Sans SC' not found.\n"
          ]
        },
        {
          "name": "stderr",
          "output_type": "stream",
          "text": [
            "findfont: Font family 'Noto Sans TC' not found.\n"
          ]
        },
        {
          "name": "stderr",
          "output_type": "stream",
          "text": [
            "findfont: Font family 'Noto Sans SC' not found.\n"
          ]
        },
        {
          "name": "stderr",
          "output_type": "stream",
          "text": [
            "findfont: Font family 'Noto Sans TC' not found.\n"
          ]
        },
        {
          "name": "stderr",
          "output_type": "stream",
          "text": [
            "findfont: Font family 'Noto Sans SC' not found.\n"
          ]
        },
        {
          "name": "stderr",
          "output_type": "stream",
          "text": [
            "findfont: Font family 'Noto Sans TC' not found.\n"
          ]
        },
        {
          "name": "stderr",
          "output_type": "stream",
          "text": [
            "findfont: Font family 'Noto Sans SC' not found.\n"
          ]
        },
        {
          "name": "stderr",
          "output_type": "stream",
          "text": [
            "findfont: Font family 'Noto Sans TC' not found.\n"
          ]
        },
        {
          "name": "stderr",
          "output_type": "stream",
          "text": [
            "findfont: Font family 'Noto Sans SC' not found.\n"
          ]
        },
        {
          "name": "stderr",
          "output_type": "stream",
          "text": [
            "findfont: Font family 'Noto Sans TC' not found.\n"
          ]
        },
        {
          "name": "stderr",
          "output_type": "stream",
          "text": [
            "findfont: Font family 'Noto Sans SC' not found.\n"
          ]
        },
        {
          "name": "stderr",
          "output_type": "stream",
          "text": [
            "findfont: Font family 'Noto Sans TC' not found.\n"
          ]
        },
        {
          "name": "stderr",
          "output_type": "stream",
          "text": [
            "findfont: Font family 'Noto Sans SC' not found.\n"
          ]
        },
        {
          "name": "stderr",
          "output_type": "stream",
          "text": [
            "findfont: Font family 'Noto Sans TC' not found.\n"
          ]
        },
        {
          "name": "stderr",
          "output_type": "stream",
          "text": [
            "findfont: Font family 'Noto Sans SC' not found.\n"
          ]
        },
        {
          "name": "stderr",
          "output_type": "stream",
          "text": [
            "findfont: Font family 'Noto Sans TC' not found.\n"
          ]
        },
        {
          "name": "stderr",
          "output_type": "stream",
          "text": [
            "findfont: Font family 'Noto Sans SC' not found.\n"
          ]
        },
        {
          "name": "stderr",
          "output_type": "stream",
          "text": [
            "findfont: Font family 'Noto Sans TC' not found.\n"
          ]
        },
        {
          "name": "stderr",
          "output_type": "stream",
          "text": [
            "findfont: Font family 'Noto Sans SC' not found.\n"
          ]
        },
        {
          "name": "stderr",
          "output_type": "stream",
          "text": [
            "findfont: Font family 'Noto Sans TC' not found.\n"
          ]
        },
        {
          "name": "stderr",
          "output_type": "stream",
          "text": [
            "findfont: Font family 'Noto Sans SC' not found.\n"
          ]
        },
        {
          "name": "stderr",
          "output_type": "stream",
          "text": [
            "findfont: Font family 'Noto Sans TC' not found.\n"
          ]
        },
        {
          "name": "stderr",
          "output_type": "stream",
          "text": [
            "findfont: Font family 'Noto Sans SC' not found.\n"
          ]
        },
        {
          "name": "stderr",
          "output_type": "stream",
          "text": [
            "findfont: Font family 'Noto Sans TC' not found.\n"
          ]
        },
        {
          "name": "stderr",
          "output_type": "stream",
          "text": [
            "findfont: Font family 'Noto Sans SC' not found.\n"
          ]
        },
        {
          "name": "stderr",
          "output_type": "stream",
          "text": [
            "findfont: Font family 'Noto Sans TC' not found.\n"
          ]
        },
        {
          "name": "stderr",
          "output_type": "stream",
          "text": [
            "findfont: Font family 'Noto Sans SC' not found.\n"
          ]
        },
        {
          "name": "stderr",
          "output_type": "stream",
          "text": [
            "findfont: Font family 'Noto Sans TC' not found.\n"
          ]
        },
        {
          "name": "stderr",
          "output_type": "stream",
          "text": [
            "findfont: Font family 'Noto Sans SC' not found.\n"
          ]
        },
        {
          "name": "stderr",
          "output_type": "stream",
          "text": [
            "findfont: Font family 'Noto Sans TC' not found.\n"
          ]
        },
        {
          "name": "stderr",
          "output_type": "stream",
          "text": [
            "findfont: Font family 'Noto Sans SC' not found.\n"
          ]
        },
        {
          "name": "stderr",
          "output_type": "stream",
          "text": [
            "findfont: Font family 'Noto Sans TC' not found.\n"
          ]
        },
        {
          "name": "stderr",
          "output_type": "stream",
          "text": [
            "findfont: Font family 'Noto Sans SC' not found.\n"
          ]
        },
        {
          "name": "stderr",
          "output_type": "stream",
          "text": [
            "findfont: Font family 'Noto Sans TC' not found.\n"
          ]
        },
        {
          "name": "stderr",
          "output_type": "stream",
          "text": [
            "findfont: Font family 'Noto Sans SC' not found.\n"
          ]
        },
        {
          "name": "stderr",
          "output_type": "stream",
          "text": [
            "findfont: Font family 'Noto Sans TC' not found.\n"
          ]
        },
        {
          "name": "stderr",
          "output_type": "stream",
          "text": [
            "findfont: Font family 'Noto Sans SC' not found.\n"
          ]
        },
        {
          "name": "stderr",
          "output_type": "stream",
          "text": [
            "findfont: Font family 'Noto Sans TC' not found.\n"
          ]
        },
        {
          "name": "stderr",
          "output_type": "stream",
          "text": [
            "findfont: Font family 'Noto Sans SC' not found.\n"
          ]
        },
        {
          "name": "stderr",
          "output_type": "stream",
          "text": [
            "findfont: Font family 'Noto Sans TC' not found.\n"
          ]
        },
        {
          "name": "stderr",
          "output_type": "stream",
          "text": [
            "findfont: Font family 'Noto Sans SC' not found.\n"
          ]
        },
        {
          "name": "stderr",
          "output_type": "stream",
          "text": [
            "findfont: Font family 'Noto Sans TC' not found.\n"
          ]
        },
        {
          "name": "stderr",
          "output_type": "stream",
          "text": [
            "findfont: Font family 'Noto Sans SC' not found.\n"
          ]
        },
        {
          "name": "stderr",
          "output_type": "stream",
          "text": [
            "findfont: Font family 'Noto Sans TC' not found.\n"
          ]
        },
        {
          "name": "stderr",
          "output_type": "stream",
          "text": [
            "findfont: Font family 'Noto Sans SC' not found.\n"
          ]
        },
        {
          "name": "stderr",
          "output_type": "stream",
          "text": [
            "findfont: Font family 'Noto Sans TC' not found.\n"
          ]
        },
        {
          "name": "stderr",
          "output_type": "stream",
          "text": [
            "findfont: Font family 'Noto Sans SC' not found.\n"
          ]
        },
        {
          "name": "stderr",
          "output_type": "stream",
          "text": [
            "findfont: Font family 'Noto Sans TC' not found.\n"
          ]
        },
        {
          "name": "stderr",
          "output_type": "stream",
          "text": [
            "findfont: Font family 'Noto Sans SC' not found.\n"
          ]
        },
        {
          "name": "stderr",
          "output_type": "stream",
          "text": [
            "findfont: Font family 'Noto Sans TC' not found.\n"
          ]
        },
        {
          "name": "stderr",
          "output_type": "stream",
          "text": [
            "findfont: Font family 'Noto Sans SC' not found.\n"
          ]
        },
        {
          "name": "stderr",
          "output_type": "stream",
          "text": [
            "findfont: Font family 'Noto Sans TC' not found.\n"
          ]
        },
        {
          "name": "stderr",
          "output_type": "stream",
          "text": [
            "findfont: Font family 'Noto Sans SC' not found.\n"
          ]
        },
        {
          "name": "stderr",
          "output_type": "stream",
          "text": [
            "findfont: Font family 'Noto Sans TC' not found.\n"
          ]
        },
        {
          "name": "stderr",
          "output_type": "stream",
          "text": [
            "findfont: Font family 'Noto Sans SC' not found.\n"
          ]
        },
        {
          "name": "stderr",
          "output_type": "stream",
          "text": [
            "findfont: Font family 'Noto Sans TC' not found.\n"
          ]
        },
        {
          "name": "stderr",
          "output_type": "stream",
          "text": [
            "findfont: Font family 'Noto Sans SC' not found.\n"
          ]
        },
        {
          "name": "stderr",
          "output_type": "stream",
          "text": [
            "findfont: Font family 'Noto Sans TC' not found.\n"
          ]
        },
        {
          "name": "stderr",
          "output_type": "stream",
          "text": [
            "findfont: Font family 'Noto Sans SC' not found.\n"
          ]
        },
        {
          "name": "stderr",
          "output_type": "stream",
          "text": [
            "findfont: Font family 'Noto Sans TC' not found.\n"
          ]
        },
        {
          "name": "stderr",
          "output_type": "stream",
          "text": [
            "findfont: Font family 'Noto Sans SC' not found.\n"
          ]
        },
        {
          "name": "stderr",
          "output_type": "stream",
          "text": [
            "findfont: Font family 'Noto Sans TC' not found.\n"
          ]
        },
        {
          "name": "stderr",
          "output_type": "stream",
          "text": [
            "findfont: Font family 'Noto Sans SC' not found.\n"
          ]
        },
        {
          "name": "stderr",
          "output_type": "stream",
          "text": [
            "findfont: Font family 'Noto Sans TC' not found.\n"
          ]
        },
        {
          "name": "stderr",
          "output_type": "stream",
          "text": [
            "findfont: Font family 'Noto Sans SC' not found.\n"
          ]
        },
        {
          "name": "stderr",
          "output_type": "stream",
          "text": [
            "findfont: Font family 'Noto Sans TC' not found.\n"
          ]
        },
        {
          "name": "stderr",
          "output_type": "stream",
          "text": [
            "findfont: Font family 'Noto Sans SC' not found.\n"
          ]
        },
        {
          "name": "stderr",
          "output_type": "stream",
          "text": [
            "findfont: Font family 'Noto Sans TC' not found.\n"
          ]
        },
        {
          "name": "stderr",
          "output_type": "stream",
          "text": [
            "findfont: Font family 'Noto Sans SC' not found.\n"
          ]
        },
        {
          "name": "stderr",
          "output_type": "stream",
          "text": [
            "findfont: Font family 'Noto Sans TC' not found.\n"
          ]
        },
        {
          "name": "stderr",
          "output_type": "stream",
          "text": [
            "findfont: Font family 'Noto Sans SC' not found.\n"
          ]
        },
        {
          "name": "stderr",
          "output_type": "stream",
          "text": [
            "findfont: Font family 'Noto Sans TC' not found.\n"
          ]
        },
        {
          "name": "stderr",
          "output_type": "stream",
          "text": [
            "findfont: Font family 'Noto Sans SC' not found.\n"
          ]
        },
        {
          "name": "stderr",
          "output_type": "stream",
          "text": [
            "findfont: Font family 'Noto Sans TC' not found.\n"
          ]
        },
        {
          "name": "stderr",
          "output_type": "stream",
          "text": [
            "findfont: Font family 'Noto Sans SC' not found.\n"
          ]
        },
        {
          "name": "stderr",
          "output_type": "stream",
          "text": [
            "findfont: Font family 'Noto Sans TC' not found.\n"
          ]
        },
        {
          "name": "stderr",
          "output_type": "stream",
          "text": [
            "findfont: Font family 'Noto Sans SC' not found.\n"
          ]
        },
        {
          "name": "stderr",
          "output_type": "stream",
          "text": [
            "findfont: Font family 'Noto Sans TC' not found.\n"
          ]
        },
        {
          "name": "stderr",
          "output_type": "stream",
          "text": [
            "findfont: Font family 'Noto Sans SC' not found.\n"
          ]
        },
        {
          "name": "stderr",
          "output_type": "stream",
          "text": [
            "findfont: Font family 'Noto Sans TC' not found.\n"
          ]
        },
        {
          "name": "stderr",
          "output_type": "stream",
          "text": [
            "findfont: Font family 'Noto Sans SC' not found.\n"
          ]
        },
        {
          "name": "stderr",
          "output_type": "stream",
          "text": [
            "findfont: Font family 'Noto Sans TC' not found.\n"
          ]
        },
        {
          "name": "stderr",
          "output_type": "stream",
          "text": [
            "findfont: Font family 'Noto Sans SC' not found.\n"
          ]
        },
        {
          "name": "stderr",
          "output_type": "stream",
          "text": [
            "findfont: Font family 'Noto Sans TC' not found.\n"
          ]
        },
        {
          "name": "stderr",
          "output_type": "stream",
          "text": [
            "findfont: Font family 'Noto Sans SC' not found.\n"
          ]
        },
        {
          "name": "stderr",
          "output_type": "stream",
          "text": [
            "findfont: Font family 'Noto Sans TC' not found.\n"
          ]
        },
        {
          "name": "stderr",
          "output_type": "stream",
          "text": [
            "findfont: Font family 'Noto Sans SC' not found.\n"
          ]
        },
        {
          "name": "stderr",
          "output_type": "stream",
          "text": [
            "findfont: Font family 'Noto Sans TC' not found.\n"
          ]
        },
        {
          "name": "stderr",
          "output_type": "stream",
          "text": [
            "findfont: Font family 'Noto Sans SC' not found.\n"
          ]
        },
        {
          "name": "stderr",
          "output_type": "stream",
          "text": [
            "findfont: Font family 'Noto Sans TC' not found.\n"
          ]
        },
        {
          "name": "stderr",
          "output_type": "stream",
          "text": [
            "findfont: Font family 'Noto Sans SC' not found.\n"
          ]
        },
        {
          "name": "stderr",
          "output_type": "stream",
          "text": [
            "findfont: Font family 'Noto Sans TC' not found.\n"
          ]
        },
        {
          "name": "stderr",
          "output_type": "stream",
          "text": [
            "findfont: Font family 'Noto Sans SC' not found.\n"
          ]
        },
        {
          "name": "stderr",
          "output_type": "stream",
          "text": [
            "findfont: Font family 'Noto Sans TC' not found.\n"
          ]
        },
        {
          "name": "stderr",
          "output_type": "stream",
          "text": [
            "findfont: Font family 'Noto Sans SC' not found.\n"
          ]
        },
        {
          "name": "stderr",
          "output_type": "stream",
          "text": [
            "findfont: Font family 'Noto Sans TC' not found.\n"
          ]
        },
        {
          "name": "stderr",
          "output_type": "stream",
          "text": [
            "findfont: Font family 'Noto Sans SC' not found.\n"
          ]
        },
        {
          "name": "stderr",
          "output_type": "stream",
          "text": [
            "findfont: Font family 'Noto Sans TC' not found.\n"
          ]
        },
        {
          "name": "stderr",
          "output_type": "stream",
          "text": [
            "findfont: Font family 'Noto Sans SC' not found.\n"
          ]
        },
        {
          "name": "stderr",
          "output_type": "stream",
          "text": [
            "findfont: Font family 'Noto Sans TC' not found.\n"
          ]
        },
        {
          "name": "stderr",
          "output_type": "stream",
          "text": [
            "findfont: Font family 'Noto Sans SC' not found.\n"
          ]
        },
        {
          "name": "stderr",
          "output_type": "stream",
          "text": [
            "findfont: Font family 'Noto Sans TC' not found.\n"
          ]
        },
        {
          "name": "stderr",
          "output_type": "stream",
          "text": [
            "findfont: Font family 'Noto Sans SC' not found.\n"
          ]
        },
        {
          "name": "stderr",
          "output_type": "stream",
          "text": [
            "findfont: Font family 'Noto Sans TC' not found.\n"
          ]
        },
        {
          "name": "stderr",
          "output_type": "stream",
          "text": [
            "findfont: Font family 'Noto Sans SC' not found.\n"
          ]
        },
        {
          "name": "stderr",
          "output_type": "stream",
          "text": [
            "findfont: Font family 'Noto Sans TC' not found.\n"
          ]
        },
        {
          "name": "stderr",
          "output_type": "stream",
          "text": [
            "findfont: Font family 'Noto Sans SC' not found.\n"
          ]
        },
        {
          "name": "stderr",
          "output_type": "stream",
          "text": [
            "findfont: Font family 'Noto Sans TC' not found.\n"
          ]
        },
        {
          "name": "stderr",
          "output_type": "stream",
          "text": [
            "findfont: Font family 'Noto Sans SC' not found.\n"
          ]
        },
        {
          "name": "stderr",
          "output_type": "stream",
          "text": [
            "findfont: Font family 'Noto Sans TC' not found.\n"
          ]
        },
        {
          "name": "stderr",
          "output_type": "stream",
          "text": [
            "findfont: Font family 'Noto Sans SC' not found.\n"
          ]
        },
        {
          "name": "stderr",
          "output_type": "stream",
          "text": [
            "findfont: Font family 'Noto Sans TC' not found.\n"
          ]
        },
        {
          "name": "stderr",
          "output_type": "stream",
          "text": [
            "findfont: Font family 'Noto Sans SC' not found.\n"
          ]
        },
        {
          "name": "stderr",
          "output_type": "stream",
          "text": [
            "findfont: Font family 'Noto Sans TC' not found.\n"
          ]
        },
        {
          "name": "stderr",
          "output_type": "stream",
          "text": [
            "findfont: Font family 'Noto Sans SC' not found.\n"
          ]
        },
        {
          "name": "stderr",
          "output_type": "stream",
          "text": [
            "findfont: Font family 'Noto Sans TC' not found.\n"
          ]
        },
        {
          "name": "stderr",
          "output_type": "stream",
          "text": [
            "findfont: Font family 'Noto Sans SC' not found.\n"
          ]
        },
        {
          "name": "stderr",
          "output_type": "stream",
          "text": [
            "findfont: Font family 'Noto Sans TC' not found.\n"
          ]
        },
        {
          "name": "stderr",
          "output_type": "stream",
          "text": [
            "findfont: Font family 'Noto Sans SC' not found.\n"
          ]
        },
        {
          "name": "stderr",
          "output_type": "stream",
          "text": [
            "findfont: Font family 'Noto Sans TC' not found.\n"
          ]
        },
        {
          "name": "stderr",
          "output_type": "stream",
          "text": [
            "findfont: Font family 'Noto Sans SC' not found.\n"
          ]
        },
        {
          "name": "stderr",
          "output_type": "stream",
          "text": [
            "findfont: Font family 'Noto Sans TC' not found.\n"
          ]
        },
        {
          "name": "stderr",
          "output_type": "stream",
          "text": [
            "findfont: Font family 'Noto Sans SC' not found.\n"
          ]
        },
        {
          "name": "stderr",
          "output_type": "stream",
          "text": [
            "findfont: Font family 'Noto Sans TC' not found.\n"
          ]
        },
        {
          "name": "stderr",
          "output_type": "stream",
          "text": [
            "findfont: Font family 'Noto Sans SC' not found.\n"
          ]
        },
        {
          "name": "stderr",
          "output_type": "stream",
          "text": [
            "findfont: Font family 'Noto Sans TC' not found.\n"
          ]
        },
        {
          "name": "stderr",
          "output_type": "stream",
          "text": [
            "findfont: Font family 'Noto Sans SC' not found.\n"
          ]
        },
        {
          "name": "stderr",
          "output_type": "stream",
          "text": [
            "findfont: Font family 'Noto Sans TC' not found.\n"
          ]
        },
        {
          "name": "stderr",
          "output_type": "stream",
          "text": [
            "findfont: Font family 'Noto Sans SC' not found.\n"
          ]
        },
        {
          "name": "stderr",
          "output_type": "stream",
          "text": [
            "findfont: Font family 'Noto Sans TC' not found.\n"
          ]
        },
        {
          "name": "stderr",
          "output_type": "stream",
          "text": [
            "findfont: Font family 'Noto Sans SC' not found.\n"
          ]
        },
        {
          "name": "stderr",
          "output_type": "stream",
          "text": [
            "findfont: Font family 'Noto Sans TC' not found.\n"
          ]
        },
        {
          "name": "stderr",
          "output_type": "stream",
          "text": [
            "findfont: Font family 'Noto Sans SC' not found.\n"
          ]
        },
        {
          "name": "stderr",
          "output_type": "stream",
          "text": [
            "findfont: Font family 'Noto Sans TC' not found.\n"
          ]
        },
        {
          "name": "stderr",
          "output_type": "stream",
          "text": [
            "findfont: Font family 'Noto Sans SC' not found.\n"
          ]
        },
        {
          "name": "stderr",
          "output_type": "stream",
          "text": [
            "findfont: Font family 'Noto Sans TC' not found.\n"
          ]
        },
        {
          "name": "stderr",
          "output_type": "stream",
          "text": [
            "findfont: Font family 'Noto Sans SC' not found.\n"
          ]
        },
        {
          "name": "stderr",
          "output_type": "stream",
          "text": [
            "findfont: Font family 'Noto Sans TC' not found.\n"
          ]
        },
        {
          "name": "stderr",
          "output_type": "stream",
          "text": [
            "findfont: Font family 'Noto Sans SC' not found.\n"
          ]
        },
        {
          "data": {
            "image/png": "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",
            "text/plain": [
              "<Figure size 1500x1000 with 1 Axes>"
            ]
          },
          "metadata": {},
          "output_type": "display_data"
        }
      ],
      "source": [
        "plt.plot(xs, ys, label=f\"nanogpt {sz} train loss\")\n",
        "plt.plot(xs_val, ys_val, label=f\"nanogpt {sz} val loss\")\n",
        "\n",
        "if loss_baseline is not None:\n",
        "    plt.axhline(\n",
        "        y=loss_baseline, color=\"r\", linestyle=\"--\", label=f\"OpenAI gpt-2 {sz} model\"\n",
        "    )\n",
        "\n",
        "plt.xlabel(\"steps\")\n",
        "plt.ylabel(\"loss\")\n",
        "plt.yscale(\"log\")\n",
        "plt.ylim(top=4.0)\n",
        "plt.legend()\n",
        "plt.title(\"Loss curve\")"
      ]
    },
    {
      "cell_type": "code",
      "execution_count": null,
      "metadata": {},
      "outputs": [],
      "source": []
    },
    {
      "cell_type": "code",
      "execution_count": null,
      "metadata": {},
      "outputs": [],
      "source": [
        "a = [(1, 2), (2, 3), (3, 4)]\n",
        "b = list(zip(*a))\n",
        "b"
      ]
    },
    {
      "cell_type": "code",
      "execution_count": null,
      "metadata": {},
      "outputs": [],
      "source": [
        "a = [1, 2, 3, 4]\n",
        "b = [2, 3, 4, 5]\n",
        "for i, j in zip(a, b):\n",
        "    print(i, j)"
      ]
    },
    {
      "cell_type": "code",
      "execution_count": null,
      "metadata": {},
      "outputs": [],
      "source": []
    }
  ],
  "metadata": {
    "fileHeader": "",
    "fileUid": "043afc69-3904-4541-9417-27e2a0f8d83d",
    "isAdHoc": false,
    "kernelspec": {
      "display_name": "gpt-2 (local)",
      "language": "python",
      "name": "gpt-2_local"
    }
  }
}
