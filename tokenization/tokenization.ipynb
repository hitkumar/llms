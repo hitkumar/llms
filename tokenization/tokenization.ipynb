{
 "cells": [
  {
   "cell_type": "code",
   "execution_count": 1,
   "metadata": {},
   "outputs": [],
   "source": [
    "s = \"안녕하세요 👋 (hello in Korean!)\""
   ]
  },
  {
   "cell_type": "code",
   "execution_count": 2,
   "metadata": {},
   "outputs": [
    {
     "name": "stdout",
     "output_type": "stream",
     "text": [
      "\u001b[0;31mSignature:\u001b[0m \u001b[0mord\u001b[0m\u001b[0;34m(\u001b[0m\u001b[0mc\u001b[0m\u001b[0;34m,\u001b[0m \u001b[0;34m/\u001b[0m\u001b[0;34m)\u001b[0m\u001b[0;34m\u001b[0m\u001b[0;34m\u001b[0m\u001b[0m\n",
      "\u001b[0;31mDocstring:\u001b[0m Return the Unicode code point for a one-character string.\n",
      "\u001b[0;31mType:\u001b[0m      builtin_function_or_method"
     ]
    }
   ],
   "source": [
    "ord??"
   ]
  },
  {
   "cell_type": "code",
   "execution_count": 3,
   "metadata": {},
   "outputs": [
    {
     "data": {
      "text/plain": [
       "[50504,\n",
       " 45397,\n",
       " 54616,\n",
       " 49464,\n",
       " 50836,\n",
       " 32,\n",
       " 128075,\n",
       " 32,\n",
       " 40,\n",
       " 104,\n",
       " 101,\n",
       " 108,\n",
       " 108,\n",
       " 111,\n",
       " 32,\n",
       " 105,\n",
       " 110,\n",
       " 32,\n",
       " 75,\n",
       " 111,\n",
       " 114,\n",
       " 101,\n",
       " 97,\n",
       " 110,\n",
       " 33,\n",
       " 41]"
      ]
     },
     "execution_count": 3,
     "metadata": {},
     "output_type": "execute_result"
    }
   ],
   "source": [
    "[ord(x) for x in s]"
   ]
  },
  {
   "cell_type": "code",
   "execution_count": 4,
   "metadata": {},
   "outputs": [
    {
     "data": {
      "text/plain": [
       "[236,\n",
       " 149,\n",
       " 136,\n",
       " 235,\n",
       " 133,\n",
       " 149,\n",
       " 237,\n",
       " 149,\n",
       " 152,\n",
       " 236,\n",
       " 132,\n",
       " 184,\n",
       " 236,\n",
       " 154,\n",
       " 148,\n",
       " 32,\n",
       " 240,\n",
       " 159,\n",
       " 145,\n",
       " 139,\n",
       " 32,\n",
       " 40,\n",
       " 104,\n",
       " 101,\n",
       " 108,\n",
       " 108,\n",
       " 111,\n",
       " 32,\n",
       " 105,\n",
       " 110,\n",
       " 32,\n",
       " 75,\n",
       " 111,\n",
       " 114,\n",
       " 101,\n",
       " 97,\n",
       " 110,\n",
       " 33,\n",
       " 41]"
      ]
     },
     "execution_count": 4,
     "metadata": {},
     "output_type": "execute_result"
    }
   ],
   "source": [
    "list(s.encode(\"utf-8\"))"
   ]
  },
  {
   "cell_type": "code",
   "execution_count": 5,
   "metadata": {},
   "outputs": [
    {
     "name": "stdout",
     "output_type": "stream",
     "text": [
      "---\n",
      "Ｕｎｉｃｏｄｅ! 🅤🅝🅘🅒🅞🅓🅔‽ 🇺‌🇳‌🇮‌🇨‌🇴‌🇩‌🇪! 😄 The very name strikes fear and awe into the hearts of programmers worldwide. We all know we ought to “support Unicode” in our software (whatever that means—like using wchar_t for all the strings, right?). But Unicode can be abstruse, and diving into the thousand-page Unicode Standard plus its dozens of supplementary annexes, reports, and notes can be more than a little intimidating. I don’t blame programmers for still finding the whole thing mysterious, even 30 years after Unicode’s inception.\n",
      "length: 533\n",
      "---\n",
      "[239, 188, 181, 239, 189, 142, 239, 189, 137, 239, 189, 131, 239, 189, 143, 239, 189, 132, 239, 189, 133, 33, 32, 240, 159, 133, 164, 240, 159, 133, 157, 240, 159, 133, 152, 240, 159, 133, 146, 240, 159, 133, 158, 240, 159, 133, 147, 240, 159, 133, 148, 226, 128, 189, 32, 240, 159, 135, 186, 226, 128, 140, 240, 159, 135, 179, 226, 128, 140, 240, 159, 135, 174, 226, 128, 140, 240, 159, 135, 168, 226, 128, 140, 240, 159, 135, 180, 226, 128, 140, 240, 159, 135, 169, 226, 128, 140, 240, 159, 135, 170, 33, 32, 240, 159, 152, 132, 32, 84, 104, 101, 32, 118, 101, 114, 121, 32, 110, 97, 109, 101, 32, 115, 116, 114, 105, 107, 101, 115, 32, 102, 101, 97, 114, 32, 97, 110, 100, 32, 97, 119, 101, 32, 105, 110, 116, 111, 32, 116, 104, 101, 32, 104, 101, 97, 114, 116, 115, 32, 111, 102, 32, 112, 114, 111, 103, 114, 97, 109, 109, 101, 114, 115, 32, 119, 111, 114, 108, 100, 119, 105, 100, 101, 46, 32, 87, 101, 32, 97, 108, 108, 32, 107, 110, 111, 119, 32, 119, 101, 32, 111, 117, 103, 104, 116, 32, 116, 111, 32, 226, 128, 156, 115, 117, 112, 112, 111, 114, 116, 32, 85, 110, 105, 99, 111, 100, 101, 226, 128, 157, 32, 105, 110, 32, 111, 117, 114, 32, 115, 111, 102, 116, 119, 97, 114, 101, 32, 40, 119, 104, 97, 116, 101, 118, 101, 114, 32, 116, 104, 97, 116, 32, 109, 101, 97, 110, 115, 226, 128, 148, 108, 105, 107, 101, 32, 117, 115, 105, 110, 103, 32, 119, 99, 104, 97, 114, 95, 116, 32, 102, 111, 114, 32, 97, 108, 108, 32, 116, 104, 101, 32, 115, 116, 114, 105, 110, 103, 115, 44, 32, 114, 105, 103, 104, 116, 63, 41, 46, 32, 66, 117, 116, 32, 85, 110, 105, 99, 111, 100, 101, 32, 99, 97, 110, 32, 98, 101, 32, 97, 98, 115, 116, 114, 117, 115, 101, 44, 32, 97, 110, 100, 32, 100, 105, 118, 105, 110, 103, 32, 105, 110, 116, 111, 32, 116, 104, 101, 32, 116, 104, 111, 117, 115, 97, 110, 100, 45, 112, 97, 103, 101, 32, 85, 110, 105, 99, 111, 100, 101, 32, 83, 116, 97, 110, 100, 97, 114, 100, 32, 112, 108, 117, 115, 32, 105, 116, 115, 32, 100, 111, 122, 101, 110, 115, 32, 111, 102, 32, 115, 117, 112, 112, 108, 101, 109, 101, 110, 116, 97, 114, 121, 32, 97, 110, 110, 101, 120, 101, 115, 44, 32, 114, 101, 112, 111, 114, 116, 115, 44, 32, 97, 110, 100, 32, 110, 111, 116, 101, 115, 32, 99, 97, 110, 32, 98, 101, 32, 109, 111, 114, 101, 32, 116, 104, 97, 110, 32, 97, 32, 108, 105, 116, 116, 108, 101, 32, 105, 110, 116, 105, 109, 105, 100, 97, 116, 105, 110, 103, 46, 32, 73, 32, 100, 111, 110, 226, 128, 153, 116, 32, 98, 108, 97, 109, 101, 32, 112, 114, 111, 103, 114, 97, 109, 109, 101, 114, 115, 32, 102, 111, 114, 32, 115, 116, 105, 108, 108, 32, 102, 105, 110, 100, 105, 110, 103, 32, 116, 104, 101, 32, 119, 104, 111, 108, 101, 32, 116, 104, 105, 110, 103, 32, 109, 121, 115, 116, 101, 114, 105, 111, 117, 115, 44, 32, 101, 118, 101, 110, 32, 51, 48, 32, 121, 101, 97, 114, 115, 32, 97, 102, 116, 101, 114, 32, 85, 110, 105, 99, 111, 100, 101, 226, 128, 153, 115, 32, 105, 110, 99, 101, 112, 116, 105, 111, 110, 46]\n",
      "length: 616\n"
     ]
    }
   ],
   "source": [
    "text = \"Ｕｎｉｃｏｄｅ! 🅤🅝🅘🅒🅞🅓🅔‽ 🇺‌🇳‌🇮‌🇨‌🇴‌🇩‌🇪! 😄 The very name strikes fear and awe into the hearts of programmers worldwide. We all know we ought to “support Unicode” in our software (whatever that means—like using wchar_t for all the strings, right?). But Unicode can be abstruse, and diving into the thousand-page Unicode Standard plus its dozens of supplementary annexes, reports, and notes can be more than a little intimidating. I don’t blame programmers for still finding the whole thing mysterious, even 30 years after Unicode’s inception.\"\n",
    "tokens = text.encode(\"utf-8\") # raw bytes\n",
    "tokens = list(map(int, tokens)) # convert to a list of integers in range 0..255 for convenience\n",
    "print('---')\n",
    "print(text)\n",
    "print(\"length:\", len(text))\n",
    "print('---')\n",
    "print(tokens)\n",
    "print(\"length:\", len(tokens))"
   ]
  },
  {
   "cell_type": "code",
   "execution_count": 6,
   "metadata": {},
   "outputs": [],
   "source": [
    "def get_stats(ids):\n",
    "    counts = {}\n",
    "    for pair in zip(ids, ids[1:]):\n",
    "        counts[pair] = counts.get(pair, 0) + 1\n",
    "    return counts"
   ]
  },
  {
   "cell_type": "code",
   "execution_count": 7,
   "metadata": {},
   "outputs": [
    {
     "name": "stdout",
     "output_type": "stream",
     "text": [
      "\u001b[0;31mSignature:\u001b[0m \u001b[0mdict\u001b[0m\u001b[0;34m.\u001b[0m\u001b[0mget\u001b[0m\u001b[0;34m(\u001b[0m\u001b[0mself\u001b[0m\u001b[0;34m,\u001b[0m \u001b[0mkey\u001b[0m\u001b[0;34m,\u001b[0m \u001b[0mdefault\u001b[0m\u001b[0;34m=\u001b[0m\u001b[0;32mNone\u001b[0m\u001b[0;34m,\u001b[0m \u001b[0;34m/\u001b[0m\u001b[0;34m)\u001b[0m\u001b[0;34m\u001b[0m\u001b[0;34m\u001b[0m\u001b[0m\n",
      "\u001b[0;31mDocstring:\u001b[0m Return the value for key if key is in the dictionary, else default.\n",
      "\u001b[0;31mType:\u001b[0m      method_descriptor"
     ]
    }
   ],
   "source": [
    "dict.get??"
   ]
  },
  {
   "cell_type": "code",
   "execution_count": 8,
   "metadata": {},
   "outputs": [
    {
     "name": "stdout",
     "output_type": "stream",
     "text": [
      "{(239, 188): 1, (188, 181): 1, (181, 239): 1, (239, 189): 6, (189, 142): 1, (142, 239): 1, (189, 137): 1, (137, 239): 1, (189, 131): 1, (131, 239): 1, (189, 143): 1, (143, 239): 1, (189, 132): 1, (132, 239): 1, (189, 133): 1, (133, 33): 1, (33, 32): 2, (32, 240): 3, (240, 159): 15, (159, 133): 7, (133, 164): 1, (164, 240): 1, (133, 157): 1, (157, 240): 1, (133, 152): 1, (152, 240): 1, (133, 146): 1, (146, 240): 1, (133, 158): 1, (158, 240): 1, (133, 147): 1, (147, 240): 1, (133, 148): 1, (148, 226): 1, (226, 128): 12, (128, 189): 1, (189, 32): 1, (159, 135): 7, (135, 186): 1, (186, 226): 1, (128, 140): 6, (140, 240): 6, (135, 179): 1, (179, 226): 1, (135, 174): 1, (174, 226): 1, (135, 168): 1, (168, 226): 1, (135, 180): 1, (180, 226): 1, (135, 169): 1, (169, 226): 1, (135, 170): 1, (170, 33): 1, (159, 152): 1, (152, 132): 1, (132, 32): 1, (32, 84): 1, (84, 104): 1, (104, 101): 6, (101, 32): 20, (32, 118): 1, (118, 101): 3, (101, 114): 6, (114, 121): 2, (121, 32): 2, (32, 110): 2, (110, 97): 1, (97, 109): 4, (109, 101): 6, (32, 115): 5, (115, 116): 5, (116, 114): 3, (114, 105): 4, (105, 107): 2, (107, 101): 2, (101, 115): 3, (115, 32): 10, (32, 102): 4, (102, 101): 1, (101, 97): 4, (97, 114): 7, (114, 32): 6, (32, 97): 10, (97, 110): 10, (110, 100): 6, (100, 32): 4, (97, 119): 1, (119, 101): 2, (32, 105): 6, (105, 110): 12, (110, 116): 4, (116, 111): 3, (111, 32): 3, (32, 116): 9, (116, 104): 8, (32, 104): 1, (114, 116): 3, (116, 115): 3, (32, 111): 4, (111, 102): 3, (102, 32): 2, (32, 112): 3, (112, 114): 2, (114, 111): 2, (111, 103): 2, (103, 114): 2, (114, 97): 2, (109, 109): 2, (114, 115): 3, (32, 119): 4, (119, 111): 1, (111, 114): 6, (114, 108): 1, (108, 100): 1, (100, 119): 1, (119, 105): 1, (105, 100): 2, (100, 101): 5, (101, 46): 1, (46, 32): 3, (32, 87): 1, (87, 101): 1, (97, 108): 2, (108, 108): 3, (108, 32): 3, (32, 107): 1, (107, 110): 1, (110, 111): 2, (111, 119): 1, (119, 32): 1, (111, 117): 4, (117, 103): 1, (103, 104): 2, (104, 116): 2, (116, 32): 6, (32, 226): 1, (128, 156): 1, (156, 115): 1, (115, 117): 2, (117, 112): 2, (112, 112): 2, (112, 111): 2, (32, 85): 4, (85, 110): 4, (110, 105): 4, (105, 99): 4, (99, 111): 4, (111, 100): 4, (101, 226): 2, (128, 157): 1, (157, 32): 1, (110, 32): 5, (117, 114): 1, (115, 111): 1, (102, 116): 2, (116, 119): 1, (119, 97): 1, (114, 101): 3, (32, 40): 1, (40, 119): 1, (119, 104): 2, (104, 97): 4, (97, 116): 3, (116, 101): 4, (101, 118): 2, (32, 109): 3, (110, 115): 2, (115, 226): 1, (128, 148): 1, (148, 108): 1, (108, 105): 2, (32, 117): 1, (117, 115): 5, (115, 105): 1, (110, 103): 6, (103, 32): 4, (119, 99): 1, (99, 104): 1, (114, 95): 1, (95, 116): 1, (102, 111): 2, (103, 115): 1, (115, 44): 4, (44, 32): 5, (32, 114): 2, (105, 103): 1, (116, 63): 1, (63, 41): 1, (41, 46): 1, (32, 66): 1, (66, 117): 1, (117, 116): 1, (32, 99): 2, (99, 97): 2, (32, 98): 3, (98, 101): 2, (97, 98): 1, (98, 115): 1, (114, 117): 1, (115, 101): 1, (101, 44): 1, (32, 100): 3, (100, 105): 2, (105, 118): 1, (118, 105): 1, (104, 111): 2, (115, 97): 1, (100, 45): 1, (45, 112): 1, (112, 97): 1, (97, 103): 1, (103, 101): 1, (32, 83): 1, (83, 116): 1, (116, 97): 2, (100, 97): 2, (114, 100): 1, (112, 108): 2, (108, 117): 1, (105, 116): 2, (100, 111): 2, (111, 122): 1, (122, 101): 1, (101, 110): 3, (108, 101): 3, (101, 109): 1, (110, 110): 1, (110, 101): 1, (101, 120): 1, (120, 101): 1, (101, 112): 2, (111, 116): 1, (109, 111): 1, (97, 32): 1, (32, 108): 1, (116, 116): 1, (116, 108): 1, (116, 105): 4, (105, 109): 1, (109, 105): 1, (103, 46): 1, (32, 73): 1, (73, 32): 1, (111, 110): 2, (110, 226): 1, (128, 153): 2, (153, 116): 1, (98, 108): 1, (108, 97): 1, (105, 108): 1, (102, 105): 1, (111, 108): 1, (104, 105): 1, (109, 121): 1, (121, 115): 1, (105, 111): 2, (32, 101): 1, (32, 51): 1, (51, 48): 1, (48, 32): 1, (32, 121): 1, (121, 101): 1, (97, 102): 1, (153, 115): 1, (110, 99): 1, (99, 101): 1, (112, 116): 1, (110, 46): 1}\n"
     ]
    }
   ],
   "source": [
    "stats = get_stats(tokens)\n",
    "print(stats)"
   ]
  },
  {
   "cell_type": "code",
   "execution_count": 9,
   "metadata": {},
   "outputs": [
    {
     "name": "stdout",
     "output_type": "stream",
     "text": [
      "[(20, (101, 32)), (15, (240, 159)), (12, (226, 128)), (12, (105, 110)), (10, (115, 32)), (10, (97, 110)), (10, (32, 97)), (9, (32, 116)), (8, (116, 104)), (7, (159, 135)), (7, (159, 133)), (7, (97, 114)), (6, (239, 189)), (6, (140, 240)), (6, (128, 140)), (6, (116, 32)), (6, (114, 32)), (6, (111, 114)), (6, (110, 103)), (6, (110, 100)), (6, (109, 101)), (6, (104, 101)), (6, (101, 114)), (6, (32, 105)), (5, (117, 115)), (5, (115, 116)), (5, (110, 32)), (5, (100, 101)), (5, (44, 32)), (5, (32, 115)), (4, (116, 105)), (4, (116, 101)), (4, (115, 44)), (4, (114, 105)), (4, (111, 117)), (4, (111, 100)), (4, (110, 116)), (4, (110, 105)), (4, (105, 99)), (4, (104, 97)), (4, (103, 32)), (4, (101, 97)), (4, (100, 32)), (4, (99, 111)), (4, (97, 109)), (4, (85, 110)), (4, (32, 119)), (4, (32, 111)), (4, (32, 102)), (4, (32, 85)), (3, (118, 101)), (3, (116, 115)), (3, (116, 114)), (3, (116, 111)), (3, (114, 116)), (3, (114, 115)), (3, (114, 101)), (3, (111, 102)), (3, (111, 32)), (3, (108, 108)), (3, (108, 101)), (3, (108, 32)), (3, (101, 115)), (3, (101, 110)), (3, (97, 116)), (3, (46, 32)), (3, (32, 240)), (3, (32, 112)), (3, (32, 109)), (3, (32, 100)), (3, (32, 98)), (2, (128, 153)), (2, (121, 32)), (2, (119, 104)), (2, (119, 101)), (2, (117, 112)), (2, (116, 97)), (2, (115, 117)), (2, (114, 121)), (2, (114, 111)), (2, (114, 97)), (2, (112, 114)), (2, (112, 112)), (2, (112, 111)), (2, (112, 108)), (2, (111, 110)), (2, (111, 103)), (2, (110, 115)), (2, (110, 111)), (2, (109, 109)), (2, (108, 105)), (2, (107, 101)), (2, (105, 116)), (2, (105, 111)), (2, (105, 107)), (2, (105, 100)), (2, (104, 116)), (2, (104, 111)), (2, (103, 114)), (2, (103, 104)), (2, (102, 116)), (2, (102, 111)), (2, (102, 32)), (2, (101, 226)), (2, (101, 118)), (2, (101, 112)), (2, (100, 111)), (2, (100, 105)), (2, (100, 97)), (2, (99, 97)), (2, (98, 101)), (2, (97, 108)), (2, (33, 32)), (2, (32, 114)), (2, (32, 110)), (2, (32, 99)), (1, (239, 188)), (1, (189, 143)), (1, (189, 142)), (1, (189, 137)), (1, (189, 133)), (1, (189, 132)), (1, (189, 131)), (1, (189, 32)), (1, (188, 181)), (1, (186, 226)), (1, (181, 239)), (1, (180, 226)), (1, (179, 226)), (1, (174, 226)), (1, (170, 33)), (1, (169, 226)), (1, (168, 226)), (1, (164, 240)), (1, (159, 152)), (1, (158, 240)), (1, (157, 240)), (1, (157, 32)), (1, (156, 115)), (1, (153, 116)), (1, (153, 115)), (1, (152, 240)), (1, (152, 132)), (1, (148, 226)), (1, (148, 108)), (1, (147, 240)), (1, (146, 240)), (1, (143, 239)), (1, (142, 239)), (1, (137, 239)), (1, (135, 186)), (1, (135, 180)), (1, (135, 179)), (1, (135, 174)), (1, (135, 170)), (1, (135, 169)), (1, (135, 168)), (1, (133, 164)), (1, (133, 158)), (1, (133, 157)), (1, (133, 152)), (1, (133, 148)), (1, (133, 147)), (1, (133, 146)), (1, (133, 33)), (1, (132, 239)), (1, (132, 32)), (1, (131, 239)), (1, (128, 189)), (1, (128, 157)), (1, (128, 156)), (1, (128, 148)), (1, (122, 101)), (1, (121, 115)), (1, (121, 101)), (1, (120, 101)), (1, (119, 111)), (1, (119, 105)), (1, (119, 99)), (1, (119, 97)), (1, (119, 32)), (1, (118, 105)), (1, (117, 116)), (1, (117, 114)), (1, (117, 103)), (1, (116, 119)), (1, (116, 116)), (1, (116, 108)), (1, (116, 63)), (1, (115, 226)), (1, (115, 111)), (1, (115, 105)), (1, (115, 101)), (1, (115, 97)), (1, (114, 117)), (1, (114, 108)), (1, (114, 100)), (1, (114, 95)), (1, (112, 116)), (1, (112, 97)), (1, (111, 122)), (1, (111, 119)), (1, (111, 116)), (1, (111, 108)), (1, (110, 226)), (1, (110, 110)), (1, (110, 101)), (1, (110, 99)), (1, (110, 97)), (1, (110, 46)), (1, (109, 121)), (1, (109, 111)), (1, (109, 105)), (1, (108, 117)), (1, (108, 100)), (1, (108, 97)), (1, (107, 110)), (1, (105, 118)), (1, (105, 109)), (1, (105, 108)), (1, (105, 103)), (1, (104, 105)), (1, (103, 115)), (1, (103, 101)), (1, (103, 46)), (1, (102, 105)), (1, (102, 101)), (1, (101, 120)), (1, (101, 109)), (1, (101, 46)), (1, (101, 44)), (1, (100, 119)), (1, (100, 45)), (1, (99, 104)), (1, (99, 101)), (1, (98, 115)), (1, (98, 108)), (1, (97, 119)), (1, (97, 103)), (1, (97, 102)), (1, (97, 98)), (1, (97, 32)), (1, (95, 116)), (1, (87, 101)), (1, (84, 104)), (1, (83, 116)), (1, (73, 32)), (1, (66, 117)), (1, (63, 41)), (1, (51, 48)), (1, (48, 32)), (1, (45, 112)), (1, (41, 46)), (1, (40, 119)), (1, (32, 226)), (1, (32, 121)), (1, (32, 118)), (1, (32, 117)), (1, (32, 108)), (1, (32, 107)), (1, (32, 104)), (1, (32, 101)), (1, (32, 87)), (1, (32, 84)), (1, (32, 83)), (1, (32, 73)), (1, (32, 66)), (1, (32, 51)), (1, (32, 40))]\n"
     ]
    }
   ],
   "source": [
    "print(sorted(((v,k) for k,v in stats.items()), reverse=True))"
   ]
  },
  {
   "cell_type": "code",
   "execution_count": 10,
   "metadata": {},
   "outputs": [
    {
     "data": {
      "text/plain": [
       "20"
      ]
     },
     "execution_count": 10,
     "metadata": {},
     "output_type": "execute_result"
    }
   ],
   "source": [
    "top_pair = sorted(stats.items(),key=lambda item: item[1], reverse=True)\n",
    "top_pair = top_pair[0][1]\n",
    "top_pair"
   ]
  },
  {
   "cell_type": "code",
   "execution_count": 11,
   "metadata": {},
   "outputs": [
    {
     "name": "stdout",
     "output_type": "stream",
     "text": [
      "\u001b[0;31mDocstring:\u001b[0m\n",
      "max(iterable, *[, default=obj, key=func]) -> value\n",
      "max(arg1, arg2, *args, *[, key=func]) -> value\n",
      "\n",
      "With a single iterable argument, return its biggest item. The\n",
      "default keyword-only argument specifies an object to return if\n",
      "the provided iterable is empty.\n",
      "With two or more arguments, return the largest argument.\n",
      "\u001b[0;31mType:\u001b[0m      builtin_function_or_method"
     ]
    }
   ],
   "source": [
    "max??"
   ]
  },
  {
   "cell_type": "code",
   "execution_count": 12,
   "metadata": {},
   "outputs": [
    {
     "data": {
      "text/plain": [
       "(101, 32)"
      ]
     },
     "execution_count": 12,
     "metadata": {},
     "output_type": "execute_result"
    }
   ],
   "source": [
    "top_pair = max(stats, key=stats.get)\n",
    "top_pair"
   ]
  },
  {
   "cell_type": "code",
   "execution_count": 13,
   "metadata": {},
   "outputs": [],
   "source": [
    "def merge(ids, pair, idx):\n",
    "    new_ids = []\n",
    "    i = 0\n",
    "    while i < len(ids):\n",
    "        if i < len(ids) - 1 and ids[i] == pair[0] and ids[i+1] == pair[1]:\n",
    "            new_ids.append(idx)\n",
    "            i += 2\n",
    "        else:\n",
    "            new_ids.append(ids[i])\n",
    "            i += 1\n",
    "    \n",
    "    return new_ids"
   ]
  },
  {
   "cell_type": "code",
   "execution_count": 14,
   "metadata": {},
   "outputs": [
    {
     "data": {
      "text/plain": [
       "[5, 99, 7, 9, 1]"
      ]
     },
     "execution_count": 14,
     "metadata": {},
     "output_type": "execute_result"
    }
   ],
   "source": [
    "merge([5, 6, 6, 7, 9, 1], (6, 6), 99)"
   ]
  },
  {
   "cell_type": "code",
   "execution_count": 15,
   "metadata": {},
   "outputs": [
    {
     "data": {
      "text/plain": [
       "(596, 616)"
      ]
     },
     "execution_count": 15,
     "metadata": {},
     "output_type": "execute_result"
    }
   ],
   "source": [
    "tokens2 = merge(tokens, top_pair, 245)\n",
    "len(tokens2), len(tokens)"
   ]
  },
  {
   "cell_type": "code",
   "execution_count": 16,
   "metadata": {},
   "outputs": [],
   "source": [
    "# making the training text longer to have more representative token statistics\n",
    "# text from https://www.reedbeta.com/blog/programmers-intro-to-unicode/\n",
    "text = \"\"\"A Programmer’s Introduction to Unicode March 3, 2017 · Coding · 22 Comments  Ｕｎｉｃｏｄｅ! 🅤🅝🅘🅒🅞🅓🅔‽ 🇺\\u200c🇳\\u200c🇮\\u200c🇨\\u200c🇴\\u200c🇩\\u200c🇪! 😄 The very name strikes fear and awe into the hearts of programmers worldwide. We all know we ought to “support Unicode” in our software (whatever that means—like using wchar_t for all the strings, right?). But Unicode can be abstruse, and diving into the thousand-page Unicode Standard plus its dozens of supplementary annexes, reports, and notes can be more than a little intimidating. I don’t blame programmers for still finding the whole thing mysterious, even 30 years after Unicode’s inception.  A few months ago, I got interested in Unicode and decided to spend some time learning more about it in detail. In this article, I’ll give an introduction to it from a programmer’s point of view.  I’m going to focus on the character set and what’s involved in working with strings and files of Unicode text. However, in this article I’m not going to talk about fonts, text layout/shaping/rendering, or localization in detail—those are separate issues, beyond my scope (and knowledge) here.  Diversity and Inherent Complexity The Unicode Codespace Codespace Allocation Scripts Usage Frequency Encodings UTF-8 UTF-16 Combining Marks Canonical Equivalence Normalization Forms Grapheme Clusters And More… Diversity and Inherent Complexity As soon as you start to study Unicode, it becomes clear that it represents a large jump in complexity over character sets like ASCII that you may be more familiar with. It’s not just that Unicode contains a much larger number of characters, although that’s part of it. Unicode also has a great deal of internal structure, features, and special cases, making it much more than what one might expect a mere “character set” to be. We’ll see some of that later in this article.  When confronting all this complexity, especially as an engineer, it’s hard not to find oneself asking, “Why do we need all this? Is this really necessary? Couldn’t it be simplified?”  However, Unicode aims to faithfully represent the entire world’s writing systems. The Unicode Consortium’s stated goal is “enabling people around the world to use computers in any language”. And as you might imagine, the diversity of written languages is immense! To date, Unicode supports 135 different scripts, covering some 1100 languages, and there’s still a long tail of over 100 unsupported scripts, both modern and historical, which people are still working to add.  Given this enormous diversity, it’s inevitable that representing it is a complicated project. Unicode embraces that diversity, and accepts the complexity inherent in its mission to include all human writing systems. It doesn’t make a lot of trade-offs in the name of simplification, and it makes exceptions to its own rules where necessary to further its mission.  Moreover, Unicode is committed not just to supporting texts in any single language, but also to letting multiple languages coexist within one text—which introduces even more complexity.  Most programming languages have libraries available to handle the gory low-level details of text manipulation, but as a programmer, you’ll still need to know about certain Unicode features in order to know when and how to apply them. It may take some time to wrap your head around it all, but don’t be discouraged—think about the billions of people for whom your software will be more accessible through supporting text in their language. Embrace the complexity!  The Unicode Codespace Let’s start with some general orientation. The basic elements of Unicode—its “characters”, although that term isn’t quite right—are called code points. Code points are identified by number, customarily written in hexadecimal with the prefix “U+”, such as U+0041 “A” latin capital letter a or U+03B8 “θ” greek small letter theta. Each code point also has a short name, and quite a few other properties, specified in the Unicode Character Database.  The set of all possible code points is called the codespace. The Unicode codespace consists of 1,114,112 code points. However, only 128,237 of them—about 12% of the codespace—are actually assigned, to date. There’s plenty of room for growth! Unicode also reserves an additional 137,468 code points as “private use” areas, which have no standardized meaning and are available for individual applications to define for their own purposes.  Codespace Allocation To get a feel for how the codespace is laid out, it’s helpful to visualize it. Below is a map of the entire codespace, with one pixel per code point. It’s arranged in tiles for visual coherence; each small square is 16×16 = 256 code points, and each large square is a “plane” of 65,536 code points. There are 17 planes altogether.  Map of the Unicode codespace (click to zoom)  White represents unassigned space. Blue is assigned code points, green is private-use areas, and the small red area is surrogates (more about those later). As you can see, the assigned code points are distributed somewhat sparsely, but concentrated in the first three planes.  Plane 0 is also known as the “Basic Multilingual Plane”, or BMP. The BMP contains essentially all the characters needed for modern text in any script, including Latin, Cyrillic, Greek, Han (Chinese), Japanese, Korean, Arabic, Hebrew, Devanagari (Indian), and many more.  (In the past, the codespace was just the BMP and no more—Unicode was originally conceived as a straightforward 16-bit encoding, with only 65,536 code points. It was expanded to its current size in 1996. However, the vast majority of code points in modern text belong to the BMP.)  Plane 1 contains historical scripts, such as Sumerian cuneiform and Egyptian hieroglyphs, as well as emoji and various other symbols. Plane 2 contains a large block of less-common and historical Han characters. The remaining planes are empty, except for a small number of rarely-used formatting characters in Plane 14; planes 15–16 are reserved entirely for private use.  Scripts Let’s zoom in on the first three planes, since that’s where the action is:  Map of scripts in Unicode planes 0–2 (click to zoom)  This map color-codes the 135 different scripts in Unicode. You can see how Han () and Korean () take up most of the range of the BMP (the left large square). By contrast, all of the European, Middle Eastern, and South Asian scripts fit into the first row of the BMP in this diagram.  Many areas of the codespace are adapted or copied from earlier encodings. For example, the first 128 code points of Unicode are just a copy of ASCII. This has clear benefits for compatibility—it’s easy to losslessly convert texts from smaller encodings into Unicode (and the other direction too, as long as no characters outside the smaller encoding are used).  Usage Frequency One more interesting way to visualize the codespace is to look at the distribution of usage—in other words, how often each code point is actually used in real-world texts. Below is a heat map of planes 0–2 based on a large sample of text from Wikipedia and Twitter (all languages). Frequency increases from black (never seen) through red and yellow to white.  Heat map of code point usage frequency in Unicode planes 0–2 (click to zoom)  You can see that the vast majority of this text sample lies in the BMP, with only scattered usage of code points from planes 1–2. The biggest exception is emoji, which show up here as the several bright squares in the bottom row of plane 1.  Encodings We’ve seen that Unicode code points are abstractly identified by their index in the codespace, ranging from U+0000 to U+10FFFF. But how do code points get represented as bytes, in memory or in a file?  The most convenient, computer-friendliest (and programmer-friendliest) thing to do would be to just store the code point index as a 32-bit integer. This works, but it consumes 4 bytes per code point, which is sort of a lot. Using 32-bit ints for Unicode will cost you a bunch of extra storage, memory, and performance in bandwidth-bound scenarios, if you work with a lot of text.  Consequently, there are several more-compact encodings for Unicode. The 32-bit integer encoding is officially called UTF-32 (UTF = “Unicode Transformation Format”), but it’s rarely used for storage. At most, it comes up sometimes as a temporary internal representation, for examining or operating on the code points in a string.  Much more commonly, you’ll see Unicode text encoded as either UTF-8 or UTF-16. These are both variable-length encodings, made up of 8-bit or 16-bit units, respectively. In these schemes, code points with smaller index values take up fewer bytes, which saves a lot of memory for typical texts. The trade-off is that processing UTF-8/16 texts is more programmatically involved, and likely slower.  UTF-8 In UTF-8, each code point is stored using 1 to 4 bytes, based on its index value.  UTF-8 uses a system of binary prefixes, in which the high bits of each byte mark whether it’s a single byte, the beginning of a multi-byte sequence, or a continuation byte; the remaining bits, concatenated, give the code point index. This table shows how it works:  UTF-8 (binary)\\tCode point (binary)\\tRange 0xxxxxxx\\txxxxxxx\\tU+0000–U+007F 110xxxxx 10yyyyyy\\txxxxxyyyyyy\\tU+0080–U+07FF 1110xxxx 10yyyyyy 10zzzzzz\\txxxxyyyyyyzzzzzz\\tU+0800–U+FFFF 11110xxx 10yyyyyy 10zzzzzz 10wwwwww\\txxxyyyyyyzzzzzzwwwwww\\tU+10000–U+10FFFF A handy property of UTF-8 is that code points below 128 (ASCII characters) are encoded as single bytes, and all non-ASCII code points are encoded using sequences of bytes 128–255. This has a couple of nice consequences. First, any strings or files out there that are already in ASCII can also be interpreted as UTF-8 without any conversion. Second, lots of widely-used string programming idioms—such as null termination, or delimiters (newlines, tabs, commas, slashes, etc.)—will just work on UTF-8 strings. ASCII bytes never occur inside the encoding of non-ASCII code points, so searching byte-wise for a null terminator or a delimiter will do the right thing.  Thanks to this convenience, it’s relatively simple to extend legacy ASCII programs and APIs to handle UTF-8 strings. UTF-8 is very widely used in the Unix/Linux and Web worlds, and many programmers argue UTF-8 should be the default encoding everywhere.  However, UTF-8 isn’t a drop-in replacement for ASCII strings in all respects. For instance, code that iterates over the “characters” in a string will need to decode UTF-8 and iterate over code points (or maybe grapheme clusters—more about those later), not bytes. When you measure the “length” of a string, you’ll need to think about whether you want the length in bytes, the length in code points, the width of the text when rendered, or something else.  UTF-16 The other encoding that you’re likely to encounter is UTF-16. It uses 16-bit words, with each code point stored as either 1 or 2 words.  Like UTF-8, we can express the UTF-16 encoding rules in the form of binary prefixes:  UTF-16 (binary)\\tCode point (binary)\\tRange xxxxxxxxxxxxxxxx\\txxxxxxxxxxxxxxxx\\tU+0000–U+FFFF 110110xxxxxxxxxx 110111yyyyyyyyyy\\txxxxxxxxxxyyyyyyyyyy + 0x10000\\tU+10000–U+10FFFF A more common way that people talk about UTF-16 encoding, though, is in terms of code points called “surrogates”. All the code points in the range U+D800–U+DFFF—or in other words, the code points that match the binary prefixes 110110 and 110111 in the table above—are reserved specifically for UTF-16 encoding, and don’t represent any valid characters on their own. They’re only meant to occur in the 2-word encoding pattern above, which is called a “surrogate pair”. Surrogate code points are illegal in any other context! They’re not allowed in UTF-8 or UTF-32 at all.  Historically, UTF-16 is a descendant of the original, pre-1996 versions of Unicode, in which there were only 65,536 code points. The original intention was that there would be no different “encodings”; Unicode was supposed to be a straightforward 16-bit character set. Later, the codespace was expanded to make room for a long tail of less-common (but still important) Han characters, which the Unicode designers didn’t originally plan for. Surrogates were then introduced, as—to put it bluntly—a kludge, allowing 16-bit encodings to access the new code points.  Today, Javascript uses UTF-16 as its standard string representation: if you ask for the length of a string, or iterate over it, etc., the result will be in UTF-16 words, with any code points outside the BMP expressed as surrogate pairs. UTF-16 is also used by the Microsoft Win32 APIs; though Win32 supports either 8-bit or 16-bit strings, the 8-bit version unaccountably still doesn’t support UTF-8—only legacy code-page encodings, like ANSI. This leaves UTF-16 as the only way to get proper Unicode support in Windows. (Update: in Win10 version 1903, they finally added UTF-8 support to the 8-bit APIs! 😊)  By the way, UTF-16’s words can be stored either little-endian or big-endian. Unicode has no opinion on that issue, though it does encourage the convention of putting U+FEFF zero width no-break space at the top of a UTF-16 file as a byte-order mark, to disambiguate the endianness. (If the file doesn’t match the system’s endianness, the BOM will be decoded as U+FFFE, which isn’t a valid code point.)  Combining Marks In the story so far, we’ve been focusing on code points. But in Unicode, a “character” can be more complicated than just an individual code point!  Unicode includes a system for dynamically composing characters, by combining multiple code points together. This is used in various ways to gain flexibility without causing a huge combinatorial explosion in the number of code points.  In European languages, for example, this shows up in the application of diacritics to letters. Unicode supports a wide range of diacritics, including acute and grave accents, umlauts, cedillas, and many more. All these diacritics can be applied to any letter of any alphabet—and in fact, multiple diacritics can be used on a single letter.  If Unicode tried to assign a distinct code point to every possible combination of letter and diacritics, things would rapidly get out of hand. Instead, the dynamic composition system enables you to construct the character you want, by starting with a base code point (the letter) and appending additional code points, called “combining marks”, to specify the diacritics. When a text renderer sees a sequence like this in a string, it automatically stacks the diacritics over or under the base letter to create a composed character.  For example, the accented character “Á” can be expressed as a string of two code points: U+0041 “A” latin capital letter a plus U+0301 “◌́” combining acute accent. This string automatically gets rendered as a single character: “Á”.  Now, Unicode does also include many “precomposed” code points, each representing a letter with some combination of diacritics already applied, such as U+00C1 “Á” latin capital letter a with acute or U+1EC7 “ệ” latin small letter e with circumflex and dot below. I suspect these are mostly inherited from older encodings that were assimilated into Unicode, and kept around for compatibility. In practice, there are precomposed code points for most of the common letter-with-diacritic combinations in European-script languages, so they don’t use dynamic composition that much in typical text.  Still, the system of combining marks does allow for an arbitrary number of diacritics to be stacked on any base character. The reductio-ad-absurdum of this is Zalgo text, which works by ͖͟ͅr͞aṋ̫̠̖͈̗d͖̻̹óm̪͙͕̗̝ļ͇̰͓̳̫ý͓̥̟͍ ̕s̫t̫̱͕̗̰̼̘͜a̼̩͖͇̠͈̣͝c̙͍k̖̱̹͍͘i̢n̨̺̝͇͇̟͙ģ̫̮͎̻̟ͅ ̕n̼̺͈͞u̮͙m̺̭̟̗͞e̞͓̰̤͓̫r̵o̖ṷs҉̪͍̭̬̝̤ ̮͉̝̞̗̟͠d̴̟̜̱͕͚i͇̫̼̯̭̜͡ḁ͙̻̼c̲̲̹r̨̠̹̣̰̦i̱t̤̻̤͍͙̘̕i̵̜̭̤̱͎c̵s ͘o̱̲͈̙͖͇̲͢n͘ ̜͈e̬̲̠̩ac͕̺̠͉h̷̪ ̺̣͖̱ḻ̫̬̝̹ḙ̙̺͙̭͓̲t̞̞͇̲͉͍t̷͔̪͉̲̻̠͙e̦̻͈͉͇r͇̭̭̬͖,̖́ ̜͙͓̣̭s̘̘͈o̱̰̤̲ͅ ̛̬̜̙t̼̦͕̱̹͕̥h̳̲͈͝ͅa̦t̻̲ ̻̟̭̦̖t̛̰̩h̠͕̳̝̫͕e͈̤̘͖̞͘y҉̝͙ ̷͉͔̰̠o̞̰v͈͈̳̘͜er̶f̰͈͔ḻ͕̘̫̺̲o̲̭͙͠ͅw̱̳̺ ͜t̸h͇̭͕̳͍e̖̯̟̠ ͍̞̜͔̩̪͜ļ͎̪̲͚i̝̲̹̙̩̹n̨̦̩̖ḙ̼̲̼͢ͅ ̬͝s̼͚̘̞͝p͙̘̻a̙c҉͉̜̤͈̯̖i̥͡n̦̠̱͟g̸̗̻̦̭̮̟ͅ ̳̪̠͖̳̯̕a̫͜n͝d͡ ̣̦̙ͅc̪̗r̴͙̮̦̹̳e͇͚̞͔̹̫͟a̙̺̙ț͔͎̘̹ͅe̥̩͍ a͖̪̜̮͙̹n̢͉̝ ͇͉͓̦̼́a̳͖̪̤̱p̖͔͔̟͇͎͠p̱͍̺ę̲͎͈̰̲̤̫a̯͜r̨̮̫̣̘a̩̯͖n̹̦̰͎̣̞̞c̨̦̱͔͎͍͖e̬͓͘ ̤̰̩͙̤̬͙o̵̼̻̬̻͇̮̪f̴ ̡̙̭͓͖̪̤“̸͙̠̼c̳̗͜o͏̼͙͔̮r̞̫̺̞̥̬ru̺̻̯͉̭̻̯p̰̥͓̣̫̙̤͢t̳͍̳̖ͅi̶͈̝͙̼̙̹o̡͔n̙̺̹̖̩͝ͅ”̨̗͖͚̩.̯͓  A few other places where dynamic character composition shows up in Unicode:  Vowel-pointing notation in Arabic and Hebrew. In these languages, words are normally spelled with some of their vowels left out. They then have diacritic notation to indicate the vowels (used in dictionaries, language-teaching materials, children’s books, and such). These diacritics are expressed with combining marks.  A Hebrew example, with niqqud:\\tאֶת דַלְתִּי הֵזִיז הֵנִיעַ, קֶטֶב לִשְׁכַּתִּי יָשׁוֹד Normal writing (no niqqud):\\tאת דלתי הזיז הניע, קטב לשכתי ישוד Devanagari, the script used to write Hindi, Sanskrit, and many other South Asian languages, expresses certain vowels as combining marks attached to consonant letters. For example, “ह” + “\\u200bि” = “हि” (“h” + “i” = “hi”). Korean characters stand for syllables, but they are composed of letters called jamo that stand for the vowels and consonants in the syllable. While there are code points for precomposed Korean syllables, it’s also possible to dynamically compose them by concatenating their jamo. For example, “ᄒ” + “ᅡ” + “ᆫ” = “한” (“h” + “a” + “n” = “han”). Canonical Equivalence In Unicode, precomposed characters exist alongside the dynamic composition system. A consequence of this is that there are multiple ways to express “the same” string—different sequences of code points that result in the same user-perceived characters. For example, as we saw earlier, we can express the character “Á” either as the single code point U+00C1, or as the string of two code points U+0041 U+0301.  Another source of ambiguity is the ordering of multiple diacritics in a single character. Diacritic order matters visually when two diacritics apply to the same side of the base character, e.g. both above: “ǡ” (dot, then macron) is different from “ā̇” (macron, then dot). However, when diacritics apply to different sides of the character, e.g. one above and one below, then the order doesn’t affect rendering. Moreover, a character with multiple diacritics might have one of the diacritics precomposed and others expressed as combining marks.  For example, the Vietnamese letter “ệ” can be expressed in five different ways:  Fully precomposed: U+1EC7 “ệ” Partially precomposed: U+1EB9 “ẹ” + U+0302 “◌̂” Partially precomposed: U+00EA “ê” + U+0323 “◌̣” Fully decomposed: U+0065 “e” + U+0323 “◌̣” + U+0302 “◌̂” Fully decomposed: U+0065 “e” + U+0302 “◌̂” + U+0323 “◌̣” Unicode refers to set of strings like this as “canonically equivalent”. Canonically equivalent strings are supposed to be treated as identical for purposes of searching, sorting, rendering, text selection, and so on. This has implications for how you implement operations on text. For example, if an app has a “find in file” operation and the user searches for “ệ”, it should, by default, find occurrences of any of the five versions of “ệ” above!  Normalization Forms To address the problem of “how to handle canonically equivalent strings”, Unicode defines several normalization forms: ways of converting strings into a canonical form so that they can be compared code-point-by-code-point (or byte-by-byte).  The “NFD” normalization form fully decomposes every character down to its component base and combining marks, taking apart any precomposed code points in the string. It also sorts the combining marks in each character according to their rendered position, so e.g. diacritics that go below the character come before the ones that go above the character. (It doesn’t reorder diacritics in the same rendered position, since their order matters visually, as previously mentioned.)  The “NFC” form, conversely, puts things back together into precomposed code points as much as possible. If an unusual combination of diacritics is called for, there may not be any precomposed code point for it, in which case NFC still precomposes what it can and leaves any remaining combining marks in place (again ordered by rendered position, as in NFD).  There are also forms called NFKD and NFKC. The “K” here refers to compatibility decompositions, which cover characters that are “similar” in some sense but not visually identical. However, I’m not going to cover that here.  Grapheme Clusters As we’ve seen, Unicode contains various cases where a thing that a user thinks of as a single “character” might actually be made up of multiple code points under the hood. Unicode formalizes this using the notion of a grapheme cluster: a string of one or more code points that constitute a single “user-perceived character”.  UAX #29 defines the rules for what, precisely, qualifies as a grapheme cluster. It’s approximately “a base code point followed by any number of combining marks”, but the actual definition is a bit more complicated; it accounts for things like Korean jamo, and emoji ZWJ sequences.  The main thing grapheme clusters are used for is text editing: they’re often the most sensible unit for cursor placement and text selection boundaries. Using grapheme clusters for these purposes ensures that you can’t accidentally chop off some diacritics when you copy-and-paste text, that left/right arrow keys always move the cursor by one visible character, and so on.  Another place where grapheme clusters are useful is in enforcing a string length limit—say, on a database field. While the true, underlying limit might be something like the byte length of the string in UTF-8, you wouldn’t want to enforce that by just truncating bytes. At a minimum, you’d want to “round down” to the nearest code point boundary; but even better, round down to the nearest grapheme cluster boundary. Otherwise, you might be corrupting the last character by cutting off a diacritic, or interrupting a jamo sequence or ZWJ sequence.  And More… There’s much more that could be said about Unicode from a programmer’s perspective! I haven’t gotten into such fun topics as case mapping, collation, compatibility decompositions and confusables, Unicode-aware regexes, or bidirectional text. Nor have I said anything yet about implementation issues—how to efficiently store and look-up data about the sparsely-assigned code points, or how to optimize UTF-8 decoding, string comparison, or NFC normalization. Perhaps I’ll return to some of those things in future posts.  Unicode is a fascinating and complex system. It has a many-to-one mapping between bytes and code points, and on top of that a many-to-one (or, under some circumstances, many-to-many) mapping between code points and “characters”. It has oddball special cases in every corner. But no one ever claimed that representing all written languages was going to be easy, and it’s clear that we’re never going back to the bad old days of a patchwork of incompatible encodings.  Further reading:  The Unicode Standard UTF-8 Everywhere Manifesto Dark corners of Unicode by Eevee ICU (International Components for Unicode)—C/C++/Java libraries implementing many Unicode algorithms and related things Python 3 Unicode Howto Google Noto Fonts—set of fonts intended to cover all assigned code points\"\"\""
   ]
  },
  {
   "cell_type": "code",
   "execution_count": 17,
   "metadata": {},
   "outputs": [
    {
     "data": {
      "text/plain": [
       "24597"
      ]
     },
     "execution_count": 17,
     "metadata": {},
     "output_type": "execute_result"
    }
   ],
   "source": [
    "tokens = text.encode(\"utf-8\")\n",
    "len(tokens)"
   ]
  },
  {
   "cell_type": "code",
   "execution_count": 18,
   "metadata": {},
   "outputs": [
    {
     "data": {
      "text/plain": [
       "23328"
      ]
     },
     "execution_count": 18,
     "metadata": {},
     "output_type": "execute_result"
    }
   ],
   "source": [
    "len([ord(a) for a in text])"
   ]
  },
  {
   "cell_type": "code",
   "execution_count": 19,
   "metadata": {},
   "outputs": [
    {
     "data": {
      "text/plain": [
       "97"
      ]
     },
     "execution_count": 19,
     "metadata": {},
     "output_type": "execute_result"
    }
   ],
   "source": [
    "ord('a')"
   ]
  },
  {
   "cell_type": "code",
   "execution_count": 20,
   "metadata": {},
   "outputs": [
    {
     "data": {
      "text/plain": [
       "b'a'"
      ]
     },
     "execution_count": 20,
     "metadata": {},
     "output_type": "execute_result"
    }
   ],
   "source": [
    "'a'.encode('utf-8')"
   ]
  },
  {
   "cell_type": "code",
   "execution_count": 21,
   "metadata": {},
   "outputs": [
    {
     "data": {
      "text/plain": [
       "b'A Programmer\\xe2\\x80\\x99s Introduction to Unicode March 3, 2017 \\xc2\\xb7 Coding \\xc2\\xb7 22 Comments  \\xef\\xbc\\xb5\\xef\\xbd\\x8e\\xef\\xbd\\x89\\xef\\xbd\\x83\\xef\\xbd\\x8f\\xef\\xbd\\x84\\xef\\xbd\\x85! \\xf0\\x9f\\x85\\xa4\\xf0\\x9f\\x85\\x9d\\xf0\\x9f\\x85\\x98\\xf0\\x9f\\x85\\x92\\xf0\\x9f\\x85\\x9e\\xf0\\x9f\\x85\\x93\\xf0\\x9f\\x85\\x94\\xe2\\x80\\xbd \\xf0\\x9f\\x87\\xba\\xe2\\x80\\x8c\\xf0\\x9f\\x87\\xb3\\xe2\\x80\\x8c\\xf0\\x9f\\x87\\xae\\xe2\\x80\\x8c\\xf0\\x9f\\x87\\xa8\\xe2\\x80\\x8c\\xf0\\x9f\\x87\\xb4\\xe2\\x80\\x8c\\xf0\\x9f\\x87\\xa9\\xe2\\x80\\x8c\\xf0\\x9f\\x87\\xaa! \\xf0\\x9f\\x98\\x84 The very name strikes fear and awe into the hearts of programmers worldwide. We all know we ought to \\xe2\\x80\\x9csupport Unicode\\xe2\\x80\\x9d in our software (whatever that means\\xe2\\x80\\x94like using wchar_t for all the strings, right?). But Unicode can be abstruse, and diving into the thousand-page Unicode Standard plus its dozens of supplementary annexes, reports, and notes can be more than a little intimidating. I don\\xe2\\x80\\x99t blame programmers for still finding the whole thing mysterious, even 30 years after Unicode\\xe2\\x80\\x99s inception.  A few months ago, I got interested in Unicode and decided to spend some time learning more about it in detail. In this article, I\\xe2\\x80\\x99ll give an introduction to it from a programmer\\xe2\\x80\\x99s point of view.  I\\xe2\\x80\\x99m going to focus on the character set and what\\xe2\\x80\\x99s involved in working with strings and files of Unicode text. However, in this article I\\xe2\\x80\\x99m not going to talk about fonts, text layout/shaping/rendering, or localization in detail\\xe2\\x80\\x94those are separate issues, beyond my scope (and knowledge) here.  Diversity and Inherent Complexity The Unicode Codespace Codespace Allocation Scripts Usage Frequency Encodings UTF-8 UTF-16 Combining Marks Canonical Equivalence Normalization Forms Grapheme Clusters And More\\xe2\\x80\\xa6 Diversity and Inherent Complexity As soon as you start to study Unicode, it becomes clear that it represents a large jump in complexity over character sets like ASCII that you may be more familiar with. It\\xe2\\x80\\x99s not just that Unicode contains a much larger number of characters, although that\\xe2\\x80\\x99s part of it. Unicode also has a great deal of internal structure, features, and special cases, making it much more than what one might expect a mere \\xe2\\x80\\x9ccharacter set\\xe2\\x80\\x9d to be. We\\xe2\\x80\\x99ll see some of that later in this article.  When confronting all this complexity, especially as an engineer, it\\xe2\\x80\\x99s hard not to find oneself asking, \\xe2\\x80\\x9cWhy do we need all this? Is this really necessary? Couldn\\xe2\\x80\\x99t it be simplified?\\xe2\\x80\\x9d  However, Unicode aims to faithfully represent the entire world\\xe2\\x80\\x99s writing systems. The Unicode Consortium\\xe2\\x80\\x99s stated goal is \\xe2\\x80\\x9cenabling people around the world to use computers in any language\\xe2\\x80\\x9d. And as you might imagine, the diversity of written languages is immense! To date, Unicode supports 135 different scripts, covering some 1100 languages, and there\\xe2\\x80\\x99s still a long tail of over 100 unsupported scripts, both modern and historical, which people are still working to add.  Given this enormous diversity, it\\xe2\\x80\\x99s inevitable that representing it is a complicated project. Unicode embraces that diversity, and accepts the complexity inherent in its mission to include all human writing systems. It doesn\\xe2\\x80\\x99t make a lot of trade-offs in the name of simplification, and it makes exceptions to its own rules where necessary to further its mission.  Moreover, Unicode is committed not just to supporting texts in any single language, but also to letting multiple languages coexist within one text\\xe2\\x80\\x94which introduces even more complexity.  Most programming languages have libraries available to handle the gory low-level details of text manipulation, but as a programmer, you\\xe2\\x80\\x99ll still need to know about certain Unicode features in order to know when and how to apply them. It may take some time to wrap your head around it all, but don\\xe2\\x80\\x99t be discouraged\\xe2\\x80\\x94think about the billions of people for whom your software will be more accessible through supporting text in their language. Embrace the complexity!  The Unicode Codespace Let\\xe2\\x80\\x99s start with some general orientation. The basic elements of Unicode\\xe2\\x80\\x94its \\xe2\\x80\\x9ccharacters\\xe2\\x80\\x9d, although that term isn\\xe2\\x80\\x99t quite right\\xe2\\x80\\x94are called code points. Code points are identified by number, customarily written in hexadecimal with the prefix \\xe2\\x80\\x9cU+\\xe2\\x80\\x9d, such as U+0041 \\xe2\\x80\\x9cA\\xe2\\x80\\x9d latin capital letter a or U+03B8 \\xe2\\x80\\x9c\\xce\\xb8\\xe2\\x80\\x9d greek small letter theta. Each code point also has a short name, and quite a few other properties, specified in the Unicode Character Database.  The set of all possible code points is called the codespace. The Unicode codespace consists of 1,114,112 code points. However, only 128,237 of them\\xe2\\x80\\x94about 12% of the codespace\\xe2\\x80\\x94are actually assigned, to date. There\\xe2\\x80\\x99s plenty of room for growth! Unicode also reserves an additional 137,468 code points as \\xe2\\x80\\x9cprivate use\\xe2\\x80\\x9d areas, which have no standardized meaning and are available for individual applications to define for their own purposes.  Codespace Allocation To get a feel for how the codespace is laid out, it\\xe2\\x80\\x99s helpful to visualize it. Below is a map of the entire codespace, with one pixel per code point. It\\xe2\\x80\\x99s arranged in tiles for visual coherence; each small square is 16\\xc3\\x9716 = 256 code points, and each large square is a \\xe2\\x80\\x9cplane\\xe2\\x80\\x9d of 65,536 code points. There are 17 planes altogether.  Map of the Unicode codespace (click to zoom)  White represents unassigned space. Blue is assigned code points, green is private-use areas, and the small red area is surrogates (more about those later). As you can see, the assigned code points are distributed somewhat sparsely, but concentrated in the first three planes.  Plane 0 is also known as the \\xe2\\x80\\x9cBasic Multilingual Plane\\xe2\\x80\\x9d, or BMP. The BMP contains essentially all the characters needed for modern text in any script, including Latin, Cyrillic, Greek, Han (Chinese), Japanese, Korean, Arabic, Hebrew, Devanagari (Indian), and many more.  (In the past, the codespace was just the BMP and no more\\xe2\\x80\\x94Unicode was originally conceived as a straightforward 16-bit encoding, with only 65,536 code points. It was expanded to its current size in 1996. However, the vast majority of code points in modern text belong to the BMP.)  Plane 1 contains historical scripts, such as Sumerian cuneiform and Egyptian hieroglyphs, as well as emoji and various other symbols. Plane 2 contains a large block of less-common and historical Han characters. The remaining planes are empty, except for a small number of rarely-used formatting characters in Plane 14; planes 15\\xe2\\x80\\x9316 are reserved entirely for private use.  Scripts Let\\xe2\\x80\\x99s zoom in on the first three planes, since that\\xe2\\x80\\x99s where the action is:  Map of scripts in Unicode planes 0\\xe2\\x80\\x932 (click to zoom)  This map color-codes the 135 different scripts in Unicode. You can see how Han () and Korean () take up most of the range of the BMP (the left large square). By contrast, all of the European, Middle Eastern, and South Asian scripts fit into the first row of the BMP in this diagram.  Many areas of the codespace are adapted or copied from earlier encodings. For example, the first 128 code points of Unicode are just a copy of ASCII. This has clear benefits for compatibility\\xe2\\x80\\x94it\\xe2\\x80\\x99s easy to losslessly convert texts from smaller encodings into Unicode (and the other direction too, as long as no characters outside the smaller encoding are used).  Usage Frequency One more interesting way to visualize the codespace is to look at the distribution of usage\\xe2\\x80\\x94in other words, how often each code point is actually used in real-world texts. Below is a heat map of planes 0\\xe2\\x80\\x932 based on a large sample of text from Wikipedia and Twitter (all languages). Frequency increases from black (never seen) through red and yellow to white.  Heat map of code point usage frequency in Unicode planes 0\\xe2\\x80\\x932 (click to zoom)  You can see that the vast majority of this text sample lies in the BMP, with only scattered usage of code points from planes 1\\xe2\\x80\\x932. The biggest exception is emoji, which show up here as the several bright squares in the bottom row of plane 1.  Encodings We\\xe2\\x80\\x99ve seen that Unicode code points are abstractly identified by their index in the codespace, ranging from U+0000 to U+10FFFF. But how do code points get represented as bytes, in memory or in a file?  The most convenient, computer-friendliest (and programmer-friendliest) thing to do would be to just store the code point index as a 32-bit integer. This works, but it consumes 4 bytes per code point, which is sort of a lot. Using 32-bit ints for Unicode will cost you a bunch of extra storage, memory, and performance in bandwidth-bound scenarios, if you work with a lot of text.  Consequently, there are several more-compact encodings for Unicode. The 32-bit integer encoding is officially called UTF-32 (UTF = \\xe2\\x80\\x9cUnicode Transformation Format\\xe2\\x80\\x9d), but it\\xe2\\x80\\x99s rarely used for storage. At most, it comes up sometimes as a temporary internal representation, for examining or operating on the code points in a string.  Much more commonly, you\\xe2\\x80\\x99ll see Unicode text encoded as either UTF-8 or UTF-16. These are both variable-length encodings, made up of 8-bit or 16-bit units, respectively. In these schemes, code points with smaller index values take up fewer bytes, which saves a lot of memory for typical texts. The trade-off is that processing UTF-8/16 texts is more programmatically involved, and likely slower.  UTF-8 In UTF-8, each code point is stored using 1 to 4 bytes, based on its index value.  UTF-8 uses a system of binary prefixes, in which the high bits of each byte mark whether it\\xe2\\x80\\x99s a single byte, the beginning of a multi-byte sequence, or a continuation byte; the remaining bits, concatenated, give the code point index. This table shows how it works:  UTF-8 (binary)\\tCode point (binary)\\tRange 0xxxxxxx\\txxxxxxx\\tU+0000\\xe2\\x80\\x93U+007F 110xxxxx 10yyyyyy\\txxxxxyyyyyy\\tU+0080\\xe2\\x80\\x93U+07FF 1110xxxx 10yyyyyy 10zzzzzz\\txxxxyyyyyyzzzzzz\\tU+0800\\xe2\\x80\\x93U+FFFF 11110xxx 10yyyyyy 10zzzzzz 10wwwwww\\txxxyyyyyyzzzzzzwwwwww\\tU+10000\\xe2\\x80\\x93U+10FFFF A handy property of UTF-8 is that code points below 128 (ASCII characters) are encoded as single bytes, and all non-ASCII code points are encoded using sequences of bytes 128\\xe2\\x80\\x93255. This has a couple of nice consequences. First, any strings or files out there that are already in ASCII can also be interpreted as UTF-8 without any conversion. Second, lots of widely-used string programming idioms\\xe2\\x80\\x94such as null termination, or delimiters (newlines, tabs, commas, slashes, etc.)\\xe2\\x80\\x94will just work on UTF-8 strings. ASCII bytes never occur inside the encoding of non-ASCII code points, so searching byte-wise for a null terminator or a delimiter will do the right thing.  Thanks to this convenience, it\\xe2\\x80\\x99s relatively simple to extend legacy ASCII programs and APIs to handle UTF-8 strings. UTF-8 is very widely used in the Unix/Linux and Web worlds, and many programmers argue UTF-8 should be the default encoding everywhere.  However, UTF-8 isn\\xe2\\x80\\x99t a drop-in replacement for ASCII strings in all respects. For instance, code that iterates over the \\xe2\\x80\\x9ccharacters\\xe2\\x80\\x9d in a string will need to decode UTF-8 and iterate over code points (or maybe grapheme clusters\\xe2\\x80\\x94more about those later), not bytes. When you measure the \\xe2\\x80\\x9clength\\xe2\\x80\\x9d of a string, you\\xe2\\x80\\x99ll need to think about whether you want the length in bytes, the length in code points, the width of the text when rendered, or something else.  UTF-16 The other encoding that you\\xe2\\x80\\x99re likely to encounter is UTF-16. It uses 16-bit words, with each code point stored as either 1 or 2 words.  Like UTF-8, we can express the UTF-16 encoding rules in the form of binary prefixes:  UTF-16 (binary)\\tCode point (binary)\\tRange xxxxxxxxxxxxxxxx\\txxxxxxxxxxxxxxxx\\tU+0000\\xe2\\x80\\x93U+FFFF 110110xxxxxxxxxx 110111yyyyyyyyyy\\txxxxxxxxxxyyyyyyyyyy + 0x10000\\tU+10000\\xe2\\x80\\x93U+10FFFF A more common way that people talk about UTF-16 encoding, though, is in terms of code points called \\xe2\\x80\\x9csurrogates\\xe2\\x80\\x9d. All the code points in the range U+D800\\xe2\\x80\\x93U+DFFF\\xe2\\x80\\x94or in other words, the code points that match the binary prefixes 110110 and 110111 in the table above\\xe2\\x80\\x94are reserved specifically for UTF-16 encoding, and don\\xe2\\x80\\x99t represent any valid characters on their own. They\\xe2\\x80\\x99re only meant to occur in the 2-word encoding pattern above, which is called a \\xe2\\x80\\x9csurrogate pair\\xe2\\x80\\x9d. Surrogate code points are illegal in any other context! They\\xe2\\x80\\x99re not allowed in UTF-8 or UTF-32 at all.  Historically, UTF-16 is a descendant of the original, pre-1996 versions of Unicode, in which there were only 65,536 code points. The original intention was that there would be no different \\xe2\\x80\\x9cencodings\\xe2\\x80\\x9d; Unicode was supposed to be a straightforward 16-bit character set. Later, the codespace was expanded to make room for a long tail of less-common (but still important) Han characters, which the Unicode designers didn\\xe2\\x80\\x99t originally plan for. Surrogates were then introduced, as\\xe2\\x80\\x94to put it bluntly\\xe2\\x80\\x94a kludge, allowing 16-bit encodings to access the new code points.  Today, Javascript uses UTF-16 as its standard string representation: if you ask for the length of a string, or iterate over it, etc., the result will be in UTF-16 words, with any code points outside the BMP expressed as surrogate pairs. UTF-16 is also used by the Microsoft Win32 APIs; though Win32 supports either 8-bit or 16-bit strings, the 8-bit version unaccountably still doesn\\xe2\\x80\\x99t support UTF-8\\xe2\\x80\\x94only legacy code-page encodings, like ANSI. This leaves UTF-16 as the only way to get proper Unicode support in Windows. (Update: in Win10 version 1903, they finally added UTF-8 support to the 8-bit APIs! \\xf0\\x9f\\x98\\x8a)  By the way, UTF-16\\xe2\\x80\\x99s words can be stored either little-endian or big-endian. Unicode has no opinion on that issue, though it does encourage the convention of putting U+FEFF zero width no-break space at the top of a UTF-16 file as a byte-order mark, to disambiguate the endianness. (If the file doesn\\xe2\\x80\\x99t match the system\\xe2\\x80\\x99s endianness, the BOM will be decoded as U+FFFE, which isn\\xe2\\x80\\x99t a valid code point.)  Combining Marks In the story so far, we\\xe2\\x80\\x99ve been focusing on code points. But in Unicode, a \\xe2\\x80\\x9ccharacter\\xe2\\x80\\x9d can be more complicated than just an individual code point!  Unicode includes a system for dynamically composing characters, by combining multiple code points together. This is used in various ways to gain flexibility without causing a huge combinatorial explosion in the number of code points.  In European languages, for example, this shows up in the application of diacritics to letters. Unicode supports a wide range of diacritics, including acute and grave accents, umlauts, cedillas, and many more. All these diacritics can be applied to any letter of any alphabet\\xe2\\x80\\x94and in fact, multiple diacritics can be used on a single letter.  If Unicode tried to assign a distinct code point to every possible combination of letter and diacritics, things would rapidly get out of hand. Instead, the dynamic composition system enables you to construct the character you want, by starting with a base code point (the letter) and appending additional code points, called \\xe2\\x80\\x9ccombining marks\\xe2\\x80\\x9d, to specify the diacritics. When a text renderer sees a sequence like this in a string, it automatically stacks the diacritics over or under the base letter to create a composed character.  For example, the accented character \\xe2\\x80\\x9c\\xc3\\x81\\xe2\\x80\\x9d can be expressed as a string of two code points: U+0041 \\xe2\\x80\\x9cA\\xe2\\x80\\x9d latin capital letter a plus U+0301 \\xe2\\x80\\x9c\\xe2\\x97\\x8c\\xcc\\x81\\xe2\\x80\\x9d combining acute accent. This string automatically gets rendered as a single character: \\xe2\\x80\\x9c\\xc3\\x81\\xe2\\x80\\x9d.  Now, Unicode does also include many \\xe2\\x80\\x9cprecomposed\\xe2\\x80\\x9d code points, each representing a letter with some combination of diacritics already applied, such as U+00C1 \\xe2\\x80\\x9c\\xc3\\x81\\xe2\\x80\\x9d latin capital letter a with acute or U+1EC7 \\xe2\\x80\\x9c\\xe1\\xbb\\x87\\xe2\\x80\\x9d latin small letter e with circumflex and dot below. I suspect these are mostly inherited from older encodings that were assimilated into Unicode, and kept around for compatibility. In practice, there are precomposed code points for most of the common letter-with-diacritic combinations in European-script languages, so they don\\xe2\\x80\\x99t use dynamic composition that much in typical text.  Still, the system of combining marks does allow for an arbitrary number of diacritics to be stacked on any base character. The reductio-ad-absurdum of this is Zalgo text, which works by \\xcd\\x96\\xcd\\x9f\\xcd\\x85r\\xcd\\x9ea\\xe1\\xb9\\x8b\\xcc\\xab\\xcc\\xa0\\xcc\\x96\\xcd\\x88\\xcc\\x97d\\xcd\\x96\\xcc\\xbb\\xcc\\xb9\\xc3\\xb3m\\xcc\\xaa\\xcd\\x99\\xcd\\x95\\xcc\\x97\\xcc\\x9d\\xc4\\xbc\\xcd\\x87\\xcc\\xb0\\xcd\\x93\\xcc\\xb3\\xcc\\xab\\xc3\\xbd\\xcd\\x93\\xcc\\xa5\\xcc\\x9f\\xcd\\x8d \\xcc\\x95s\\xcc\\xabt\\xcc\\xab\\xcc\\xb1\\xcd\\x95\\xcc\\x97\\xcc\\xb0\\xcc\\xbc\\xcc\\x98\\xcd\\x9ca\\xcc\\xbc\\xcc\\xa9\\xcd\\x96\\xcd\\x87\\xcc\\xa0\\xcd\\x88\\xcc\\xa3\\xcd\\x9dc\\xcc\\x99\\xcd\\x8dk\\xcc\\x96\\xcc\\xb1\\xcc\\xb9\\xcd\\x8d\\xcd\\x98i\\xcc\\xa2n\\xcc\\xa8\\xcc\\xba\\xcc\\x9d\\xcd\\x87\\xcd\\x87\\xcc\\x9f\\xcd\\x99\\xc4\\xa3\\xcc\\xab\\xcc\\xae\\xcd\\x8e\\xcc\\xbb\\xcc\\x9f\\xcd\\x85 \\xcc\\x95n\\xcc\\xbc\\xcc\\xba\\xcd\\x88\\xcd\\x9eu\\xcc\\xae\\xcd\\x99m\\xcc\\xba\\xcc\\xad\\xcc\\x9f\\xcc\\x97\\xcd\\x9ee\\xcc\\x9e\\xcd\\x93\\xcc\\xb0\\xcc\\xa4\\xcd\\x93\\xcc\\xabr\\xcc\\xb5o\\xcc\\x96\\xe1\\xb9\\xb7s\\xd2\\x89\\xcc\\xaa\\xcd\\x8d\\xcc\\xad\\xcc\\xac\\xcc\\x9d\\xcc\\xa4 \\xcc\\xae\\xcd\\x89\\xcc\\x9d\\xcc\\x9e\\xcc\\x97\\xcc\\x9f\\xcd\\xa0d\\xcc\\xb4\\xcc\\x9f\\xcc\\x9c\\xcc\\xb1\\xcd\\x95\\xcd\\x9ai\\xcd\\x87\\xcc\\xab\\xcc\\xbc\\xcc\\xaf\\xcc\\xad\\xcc\\x9c\\xcd\\xa1\\xe1\\xb8\\x81\\xcd\\x99\\xcc\\xbb\\xcc\\xbcc\\xcc\\xb2\\xcc\\xb2\\xcc\\xb9r\\xcc\\xa8\\xcc\\xa0\\xcc\\xb9\\xcc\\xa3\\xcc\\xb0\\xcc\\xa6i\\xcc\\xb1t\\xcc\\xa4\\xcc\\xbb\\xcc\\xa4\\xcd\\x8d\\xcd\\x99\\xcc\\x98\\xcc\\x95i\\xcc\\xb5\\xcc\\x9c\\xcc\\xad\\xcc\\xa4\\xcc\\xb1\\xcd\\x8ec\\xcc\\xb5s \\xcd\\x98o\\xcc\\xb1\\xcc\\xb2\\xcd\\x88\\xcc\\x99\\xcd\\x96\\xcd\\x87\\xcc\\xb2\\xcd\\xa2n\\xcd\\x98 \\xcc\\x9c\\xcd\\x88e\\xcc\\xac\\xcc\\xb2\\xcc\\xa0\\xcc\\xa9ac\\xcd\\x95\\xcc\\xba\\xcc\\xa0\\xcd\\x89h\\xcc\\xb7\\xcc\\xaa \\xcc\\xba\\xcc\\xa3\\xcd\\x96\\xcc\\xb1\\xe1\\xb8\\xbb\\xcc\\xab\\xcc\\xac\\xcc\\x9d\\xcc\\xb9\\xe1\\xb8\\x99\\xcc\\x99\\xcc\\xba\\xcd\\x99\\xcc\\xad\\xcd\\x93\\xcc\\xb2t\\xcc\\x9e\\xcc\\x9e\\xcd\\x87\\xcc\\xb2\\xcd\\x89\\xcd\\x8dt\\xcc\\xb7\\xcd\\x94\\xcc\\xaa\\xcd\\x89\\xcc\\xb2\\xcc\\xbb\\xcc\\xa0\\xcd\\x99e\\xcc\\xa6\\xcc\\xbb\\xcd\\x88\\xcd\\x89\\xcd\\x87r\\xcd\\x87\\xcc\\xad\\xcc\\xad\\xcc\\xac\\xcd\\x96,\\xcc\\x96\\xcc\\x81 \\xcc\\x9c\\xcd\\x99\\xcd\\x93\\xcc\\xa3\\xcc\\xads\\xcc\\x98\\xcc\\x98\\xcd\\x88o\\xcc\\xb1\\xcc\\xb0\\xcc\\xa4\\xcc\\xb2\\xcd\\x85 \\xcc\\x9b\\xcc\\xac\\xcc\\x9c\\xcc\\x99t\\xcc\\xbc\\xcc\\xa6\\xcd\\x95\\xcc\\xb1\\xcc\\xb9\\xcd\\x95\\xcc\\xa5h\\xcc\\xb3\\xcc\\xb2\\xcd\\x88\\xcd\\x9d\\xcd\\x85a\\xcc\\xa6t\\xcc\\xbb\\xcc\\xb2 \\xcc\\xbb\\xcc\\x9f\\xcc\\xad\\xcc\\xa6\\xcc\\x96t\\xcc\\x9b\\xcc\\xb0\\xcc\\xa9h\\xcc\\xa0\\xcd\\x95\\xcc\\xb3\\xcc\\x9d\\xcc\\xab\\xcd\\x95e\\xcd\\x88\\xcc\\xa4\\xcc\\x98\\xcd\\x96\\xcc\\x9e\\xcd\\x98y\\xd2\\x89\\xcc\\x9d\\xcd\\x99 \\xcc\\xb7\\xcd\\x89\\xcd\\x94\\xcc\\xb0\\xcc\\xa0o\\xcc\\x9e\\xcc\\xb0v\\xcd\\x88\\xcd\\x88\\xcc\\xb3\\xcc\\x98\\xcd\\x9cer\\xcc\\xb6f\\xcc\\xb0\\xcd\\x88\\xcd\\x94\\xe1\\xb8\\xbb\\xcd\\x95\\xcc\\x98\\xcc\\xab\\xcc\\xba\\xcc\\xb2o\\xcc\\xb2\\xcc\\xad\\xcd\\x99\\xcd\\xa0\\xcd\\x85w\\xcc\\xb1\\xcc\\xb3\\xcc\\xba \\xcd\\x9ct\\xcc\\xb8h\\xcd\\x87\\xcc\\xad\\xcd\\x95\\xcc\\xb3\\xcd\\x8de\\xcc\\x96\\xcc\\xaf\\xcc\\x9f\\xcc\\xa0 \\xcd\\x8d\\xcc\\x9e\\xcc\\x9c\\xcd\\x94\\xcc\\xa9\\xcc\\xaa\\xcd\\x9c\\xc4\\xbc\\xcd\\x8e\\xcc\\xaa\\xcc\\xb2\\xcd\\x9ai\\xcc\\x9d\\xcc\\xb2\\xcc\\xb9\\xcc\\x99\\xcc\\xa9\\xcc\\xb9n\\xcc\\xa8\\xcc\\xa6\\xcc\\xa9\\xcc\\x96\\xe1\\xb8\\x99\\xcc\\xbc\\xcc\\xb2\\xcc\\xbc\\xcd\\xa2\\xcd\\x85 \\xcc\\xac\\xcd\\x9ds\\xcc\\xbc\\xcd\\x9a\\xcc\\x98\\xcc\\x9e\\xcd\\x9dp\\xcd\\x99\\xcc\\x98\\xcc\\xbba\\xcc\\x99c\\xd2\\x89\\xcd\\x89\\xcc\\x9c\\xcc\\xa4\\xcd\\x88\\xcc\\xaf\\xcc\\x96i\\xcc\\xa5\\xcd\\xa1n\\xcc\\xa6\\xcc\\xa0\\xcc\\xb1\\xcd\\x9fg\\xcc\\xb8\\xcc\\x97\\xcc\\xbb\\xcc\\xa6\\xcc\\xad\\xcc\\xae\\xcc\\x9f\\xcd\\x85 \\xcc\\xb3\\xcc\\xaa\\xcc\\xa0\\xcd\\x96\\xcc\\xb3\\xcc\\xaf\\xcc\\x95a\\xcc\\xab\\xcd\\x9cn\\xcd\\x9dd\\xcd\\xa1 \\xcc\\xa3\\xcc\\xa6\\xcc\\x99\\xcd\\x85c\\xcc\\xaa\\xcc\\x97r\\xcc\\xb4\\xcd\\x99\\xcc\\xae\\xcc\\xa6\\xcc\\xb9\\xcc\\xb3e\\xcd\\x87\\xcd\\x9a\\xcc\\x9e\\xcd\\x94\\xcc\\xb9\\xcc\\xab\\xcd\\x9fa\\xcc\\x99\\xcc\\xba\\xcc\\x99\\xc8\\x9b\\xcd\\x94\\xcd\\x8e\\xcc\\x98\\xcc\\xb9\\xcd\\x85e\\xcc\\xa5\\xcc\\xa9\\xcd\\x8d a\\xcd\\x96\\xcc\\xaa\\xcc\\x9c\\xcc\\xae\\xcd\\x99\\xcc\\xb9n\\xcc\\xa2\\xcd\\x89\\xcc\\x9d \\xcd\\x87\\xcd\\x89\\xcd\\x93\\xcc\\xa6\\xcc\\xbc\\xcc\\x81a\\xcc\\xb3\\xcd\\x96\\xcc\\xaa\\xcc\\xa4\\xcc\\xb1p\\xcc\\x96\\xcd\\x94\\xcd\\x94\\xcc\\x9f\\xcd\\x87\\xcd\\x8e\\xcd\\xa0p\\xcc\\xb1\\xcd\\x8d\\xcc\\xba\\xc4\\x99\\xcc\\xb2\\xcd\\x8e\\xcd\\x88\\xcc\\xb0\\xcc\\xb2\\xcc\\xa4\\xcc\\xaba\\xcc\\xaf\\xcd\\x9cr\\xcc\\xa8\\xcc\\xae\\xcc\\xab\\xcc\\xa3\\xcc\\x98a\\xcc\\xa9\\xcc\\xaf\\xcd\\x96n\\xcc\\xb9\\xcc\\xa6\\xcc\\xb0\\xcd\\x8e\\xcc\\xa3\\xcc\\x9e\\xcc\\x9ec\\xcc\\xa8\\xcc\\xa6\\xcc\\xb1\\xcd\\x94\\xcd\\x8e\\xcd\\x8d\\xcd\\x96e\\xcc\\xac\\xcd\\x93\\xcd\\x98 \\xcc\\xa4\\xcc\\xb0\\xcc\\xa9\\xcd\\x99\\xcc\\xa4\\xcc\\xac\\xcd\\x99o\\xcc\\xb5\\xcc\\xbc\\xcc\\xbb\\xcc\\xac\\xcc\\xbb\\xcd\\x87\\xcc\\xae\\xcc\\xaaf\\xcc\\xb4 \\xcc\\xa1\\xcc\\x99\\xcc\\xad\\xcd\\x93\\xcd\\x96\\xcc\\xaa\\xcc\\xa4\\xe2\\x80\\x9c\\xcc\\xb8\\xcd\\x99\\xcc\\xa0\\xcc\\xbcc\\xcc\\xb3\\xcc\\x97\\xcd\\x9co\\xcd\\x8f\\xcc\\xbc\\xcd\\x99\\xcd\\x94\\xcc\\xaer\\xcc\\x9e\\xcc\\xab\\xcc\\xba\\xcc\\x9e\\xcc\\xa5\\xcc\\xacru\\xcc\\xba\\xcc\\xbb\\xcc\\xaf\\xcd\\x89\\xcc\\xad\\xcc\\xbb\\xcc\\xafp\\xcc\\xb0\\xcc\\xa5\\xcd\\x93\\xcc\\xa3\\xcc\\xab\\xcc\\x99\\xcc\\xa4\\xcd\\xa2t\\xcc\\xb3\\xcd\\x8d\\xcc\\xb3\\xcc\\x96\\xcd\\x85i\\xcc\\xb6\\xcd\\x88\\xcc\\x9d\\xcd\\x99\\xcc\\xbc\\xcc\\x99\\xcc\\xb9o\\xcc\\xa1\\xcd\\x94n\\xcc\\x99\\xcc\\xba\\xcc\\xb9\\xcc\\x96\\xcc\\xa9\\xcd\\x9d\\xcd\\x85\\xe2\\x80\\x9d\\xcc\\xa8\\xcc\\x97\\xcd\\x96\\xcd\\x9a\\xcc\\xa9.\\xcc\\xaf\\xcd\\x93  A few other places where dynamic character composition shows up in Unicode:  Vowel-pointing notation in Arabic and Hebrew. In these languages, words are normally spelled with some of their vowels left out. They then have diacritic notation to indicate the vowels (used in dictionaries, language-teaching materials, children\\xe2\\x80\\x99s books, and such). These diacritics are expressed with combining marks.  A Hebrew example, with niqqud:\\t\\xd7\\x90\\xd6\\xb6\\xd7\\xaa \\xd7\\x93\\xd6\\xb7\\xd7\\x9c\\xd6\\xb0\\xd7\\xaa\\xd6\\xb4\\xd6\\xbc\\xd7\\x99 \\xd7\\x94\\xd6\\xb5\\xd7\\x96\\xd6\\xb4\\xd7\\x99\\xd7\\x96 \\xd7\\x94\\xd6\\xb5\\xd7\\xa0\\xd6\\xb4\\xd7\\x99\\xd7\\xa2\\xd6\\xb7, \\xd7\\xa7\\xd6\\xb6\\xd7\\x98\\xd6\\xb6\\xd7\\x91 \\xd7\\x9c\\xd6\\xb4\\xd7\\xa9\\xd6\\xb0\\xd7\\x81\\xd7\\x9b\\xd6\\xb7\\xd6\\xbc\\xd7\\xaa\\xd6\\xb4\\xd6\\xbc\\xd7\\x99 \\xd7\\x99\\xd6\\xb8\\xd7\\xa9\\xd7\\x81\\xd7\\x95\\xd6\\xb9\\xd7\\x93 Normal writing (no niqqud):\\t\\xd7\\x90\\xd7\\xaa \\xd7\\x93\\xd7\\x9c\\xd7\\xaa\\xd7\\x99 \\xd7\\x94\\xd7\\x96\\xd7\\x99\\xd7\\x96 \\xd7\\x94\\xd7\\xa0\\xd7\\x99\\xd7\\xa2, \\xd7\\xa7\\xd7\\x98\\xd7\\x91 \\xd7\\x9c\\xd7\\xa9\\xd7\\x9b\\xd7\\xaa\\xd7\\x99 \\xd7\\x99\\xd7\\xa9\\xd7\\x95\\xd7\\x93 Devanagari, the script used to write Hindi, Sanskrit, and many other South Asian languages, expresses certain vowels as combining marks attached to consonant letters. For example, \\xe2\\x80\\x9c\\xe0\\xa4\\xb9\\xe2\\x80\\x9d + \\xe2\\x80\\x9c\\xe2\\x80\\x8b\\xe0\\xa4\\xbf\\xe2\\x80\\x9d = \\xe2\\x80\\x9c\\xe0\\xa4\\xb9\\xe0\\xa4\\xbf\\xe2\\x80\\x9d (\\xe2\\x80\\x9ch\\xe2\\x80\\x9d + \\xe2\\x80\\x9ci\\xe2\\x80\\x9d = \\xe2\\x80\\x9chi\\xe2\\x80\\x9d). Korean characters stand for syllables, but they are composed of letters called jamo that stand for the vowels and consonants in the syllable. While there are code points for precomposed Korean syllables, it\\xe2\\x80\\x99s also possible to dynamically compose them by concatenating their jamo. For example, \\xe2\\x80\\x9c\\xe1\\x84\\x92\\xe2\\x80\\x9d + \\xe2\\x80\\x9c\\xe1\\x85\\xa1\\xe2\\x80\\x9d + \\xe2\\x80\\x9c\\xe1\\x86\\xab\\xe2\\x80\\x9d = \\xe2\\x80\\x9c\\xed\\x95\\x9c\\xe2\\x80\\x9d (\\xe2\\x80\\x9ch\\xe2\\x80\\x9d + \\xe2\\x80\\x9ca\\xe2\\x80\\x9d + \\xe2\\x80\\x9cn\\xe2\\x80\\x9d = \\xe2\\x80\\x9chan\\xe2\\x80\\x9d). Canonical Equivalence In Unicode, precomposed characters exist alongside the dynamic composition system. A consequence of this is that there are multiple ways to express \\xe2\\x80\\x9cthe same\\xe2\\x80\\x9d string\\xe2\\x80\\x94different sequences of code points that result in the same user-perceived characters. For example, as we saw earlier, we can express the character \\xe2\\x80\\x9c\\xc3\\x81\\xe2\\x80\\x9d either as the single code point U+00C1, or as the string of two code points U+0041 U+0301.  Another source of ambiguity is the ordering of multiple diacritics in a single character. Diacritic order matters visually when two diacritics apply to the same side of the base character, e.g. both above: \\xe2\\x80\\x9c\\xc7\\xa1\\xe2\\x80\\x9d (dot, then macron) is different from \\xe2\\x80\\x9c\\xc4\\x81\\xcc\\x87\\xe2\\x80\\x9d (macron, then dot). However, when diacritics apply to different sides of the character, e.g. one above and one below, then the order doesn\\xe2\\x80\\x99t affect rendering. Moreover, a character with multiple diacritics might have one of the diacritics precomposed and others expressed as combining marks.  For example, the Vietnamese letter \\xe2\\x80\\x9c\\xe1\\xbb\\x87\\xe2\\x80\\x9d can be expressed in five different ways:  Fully precomposed: U+1EC7 \\xe2\\x80\\x9c\\xe1\\xbb\\x87\\xe2\\x80\\x9d Partially precomposed: U+1EB9 \\xe2\\x80\\x9c\\xe1\\xba\\xb9\\xe2\\x80\\x9d + U+0302 \\xe2\\x80\\x9c\\xe2\\x97\\x8c\\xcc\\x82\\xe2\\x80\\x9d Partially precomposed: U+00EA \\xe2\\x80\\x9c\\xc3\\xaa\\xe2\\x80\\x9d + U+0323 \\xe2\\x80\\x9c\\xe2\\x97\\x8c\\xcc\\xa3\\xe2\\x80\\x9d Fully decomposed: U+0065 \\xe2\\x80\\x9ce\\xe2\\x80\\x9d + U+0323 \\xe2\\x80\\x9c\\xe2\\x97\\x8c\\xcc\\xa3\\xe2\\x80\\x9d + U+0302 \\xe2\\x80\\x9c\\xe2\\x97\\x8c\\xcc\\x82\\xe2\\x80\\x9d Fully decomposed: U+0065 \\xe2\\x80\\x9ce\\xe2\\x80\\x9d + U+0302 \\xe2\\x80\\x9c\\xe2\\x97\\x8c\\xcc\\x82\\xe2\\x80\\x9d + U+0323 \\xe2\\x80\\x9c\\xe2\\x97\\x8c\\xcc\\xa3\\xe2\\x80\\x9d Unicode refers to set of strings like this as \\xe2\\x80\\x9ccanonically equivalent\\xe2\\x80\\x9d. Canonically equivalent strings are supposed to be treated as identical for purposes of searching, sorting, rendering, text selection, and so on. This has implications for how you implement operations on text. For example, if an app has a \\xe2\\x80\\x9cfind in file\\xe2\\x80\\x9d operation and the user searches for \\xe2\\x80\\x9c\\xe1\\xbb\\x87\\xe2\\x80\\x9d, it should, by default, find occurrences of any of the five versions of \\xe2\\x80\\x9c\\xe1\\xbb\\x87\\xe2\\x80\\x9d above!  Normalization Forms To address the problem of \\xe2\\x80\\x9chow to handle canonically equivalent strings\\xe2\\x80\\x9d, Unicode defines several normalization forms: ways of converting strings into a canonical form so that they can be compared code-point-by-code-point (or byte-by-byte).  The \\xe2\\x80\\x9cNFD\\xe2\\x80\\x9d normalization form fully decomposes every character down to its component base and combining marks, taking apart any precomposed code points in the string. It also sorts the combining marks in each character according to their rendered position, so e.g. diacritics that go below the character come before the ones that go above the character. (It doesn\\xe2\\x80\\x99t reorder diacritics in the same rendered position, since their order matters visually, as previously mentioned.)  The \\xe2\\x80\\x9cNFC\\xe2\\x80\\x9d form, conversely, puts things back together into precomposed code points as much as possible. If an unusual combination of diacritics is called for, there may not be any precomposed code point for it, in which case NFC still precomposes what it can and leaves any remaining combining marks in place (again ordered by rendered position, as in NFD).  There are also forms called NFKD and NFKC. The \\xe2\\x80\\x9cK\\xe2\\x80\\x9d here refers to compatibility decompositions, which cover characters that are \\xe2\\x80\\x9csimilar\\xe2\\x80\\x9d in some sense but not visually identical. However, I\\xe2\\x80\\x99m not going to cover that here.  Grapheme Clusters As we\\xe2\\x80\\x99ve seen, Unicode contains various cases where a thing that a user thinks of as a single \\xe2\\x80\\x9ccharacter\\xe2\\x80\\x9d might actually be made up of multiple code points under the hood. Unicode formalizes this using the notion of a grapheme cluster: a string of one or more code points that constitute a single \\xe2\\x80\\x9cuser-perceived character\\xe2\\x80\\x9d.  UAX #29 defines the rules for what, precisely, qualifies as a grapheme cluster. It\\xe2\\x80\\x99s approximately \\xe2\\x80\\x9ca base code point followed by any number of combining marks\\xe2\\x80\\x9d, but the actual definition is a bit more complicated; it accounts for things like Korean jamo, and emoji ZWJ sequences.  The main thing grapheme clusters are used for is text editing: they\\xe2\\x80\\x99re often the most sensible unit for cursor placement and text selection boundaries. Using grapheme clusters for these purposes ensures that you can\\xe2\\x80\\x99t accidentally chop off some diacritics when you copy-and-paste text, that left/right arrow keys always move the cursor by one visible character, and so on.  Another place where grapheme clusters are useful is in enforcing a string length limit\\xe2\\x80\\x94say, on a database field. While the true, underlying limit might be something like the byte length of the string in UTF-8, you wouldn\\xe2\\x80\\x99t want to enforce that by just truncating bytes. At a minimum, you\\xe2\\x80\\x99d want to \\xe2\\x80\\x9cround down\\xe2\\x80\\x9d to the nearest code point boundary; but even better, round down to the nearest grapheme cluster boundary. Otherwise, you might be corrupting the last character by cutting off a diacritic, or interrupting a jamo sequence or ZWJ sequence.  And More\\xe2\\x80\\xa6 There\\xe2\\x80\\x99s much more that could be said about Unicode from a programmer\\xe2\\x80\\x99s perspective! I haven\\xe2\\x80\\x99t gotten into such fun topics as case mapping, collation, compatibility decompositions and confusables, Unicode-aware regexes, or bidirectional text. Nor have I said anything yet about implementation issues\\xe2\\x80\\x94how to efficiently store and look-up data about the sparsely-assigned code points, or how to optimize UTF-8 decoding, string comparison, or NFC normalization. Perhaps I\\xe2\\x80\\x99ll return to some of those things in future posts.  Unicode is a fascinating and complex system. It has a many-to-one mapping between bytes and code points, and on top of that a many-to-one (or, under some circumstances, many-to-many) mapping between code points and \\xe2\\x80\\x9ccharacters\\xe2\\x80\\x9d. It has oddball special cases in every corner. But no one ever claimed that representing all written languages was going to be easy, and it\\xe2\\x80\\x99s clear that we\\xe2\\x80\\x99re never going back to the bad old days of a patchwork of incompatible encodings.  Further reading:  The Unicode Standard UTF-8 Everywhere Manifesto Dark corners of Unicode by Eevee ICU (International Components for Unicode)\\xe2\\x80\\x94C/C++/Java libraries implementing many Unicode algorithms and related things Python 3 Unicode Howto Google Noto Fonts\\xe2\\x80\\x94set of fonts intended to cover all assigned code points'"
      ]
     },
     "execution_count": 21,
     "metadata": {},
     "output_type": "execute_result"
    }
   ],
   "source": [
    "tokens"
   ]
  },
  {
   "cell_type": "code",
   "execution_count": 22,
   "metadata": {},
   "outputs": [
    {
     "data": {
      "text/plain": [
       "True"
      ]
     },
     "execution_count": 22,
     "metadata": {},
     "output_type": "execute_result"
    }
   ],
   "source": [
    "list(tokens) == list(map(int, tokens))"
   ]
  },
  {
   "cell_type": "code",
   "execution_count": 23,
   "metadata": {},
   "outputs": [],
   "source": [
    "tokens = list(map(int, tokens))\n",
    "# tokens"
   ]
  },
  {
   "cell_type": "code",
   "execution_count": 24,
   "metadata": {},
   "outputs": [],
   "source": [
    "vocab_size = 276\n",
    "num_merges = vocab_size - 256\n",
    "ids = list(tokens)"
   ]
  },
  {
   "cell_type": "code",
   "execution_count": 25,
   "metadata": {},
   "outputs": [
    {
     "name": "stdout",
     "output_type": "stream",
     "text": [
      "merging (101, 32) as idx: 256\n",
      "merging (105, 110) as idx: 257\n",
      "merging (115, 32) as idx: 258\n",
      "merging (116, 104) as idx: 259\n",
      "merging (101, 114) as idx: 260\n",
      "merging (99, 111) as idx: 261\n",
      "merging (116, 32) as idx: 262\n",
      "merging (226, 128) as idx: 263\n",
      "merging (44, 32) as idx: 264\n",
      "merging (97, 110) as idx: 265\n",
      "merging (111, 114) as idx: 266\n",
      "merging (100, 32) as idx: 267\n",
      "merging (97, 114) as idx: 268\n",
      "merging (101, 110) as idx: 269\n",
      "merging (257, 103) as idx: 270\n",
      "merging (261, 100) as idx: 271\n",
      "merging (121, 32) as idx: 272\n",
      "merging (46, 32) as idx: 273\n",
      "merging (97, 108) as idx: 274\n",
      "merging (259, 256) as idx: 275\n"
     ]
    }
   ],
   "source": [
    "merges = {}\n",
    "for i in range(num_merges):\n",
    "    stats = get_stats(ids)\n",
    "    top_pair = max(stats, key=stats.get)\n",
    "    idx = 256 + i\n",
    "    print(f\"merging {top_pair} as idx: {idx}\")\n",
    "    ids = merge(ids, top_pair, idx)\n",
    "    merges[top_pair] = idx"
   ]
  },
  {
   "cell_type": "code",
   "execution_count": 26,
   "metadata": {},
   "outputs": [
    {
     "name": "stdout",
     "output_type": "stream",
     "text": [
      "tokens length: 24597, ids length: 19438, 1.27X\n"
     ]
    }
   ],
   "source": [
    "print(f\"tokens length: {len(tokens)}, ids length: {len(ids)}, {len(tokens)/len(ids):.2f}X\")\n"
   ]
  },
  {
   "cell_type": "code",
   "execution_count": 27,
   "metadata": {},
   "outputs": [
    {
     "data": {
      "text/plain": [
       "97"
      ]
     },
     "execution_count": 27,
     "metadata": {},
     "output_type": "execute_result"
    }
   ],
   "source": [
    "idx = ord('a')\n",
    "idx"
   ]
  },
  {
   "cell_type": "code",
   "execution_count": 28,
   "metadata": {},
   "outputs": [
    {
     "data": {
      "text/plain": [
       "b'a'"
      ]
     },
     "execution_count": 28,
     "metadata": {},
     "output_type": "execute_result"
    }
   ],
   "source": [
    "bytes([idx])"
   ]
  },
  {
   "cell_type": "code",
   "execution_count": 29,
   "metadata": {},
   "outputs": [
    {
     "data": {
      "text/plain": [
       "b'a'"
      ]
     },
     "execution_count": 29,
     "metadata": {},
     "output_type": "execute_result"
    }
   ],
   "source": [
    "'a'.encode('utf-8')"
   ]
  },
  {
   "cell_type": "code",
   "execution_count": 30,
   "metadata": {},
   "outputs": [
    {
     "data": {
      "text/plain": [
       "{(101, 32): 256,\n",
       " (105, 110): 257,\n",
       " (115, 32): 258,\n",
       " (116, 104): 259,\n",
       " (101, 114): 260,\n",
       " (99, 111): 261,\n",
       " (116, 32): 262,\n",
       " (226, 128): 263,\n",
       " (44, 32): 264,\n",
       " (97, 110): 265,\n",
       " (111, 114): 266,\n",
       " (100, 32): 267,\n",
       " (97, 114): 268,\n",
       " (101, 110): 269,\n",
       " (257, 103): 270,\n",
       " (261, 100): 271,\n",
       " (121, 32): 272,\n",
       " (46, 32): 273,\n",
       " (97, 108): 274,\n",
       " (259, 256): 275}"
      ]
     },
     "execution_count": 30,
     "metadata": {},
     "output_type": "execute_result"
    }
   ],
   "source": [
    "merges"
   ]
  },
  {
   "cell_type": "code",
   "execution_count": 31,
   "metadata": {},
   "outputs": [
    {
     "data": {
      "text/plain": [
       "{0: b'\\x00',\n",
       " 1: b'\\x01',\n",
       " 2: b'\\x02',\n",
       " 3: b'\\x03',\n",
       " 4: b'\\x04',\n",
       " 5: b'\\x05',\n",
       " 6: b'\\x06',\n",
       " 7: b'\\x07',\n",
       " 8: b'\\x08',\n",
       " 9: b'\\t',\n",
       " 10: b'\\n',\n",
       " 11: b'\\x0b',\n",
       " 12: b'\\x0c',\n",
       " 13: b'\\r',\n",
       " 14: b'\\x0e',\n",
       " 15: b'\\x0f',\n",
       " 16: b'\\x10',\n",
       " 17: b'\\x11',\n",
       " 18: b'\\x12',\n",
       " 19: b'\\x13',\n",
       " 20: b'\\x14',\n",
       " 21: b'\\x15',\n",
       " 22: b'\\x16',\n",
       " 23: b'\\x17',\n",
       " 24: b'\\x18',\n",
       " 25: b'\\x19',\n",
       " 26: b'\\x1a',\n",
       " 27: b'\\x1b',\n",
       " 28: b'\\x1c',\n",
       " 29: b'\\x1d',\n",
       " 30: b'\\x1e',\n",
       " 31: b'\\x1f',\n",
       " 32: b' ',\n",
       " 33: b'!',\n",
       " 34: b'\"',\n",
       " 35: b'#',\n",
       " 36: b'$',\n",
       " 37: b'%',\n",
       " 38: b'&',\n",
       " 39: b\"'\",\n",
       " 40: b'(',\n",
       " 41: b')',\n",
       " 42: b'*',\n",
       " 43: b'+',\n",
       " 44: b',',\n",
       " 45: b'-',\n",
       " 46: b'.',\n",
       " 47: b'/',\n",
       " 48: b'0',\n",
       " 49: b'1',\n",
       " 50: b'2',\n",
       " 51: b'3',\n",
       " 52: b'4',\n",
       " 53: b'5',\n",
       " 54: b'6',\n",
       " 55: b'7',\n",
       " 56: b'8',\n",
       " 57: b'9',\n",
       " 58: b':',\n",
       " 59: b';',\n",
       " 60: b'<',\n",
       " 61: b'=',\n",
       " 62: b'>',\n",
       " 63: b'?',\n",
       " 64: b'@',\n",
       " 65: b'A',\n",
       " 66: b'B',\n",
       " 67: b'C',\n",
       " 68: b'D',\n",
       " 69: b'E',\n",
       " 70: b'F',\n",
       " 71: b'G',\n",
       " 72: b'H',\n",
       " 73: b'I',\n",
       " 74: b'J',\n",
       " 75: b'K',\n",
       " 76: b'L',\n",
       " 77: b'M',\n",
       " 78: b'N',\n",
       " 79: b'O',\n",
       " 80: b'P',\n",
       " 81: b'Q',\n",
       " 82: b'R',\n",
       " 83: b'S',\n",
       " 84: b'T',\n",
       " 85: b'U',\n",
       " 86: b'V',\n",
       " 87: b'W',\n",
       " 88: b'X',\n",
       " 89: b'Y',\n",
       " 90: b'Z',\n",
       " 91: b'[',\n",
       " 92: b'\\\\',\n",
       " 93: b']',\n",
       " 94: b'^',\n",
       " 95: b'_',\n",
       " 96: b'`',\n",
       " 97: b'a',\n",
       " 98: b'b',\n",
       " 99: b'c',\n",
       " 100: b'd',\n",
       " 101: b'e',\n",
       " 102: b'f',\n",
       " 103: b'g',\n",
       " 104: b'h',\n",
       " 105: b'i',\n",
       " 106: b'j',\n",
       " 107: b'k',\n",
       " 108: b'l',\n",
       " 109: b'm',\n",
       " 110: b'n',\n",
       " 111: b'o',\n",
       " 112: b'p',\n",
       " 113: b'q',\n",
       " 114: b'r',\n",
       " 115: b's',\n",
       " 116: b't',\n",
       " 117: b'u',\n",
       " 118: b'v',\n",
       " 119: b'w',\n",
       " 120: b'x',\n",
       " 121: b'y',\n",
       " 122: b'z',\n",
       " 123: b'{',\n",
       " 124: b'|',\n",
       " 125: b'}',\n",
       " 126: b'~',\n",
       " 127: b'\\x7f',\n",
       " 128: b'\\x80',\n",
       " 129: b'\\x81',\n",
       " 130: b'\\x82',\n",
       " 131: b'\\x83',\n",
       " 132: b'\\x84',\n",
       " 133: b'\\x85',\n",
       " 134: b'\\x86',\n",
       " 135: b'\\x87',\n",
       " 136: b'\\x88',\n",
       " 137: b'\\x89',\n",
       " 138: b'\\x8a',\n",
       " 139: b'\\x8b',\n",
       " 140: b'\\x8c',\n",
       " 141: b'\\x8d',\n",
       " 142: b'\\x8e',\n",
       " 143: b'\\x8f',\n",
       " 144: b'\\x90',\n",
       " 145: b'\\x91',\n",
       " 146: b'\\x92',\n",
       " 147: b'\\x93',\n",
       " 148: b'\\x94',\n",
       " 149: b'\\x95',\n",
       " 150: b'\\x96',\n",
       " 151: b'\\x97',\n",
       " 152: b'\\x98',\n",
       " 153: b'\\x99',\n",
       " 154: b'\\x9a',\n",
       " 155: b'\\x9b',\n",
       " 156: b'\\x9c',\n",
       " 157: b'\\x9d',\n",
       " 158: b'\\x9e',\n",
       " 159: b'\\x9f',\n",
       " 160: b'\\xa0',\n",
       " 161: b'\\xa1',\n",
       " 162: b'\\xa2',\n",
       " 163: b'\\xa3',\n",
       " 164: b'\\xa4',\n",
       " 165: b'\\xa5',\n",
       " 166: b'\\xa6',\n",
       " 167: b'\\xa7',\n",
       " 168: b'\\xa8',\n",
       " 169: b'\\xa9',\n",
       " 170: b'\\xaa',\n",
       " 171: b'\\xab',\n",
       " 172: b'\\xac',\n",
       " 173: b'\\xad',\n",
       " 174: b'\\xae',\n",
       " 175: b'\\xaf',\n",
       " 176: b'\\xb0',\n",
       " 177: b'\\xb1',\n",
       " 178: b'\\xb2',\n",
       " 179: b'\\xb3',\n",
       " 180: b'\\xb4',\n",
       " 181: b'\\xb5',\n",
       " 182: b'\\xb6',\n",
       " 183: b'\\xb7',\n",
       " 184: b'\\xb8',\n",
       " 185: b'\\xb9',\n",
       " 186: b'\\xba',\n",
       " 187: b'\\xbb',\n",
       " 188: b'\\xbc',\n",
       " 189: b'\\xbd',\n",
       " 190: b'\\xbe',\n",
       " 191: b'\\xbf',\n",
       " 192: b'\\xc0',\n",
       " 193: b'\\xc1',\n",
       " 194: b'\\xc2',\n",
       " 195: b'\\xc3',\n",
       " 196: b'\\xc4',\n",
       " 197: b'\\xc5',\n",
       " 198: b'\\xc6',\n",
       " 199: b'\\xc7',\n",
       " 200: b'\\xc8',\n",
       " 201: b'\\xc9',\n",
       " 202: b'\\xca',\n",
       " 203: b'\\xcb',\n",
       " 204: b'\\xcc',\n",
       " 205: b'\\xcd',\n",
       " 206: b'\\xce',\n",
       " 207: b'\\xcf',\n",
       " 208: b'\\xd0',\n",
       " 209: b'\\xd1',\n",
       " 210: b'\\xd2',\n",
       " 211: b'\\xd3',\n",
       " 212: b'\\xd4',\n",
       " 213: b'\\xd5',\n",
       " 214: b'\\xd6',\n",
       " 215: b'\\xd7',\n",
       " 216: b'\\xd8',\n",
       " 217: b'\\xd9',\n",
       " 218: b'\\xda',\n",
       " 219: b'\\xdb',\n",
       " 220: b'\\xdc',\n",
       " 221: b'\\xdd',\n",
       " 222: b'\\xde',\n",
       " 223: b'\\xdf',\n",
       " 224: b'\\xe0',\n",
       " 225: b'\\xe1',\n",
       " 226: b'\\xe2',\n",
       " 227: b'\\xe3',\n",
       " 228: b'\\xe4',\n",
       " 229: b'\\xe5',\n",
       " 230: b'\\xe6',\n",
       " 231: b'\\xe7',\n",
       " 232: b'\\xe8',\n",
       " 233: b'\\xe9',\n",
       " 234: b'\\xea',\n",
       " 235: b'\\xeb',\n",
       " 236: b'\\xec',\n",
       " 237: b'\\xed',\n",
       " 238: b'\\xee',\n",
       " 239: b'\\xef',\n",
       " 240: b'\\xf0',\n",
       " 241: b'\\xf1',\n",
       " 242: b'\\xf2',\n",
       " 243: b'\\xf3',\n",
       " 244: b'\\xf4',\n",
       " 245: b'\\xf5',\n",
       " 246: b'\\xf6',\n",
       " 247: b'\\xf7',\n",
       " 248: b'\\xf8',\n",
       " 249: b'\\xf9',\n",
       " 250: b'\\xfa',\n",
       " 251: b'\\xfb',\n",
       " 252: b'\\xfc',\n",
       " 253: b'\\xfd',\n",
       " 254: b'\\xfe',\n",
       " 255: b'\\xff'}"
      ]
     },
     "execution_count": 31,
     "metadata": {},
     "output_type": "execute_result"
    }
   ],
   "source": [
    "bytes([12])\n",
    "vocab = {idx: bytes([idx]) for idx in range(256)}\n",
    "vocab"
   ]
  },
  {
   "cell_type": "code",
   "execution_count": 32,
   "metadata": {},
   "outputs": [
    {
     "data": {
      "text/plain": [
       "bytes"
      ]
     },
     "execution_count": 32,
     "metadata": {},
     "output_type": "execute_result"
    }
   ],
   "source": [
    "type(vocab[1])"
   ]
  },
  {
   "cell_type": "code",
   "execution_count": 33,
   "metadata": {},
   "outputs": [
    {
     "data": {
      "text/plain": [
       "b'\\x01\\x02\\x03'"
      ]
     },
     "execution_count": 33,
     "metadata": {},
     "output_type": "execute_result"
    }
   ],
   "source": [
    "ids = [1, 2, 3]\n",
    "b\"\".join(vocab[idx] for idx in ids)"
   ]
  },
  {
   "cell_type": "code",
   "execution_count": 34,
   "metadata": {},
   "outputs": [
    {
     "data": {
      "text/plain": [
       "{(101, 32): 256,\n",
       " (105, 110): 257,\n",
       " (115, 32): 258,\n",
       " (116, 104): 259,\n",
       " (101, 114): 260,\n",
       " (99, 111): 261,\n",
       " (116, 32): 262,\n",
       " (226, 128): 263,\n",
       " (44, 32): 264,\n",
       " (97, 110): 265,\n",
       " (111, 114): 266,\n",
       " (100, 32): 267,\n",
       " (97, 114): 268,\n",
       " (101, 110): 269,\n",
       " (257, 103): 270,\n",
       " (261, 100): 271,\n",
       " (121, 32): 272,\n",
       " (46, 32): 273,\n",
       " (97, 108): 274,\n",
       " (259, 256): 275}"
      ]
     },
     "execution_count": 34,
     "metadata": {},
     "output_type": "execute_result"
    }
   ],
   "source": [
    "merges"
   ]
  },
  {
   "cell_type": "code",
   "execution_count": 35,
   "metadata": {},
   "outputs": [],
   "source": [
    "# for pair, _ in merges.items():\n",
    "#     print(pair)"
   ]
  },
  {
   "cell_type": "code",
   "execution_count": 36,
   "metadata": {},
   "outputs": [],
   "source": [
    "# decoding\n",
    "# Given a seq of integers in [0, vocab_size], what is the text str?\n",
    "vocab = {idx: bytes([idx]) for idx in range(256)}\n",
    "for pair, idx in merges.items():\n",
    "    vocab[idx] = vocab[pair[0]] + vocab[pair[1]]"
   ]
  },
  {
   "cell_type": "code",
   "execution_count": 37,
   "metadata": {},
   "outputs": [],
   "source": [
    "# vocab"
   ]
  },
  {
   "cell_type": "code",
   "execution_count": 38,
   "metadata": {},
   "outputs": [],
   "source": [
    "def decode(ids):\n",
    "    tokens = b\"\".join(vocab[id] for id in ids)\n",
    "    text = tokens.decode('utf-8', errors='replace')\n",
    "    return text"
   ]
  },
  {
   "cell_type": "code",
   "execution_count": 39,
   "metadata": {},
   "outputs": [
    {
     "data": {
      "text/plain": [
       "('a', b'\\x80')"
      ]
     },
     "execution_count": 39,
     "metadata": {},
     "output_type": "execute_result"
    }
   ],
   "source": [
    "decode([97]), vocab[128]"
   ]
  },
  {
   "cell_type": "code",
   "execution_count": 40,
   "metadata": {},
   "outputs": [
    {
     "data": {
      "text/plain": [
       "{(101, 32): 256,\n",
       " (105, 110): 257,\n",
       " (115, 32): 258,\n",
       " (116, 104): 259,\n",
       " (101, 114): 260,\n",
       " (99, 111): 261,\n",
       " (116, 32): 262,\n",
       " (226, 128): 263,\n",
       " (44, 32): 264,\n",
       " (97, 110): 265,\n",
       " (111, 114): 266,\n",
       " (100, 32): 267,\n",
       " (97, 114): 268,\n",
       " (101, 110): 269,\n",
       " (257, 103): 270,\n",
       " (261, 100): 271,\n",
       " (121, 32): 272,\n",
       " (46, 32): 273,\n",
       " (97, 108): 274,\n",
       " (259, 256): 275}"
      ]
     },
     "execution_count": 40,
     "metadata": {},
     "output_type": "execute_result"
    }
   ],
   "source": [
    "merges"
   ]
  },
  {
   "cell_type": "code",
   "execution_count": 41,
   "metadata": {},
   "outputs": [
    {
     "data": {
      "text/plain": [
       "{(101, 32): 2, (32, 97): 2, (97, 110): 2, (110, 101): 1}"
      ]
     },
     "execution_count": 41,
     "metadata": {},
     "output_type": "execute_result"
    }
   ],
   "source": [
    "stats = get_stats([101, 32, 97, 110, 101, 32, 97, 110])\n",
    "stats"
   ]
  },
  {
   "cell_type": "code",
   "execution_count": 42,
   "metadata": {},
   "outputs": [
    {
     "data": {
      "text/plain": [
       "(101, 32)"
      ]
     },
     "execution_count": 42,
     "metadata": {},
     "output_type": "execute_result"
    }
   ],
   "source": [
    "# find the key from stats corresponding to minimum value in merges\n",
    "min(stats, key=lambda p: merges.get(p, float(\"inf\")))"
   ]
  },
  {
   "cell_type": "code",
   "execution_count": 43,
   "metadata": {},
   "outputs": [],
   "source": [
    "def encode(text):\n",
    "    # given a string, return a list of integers (the tokens)\n",
    "    tokens = list(text.encode('utf-8'))\n",
    "    while len(tokens) > 2:\n",
    "        stats = get_stats(tokens)\n",
    "        # find the key from stats which has minumum value in merges\n",
    "        pair = min(stats, key=lambda p: merges.get(p, float(\"inf\")))\n",
    "        if pair not in merges:\n",
    "            break\n",
    "        idx = merges[pair]\n",
    "        tokens = merge(tokens, pair, idx)\n",
    "    return tokens"
   ]
  },
  {
   "cell_type": "code",
   "execution_count": 44,
   "metadata": {},
   "outputs": [
    {
     "data": {
      "text/plain": [
       "'How are you doing'"
      ]
     },
     "execution_count": 44,
     "metadata": {},
     "output_type": "execute_result"
    }
   ],
   "source": [
    "decode(encode('How are you doing'))"
   ]
  },
  {
   "cell_type": "code",
   "execution_count": 45,
   "metadata": {},
   "outputs": [
    {
     "data": {
      "text/plain": [
       "'How are you doing!!!'"
      ]
     },
     "execution_count": 45,
     "metadata": {},
     "output_type": "execute_result"
    }
   ],
   "source": [
    "decode(encode('How are you doing!!!'))"
   ]
  },
  {
   "cell_type": "code",
   "execution_count": 46,
   "metadata": {},
   "outputs": [
    {
     "data": {
      "text/plain": [
       "23328"
      ]
     },
     "execution_count": 46,
     "metadata": {},
     "output_type": "execute_result"
    }
   ],
   "source": [
    "len(text)"
   ]
  },
  {
   "cell_type": "code",
   "execution_count": 47,
   "metadata": {},
   "outputs": [
    {
     "name": "stdout",
     "output_type": "stream",
     "text": [
      "True\n"
     ]
    }
   ],
   "source": [
    "text2 = decode(encode(text))\n",
    "print(text2 == text)"
   ]
  },
  {
   "cell_type": "code",
   "execution_count": 48,
   "metadata": {},
   "outputs": [
    {
     "name": "stdout",
     "output_type": "stream",
     "text": [
      "True\n"
     ]
    }
   ],
   "source": [
    "valtext = \"can be found in the root directory of this repository. Alternatively here as Google docs presentation.\"\n",
    "valtext2 = decode(encode(valtext))\n",
    "print(valtext == valtext2)"
   ]
  },
  {
   "cell_type": "code",
   "execution_count": 49,
   "metadata": {},
   "outputs": [],
   "source": [
    "### Forced splits using regex patterns (GPT series)"
   ]
  },
  {
   "cell_type": "code",
   "execution_count": 50,
   "metadata": {},
   "outputs": [],
   "source": [
    "import regex as re\n",
    "gpt2pat = re.compile(r\"\"\"'s|'t|'re|'ve|'m|'ll|'d| ?\\p{L}+| ?\\p{N}+| ?[^\\s\\p{L}\\p{N}]+|\\s+(?!\\S)|\\s+\"\"\")\n",
    "# gpt2pat = re.compile(r\"\"\"'s|'t|'re|'ve|'m|'ll|'d| ?\\p{L}+| ?\\p{N}+| ?[^\\s\\p{L}\\p{N}]+\"\"\")"
   ]
  },
  {
   "cell_type": "code",
   "execution_count": 51,
   "metadata": {},
   "outputs": [
    {
     "data": {
      "text/plain": [
       "['Hello',\n",
       " \"'ve\",\n",
       " ' world',\n",
       " '123',\n",
       " ' how',\n",
       " \"'s\",\n",
       " ' are',\n",
       " ' you',\n",
       " '!!!?',\n",
       " '  ',\n",
       " ' abcd',\n",
       " '    ']"
      ]
     },
     "execution_count": 51,
     "metadata": {},
     "output_type": "execute_result"
    }
   ],
   "source": [
    "re.findall(gpt2pat, \"Hello've world123 how's are you!!!?   abcd    \")"
   ]
  },
  {
   "cell_type": "code",
   "execution_count": 52,
   "metadata": {},
   "outputs": [],
   "source": [
    "example = \"\"\"for i in range(1, 101):\n",
    "    if i % 3 == 0 and i % 5 == 0:\n",
    "        print(\"FizzBuzz\")\n",
    "    elif i % 3 == 0:\n",
    "        print(\"Fizz\")\n",
    "    elif i % 5 == 0:\n",
    "        print(\"Buzz\")\n",
    "    else:\n",
    "        print(i)\n",
    "\"\"\""
   ]
  },
  {
   "cell_type": "code",
   "execution_count": 53,
   "metadata": {},
   "outputs": [
    {
     "name": "stdout",
     "output_type": "stream",
     "text": [
      "['for', ' i', ' in', ' range', '(', '1', ',', ' 101', '):', '\\n   ', ' if', ' i', ' %', ' 3', ' ==', ' 0', ' and', ' i', ' %', ' 5', ' ==', ' 0', ':', '\\n       ', ' print', '(\"', 'FizzBuzz', '\")', '\\n   ', ' elif', ' i', ' %', ' 3', ' ==', ' 0', ':', '\\n       ', ' print', '(\"', 'Fizz', '\")', '\\n   ', ' elif', ' i', ' %', ' 5', ' ==', ' 0', ':', '\\n       ', ' print', '(\"', 'Buzz', '\")', '\\n   ', ' else', ':', '\\n       ', ' print', '(', 'i', ')', '\\n']\n"
     ]
    }
   ],
   "source": [
    "print(re.findall(gpt2pat, example))"
   ]
  },
  {
   "cell_type": "code",
   "execution_count": 54,
   "metadata": {},
   "outputs": [],
   "source": [
    "# re.findall(r'\\s+', example)"
   ]
  },
  {
   "cell_type": "code",
   "execution_count": 55,
   "metadata": {},
   "outputs": [
    {
     "name": "stdout",
     "output_type": "stream",
     "text": [
      "Requirement already satisfied: tiktoken in /Users/htkumar/anaconda3/envs/myenv/lib/python3.8/site-packages (0.6.0)\n",
      "Requirement already satisfied: regex>=2022.1.18 in /Users/htkumar/anaconda3/envs/myenv/lib/python3.8/site-packages (from tiktoken) (2023.12.25)\n",
      "Requirement already satisfied: requests>=2.26.0 in /Users/htkumar/anaconda3/envs/myenv/lib/python3.8/site-packages (from tiktoken) (2.31.0)\n",
      "Requirement already satisfied: charset-normalizer<4,>=2 in /Users/htkumar/anaconda3/envs/myenv/lib/python3.8/site-packages (from requests>=2.26.0->tiktoken) (2.0.4)\n",
      "Requirement already satisfied: idna<4,>=2.5 in /Users/htkumar/anaconda3/envs/myenv/lib/python3.8/site-packages (from requests>=2.26.0->tiktoken) (3.4)\n",
      "Requirement already satisfied: urllib3<3,>=1.21.1 in /Users/htkumar/anaconda3/envs/myenv/lib/python3.8/site-packages (from requests>=2.26.0->tiktoken) (1.26.18)\n",
      "Requirement already satisfied: certifi>=2017.4.17 in /Users/htkumar/anaconda3/envs/myenv/lib/python3.8/site-packages (from requests>=2.26.0->tiktoken) (2023.11.17)\n"
     ]
    }
   ],
   "source": [
    "!pip install tiktoken"
   ]
  },
  {
   "cell_type": "code",
   "execution_count": 56,
   "metadata": {},
   "outputs": [
    {
     "name": "stdout",
     "output_type": "stream",
     "text": [
      "[220, 220, 23748, 995, 10185]\n",
      "[256, 24748, 1917, 12340]\n"
     ]
    }
   ],
   "source": [
    "import tiktoken\n",
    "\n",
    "# gpt-2 (does not merge spaces)\n",
    "enc = tiktoken.get_encoding(\"gpt2\")\n",
    "print(enc.encode(\"   hello world!!!\"))\n",
    "\n",
    "# gpt-4 (merges spaces)\n",
    "enc = tiktoken.get_encoding(\"cl100k_base\")\n",
    "print(enc.encode(\"   hello world!!!\"))"
   ]
  },
  {
   "cell_type": "code",
   "execution_count": 57,
   "metadata": {},
   "outputs": [
    {
     "name": "stdout",
     "output_type": "stream",
     "text": [
      "--2024-03-02 18:28:04--  https://openaipublic.blob.core.windows.net/gpt-2/models/1558M/vocab.bpe\n",
      "Resolving openaipublic.blob.core.windows.net (openaipublic.blob.core.windows.net)... 20.60.179.33\n",
      "Connecting to openaipublic.blob.core.windows.net (openaipublic.blob.core.windows.net)|20.60.179.33|:443... connected.\n",
      "HTTP request sent, awaiting response... 200 OK\n",
      "Length: 456318 (446K) [application/octet-stream]\n",
      "Saving to: ‘vocab.bpe.1’\n",
      "\n",
      "vocab.bpe.1         100%[===================>] 445.62K  1.77MB/s    in 0.2s    \n",
      "\n",
      "2024-03-02 18:28:04 (1.77 MB/s) - ‘vocab.bpe.1’ saved [456318/456318]\n",
      "\n",
      "--2024-03-02 18:28:04--  https://openaipublic.blob.core.windows.net/gpt-2/models/1558M/encoder.json\n",
      "Resolving openaipublic.blob.core.windows.net (openaipublic.blob.core.windows.net)... 20.60.179.33\n",
      "Connecting to openaipublic.blob.core.windows.net (openaipublic.blob.core.windows.net)|20.60.179.33|:443... connected.\n",
      "HTTP request sent, awaiting response... 200 OK\n",
      "Length: 1042301 (1018K) [application/json]\n",
      "Saving to: ‘encoder.json.1’\n",
      "\n",
      "encoder.json.1      100%[===================>]   1018K  1.79MB/s    in 0.6s    \n",
      "\n",
      "2024-03-02 18:28:05 (1.79 MB/s) - ‘encoder.json.1’ saved [1042301/1042301]\n",
      "\n"
     ]
    }
   ],
   "source": [
    "!wget https://openaipublic.blob.core.windows.net/gpt-2/models/1558M/vocab.bpe\n",
    "!wget https://openaipublic.blob.core.windows.net/gpt-2/models/1558M/encoder.json"
   ]
  },
  {
   "cell_type": "code",
   "execution_count": 58,
   "metadata": {},
   "outputs": [],
   "source": [
    "import os, json"
   ]
  },
  {
   "cell_type": "code",
   "execution_count": 59,
   "metadata": {},
   "outputs": [],
   "source": [
    "with open('encoder.json', 'r') as f:\n",
    "    encoder = json.load(f) # similar to our vocab"
   ]
  },
  {
   "cell_type": "code",
   "execution_count": 60,
   "metadata": {},
   "outputs": [],
   "source": [
    "# encoder"
   ]
  },
  {
   "cell_type": "code",
   "execution_count": 61,
   "metadata": {},
   "outputs": [
    {
     "data": {
      "text/plain": [
       "[2, 3]"
      ]
     },
     "execution_count": 61,
     "metadata": {},
     "output_type": "execute_result"
    }
   ],
   "source": [
    "a = [1, 2, 3, 4]\n",
    "a[1:-1]"
   ]
  },
  {
   "cell_type": "code",
   "execution_count": 62,
   "metadata": {},
   "outputs": [
    {
     "data": {
      "text/plain": [
       "{(101, 32): 256,\n",
       " (105, 110): 257,\n",
       " (115, 32): 258,\n",
       " (116, 104): 259,\n",
       " (101, 114): 260,\n",
       " (99, 111): 261,\n",
       " (116, 32): 262,\n",
       " (226, 128): 263,\n",
       " (44, 32): 264,\n",
       " (97, 110): 265,\n",
       " (111, 114): 266,\n",
       " (100, 32): 267,\n",
       " (97, 114): 268,\n",
       " (101, 110): 269,\n",
       " (257, 103): 270,\n",
       " (261, 100): 271,\n",
       " (121, 32): 272,\n",
       " (46, 32): 273,\n",
       " (97, 108): 274,\n",
       " (259, 256): 275}"
      ]
     },
     "execution_count": 62,
     "metadata": {},
     "output_type": "execute_result"
    }
   ],
   "source": [
    "merges"
   ]
  },
  {
   "cell_type": "code",
   "execution_count": 63,
   "metadata": {},
   "outputs": [],
   "source": [
    "with open('vocab.bpe', 'r') as f:\n",
    "    bpe_data = f.read()"
   ]
  },
  {
   "cell_type": "code",
   "execution_count": 64,
   "metadata": {},
   "outputs": [
    {
     "data": {
      "text/plain": [
       "b'\\xc4\\xa0'"
      ]
     },
     "execution_count": 64,
     "metadata": {},
     "output_type": "execute_result"
    }
   ],
   "source": [
    "bpe_data.split(\"\\n\")[1].split(\" \")[0].encode('utf-8')"
   ]
  },
  {
   "cell_type": "code",
   "execution_count": 65,
   "metadata": {},
   "outputs": [
    {
     "data": {
      "text/plain": [
       "50000"
      ]
     },
     "execution_count": 65,
     "metadata": {},
     "output_type": "execute_result"
    }
   ],
   "source": [
    "bpe_merges = [tuple(merge_str.split()) for merge_str in bpe_data.split(\"\\n\")[1:-1]]\n",
    "len(bpe_merges)"
   ]
  },
  {
   "cell_type": "code",
   "execution_count": 66,
   "metadata": {},
   "outputs": [
    {
     "data": {
      "text/plain": [
       "50257"
      ]
     },
     "execution_count": 66,
     "metadata": {},
     "output_type": "execute_result"
    }
   ],
   "source": [
    "len(encoder) # 256 raw byte tokens, 50K merges, 1 special token"
   ]
  },
  {
   "cell_type": "code",
   "execution_count": 67,
   "metadata": {},
   "outputs": [
    {
     "data": {
      "text/plain": [
       "50256"
      ]
     },
     "execution_count": 67,
     "metadata": {},
     "output_type": "execute_result"
    }
   ],
   "source": [
    "encoder['<|endoftext|>']"
   ]
  },
  {
   "cell_type": "code",
   "execution_count": 68,
   "metadata": {},
   "outputs": [
    {
     "data": {
      "text/plain": [
       "<Encoding 'cl100k_base'>"
      ]
     },
     "execution_count": 68,
     "metadata": {},
     "output_type": "execute_result"
    }
   ],
   "source": [
    "enc"
   ]
  },
  {
   "cell_type": "code",
   "execution_count": 69,
   "metadata": {},
   "outputs": [
    {
     "name": "stdout",
     "output_type": "stream",
     "text": [
      "True\n"
     ]
    }
   ],
   "source": [
    "print(enc.decode(enc.encode(\"   안녕하세요 👋 (hello in Korean!)\")) == \"   안녕하세요 👋 (hello in Korean!)\")"
   ]
  },
  {
   "cell_type": "code",
   "execution_count": 70,
   "metadata": {},
   "outputs": [],
   "source": [
    "import sentencepiece as spm"
   ]
  },
  {
   "cell_type": "code",
   "execution_count": 71,
   "metadata": {},
   "outputs": [],
   "source": [
    "with open('toy.txt', 'w', encoding='utf-8') as f:\n",
    "    f.write(\"SentencePiece is an unsupervised text tokenizer and detokenizer mainly for Neural Network-based text generation systems where the vocabulary size is predetermined prior to the neural model training. SentencePiece implements subword units (e.g., byte-pair-encoding (BPE) [Sennrich et al.]) and unigram language model [Kudo.]) with the extension of direct training from raw sentences. SentencePiece allows us to make a purely end-to-end system that does not depend on language-specific pre/postprocessing.\")"
   ]
  },
  {
   "cell_type": "code",
   "execution_count": 72,
   "metadata": {},
   "outputs": [],
   "source": [
    "import os\n",
    "\n",
    "options = dict(\n",
    "    #input spec\n",
    "    input=\"toy.txt\",\n",
    "    input_format=\"text\",\n",
    "    # output spec\n",
    "    model_prefix='tok400',\n",
    "    # algo\n",
    "    model_type='bpe',\n",
    "    vocab_size=400,\n",
    "    # normalization\n",
    "    normalization_rule_name=\"identity\", # ew, turn off normalization\n",
    "    remove_extra_whitespaces=False,\n",
    "    input_sentence_size=200000000, # max number of training sentences\n",
    "    max_sentence_length=4192, # max number of bytes per sentence\n",
    "    seed_sentencepiece_size=1000000,\n",
    "    shuffle_input_sentence=True,\n",
    "    # rare word treatment\n",
    "    character_coverage=0.99995,\n",
    "    byte_fallback=True,\n",
    "    # merge rules\n",
    "    split_digits=True,\n",
    "    split_by_unicode_script=True,\n",
    "    split_by_whitespace=True,\n",
    "    split_by_number=True,\n",
    "    max_sentencepiece_length=16,\n",
    "    add_dummy_prefix=True,\n",
    "    allow_whitespace_only_pieces=True,\n",
    "    # special tokens\n",
    "    unk_id=0, # the UNK token MUST exist\n",
    "    bos_id=1, # the others are optional, set to -1 to turn off\n",
    "    eos_id=2,\n",
    "    pad_id=-1,\n",
    "    # systems\n",
    "    num_threads=os.cpu_count(), # use ~all system resources\n",
    ")"
   ]
  },
  {
   "cell_type": "code",
   "execution_count": 73,
   "metadata": {},
   "outputs": [
    {
     "name": "stderr",
     "output_type": "stream",
     "text": [
      "sentencepiece_trainer.cc(77) LOG(INFO) Starts training with : \n",
      "trainer_spec {\n",
      "  input: toy.txt\n",
      "  input_format: text\n",
      "  model_prefix: tok400\n",
      "  model_type: BPE\n",
      "  vocab_size: 400\n",
      "  self_test_sample_size: 0\n",
      "  character_coverage: 0.99995\n",
      "  input_sentence_size: 200000000\n",
      "  shuffle_input_sentence: 1\n",
      "  seed_sentencepiece_size: 1000000\n",
      "  shrinking_factor: 0.75\n",
      "  max_sentence_length: 4192\n",
      "  num_threads: 8\n",
      "  num_sub_iterations: 2\n",
      "  max_sentencepiece_length: 16\n",
      "  split_by_unicode_script: 1\n",
      "  split_by_number: 1\n",
      "  split_by_whitespace: 1\n",
      "  split_digits: 1\n",
      "  pretokenization_delimiter: \n",
      "  treat_whitespace_as_suffix: 0\n",
      "  allow_whitespace_only_pieces: 1\n",
      "  required_chars: \n",
      "  byte_fallback: 1\n",
      "  vocabulary_output_piece_score: 1\n",
      "  train_extremely_large_corpus: 0\n",
      "  hard_vocab_limit: 1\n",
      "  use_all_vocab: 0\n",
      "  unk_id: 0\n",
      "  bos_id: 1\n",
      "  eos_id: 2\n",
      "  pad_id: -1\n",
      "  unk_piece: <unk>\n",
      "  bos_piece: <s>\n",
      "  eos_piece: </s>\n",
      "  pad_piece: <pad>\n",
      "  unk_surface:  ⁇ \n",
      "  enable_differential_privacy: 0\n",
      "  differential_privacy_noise_level: 0\n",
      "  differential_privacy_clipping_threshold: 0\n",
      "}\n",
      "normalizer_spec {\n",
      "  name: identity\n",
      "  add_dummy_prefix: 1\n",
      "  remove_extra_whitespaces: 0\n",
      "  escape_whitespaces: 1\n",
      "  normalization_rule_tsv: \n",
      "}\n",
      "denormalizer_spec {}\n",
      "trainer_interface.cc(351) LOG(INFO) SentenceIterator is not specified. Using MultiFileSentenceIterator.\n",
      "trainer_interface.cc(183) LOG(INFO) Loading corpus: toy.txt\n",
      "trainer_interface.cc(407) LOG(INFO) Loaded all 1 sentences\n",
      "trainer_interface.cc(423) LOG(INFO) Adding meta_piece: <unk>\n",
      "trainer_interface.cc(423) LOG(INFO) Adding meta_piece: <s>\n",
      "trainer_interface.cc(423) LOG(INFO) Adding meta_piece: </s>\n",
      "trainer_interface.cc(423) LOG(INFO) Adding meta_piece: <0x00>\n",
      "trainer_interface.cc(423) LOG(INFO) Adding meta_piece: <0x01>\n",
      "trainer_interface.cc(423) LOG(INFO) Adding meta_piece: <0x02>\n",
      "trainer_interface.cc(423) LOG(INFO) Adding meta_piece: <0x03>\n",
      "trainer_interface.cc(423) LOG(INFO) Adding meta_piece: <0x04>\n",
      "trainer_interface.cc(423) LOG(INFO) Adding meta_piece: <0x05>\n",
      "trainer_interface.cc(423) LOG(INFO) Adding meta_piece: <0x06>\n",
      "trainer_interface.cc(423) LOG(INFO) Adding meta_piece: <0x07>\n",
      "trainer_interface.cc(423) LOG(INFO) Adding meta_piece: <0x08>\n",
      "trainer_interface.cc(423) LOG(INFO) Adding meta_piece: <0x09>\n",
      "trainer_interface.cc(423) LOG(INFO) Adding meta_piece: <0x0A>\n",
      "trainer_interface.cc(423) LOG(INFO) Adding meta_piece: <0x0B>\n",
      "trainer_interface.cc(423) LOG(INFO) Adding meta_piece: <0x0C>\n",
      "trainer_interface.cc(423) LOG(INFO) Adding meta_piece: <0x0D>\n",
      "trainer_interface.cc(423) LOG(INFO) Adding meta_piece: <0x0E>\n",
      "trainer_interface.cc(423) LOG(INFO) Adding meta_piece: <0x0F>\n",
      "trainer_interface.cc(423) LOG(INFO) Adding meta_piece: <0x10>\n",
      "trainer_interface.cc(423) LOG(INFO) Adding meta_piece: <0x11>\n",
      "trainer_interface.cc(423) LOG(INFO) Adding meta_piece: <0x12>\n",
      "trainer_interface.cc(423) LOG(INFO) Adding meta_piece: <0x13>\n",
      "trainer_interface.cc(423) LOG(INFO) Adding meta_piece: <0x14>\n",
      "trainer_interface.cc(423) LOG(INFO) Adding meta_piece: <0x15>\n",
      "trainer_interface.cc(423) LOG(INFO) Adding meta_piece: <0x16>\n",
      "trainer_interface.cc(423) LOG(INFO) Adding meta_piece: <0x17>\n",
      "trainer_interface.cc(423) LOG(INFO) Adding meta_piece: <0x18>\n",
      "trainer_interface.cc(423) LOG(INFO) Adding meta_piece: <0x19>\n",
      "trainer_interface.cc(423) LOG(INFO) Adding meta_piece: <0x1A>\n",
      "trainer_interface.cc(423) LOG(INFO) Adding meta_piece: <0x1B>\n",
      "trainer_interface.cc(423) LOG(INFO) Adding meta_piece: <0x1C>\n",
      "trainer_interface.cc(423) LOG(INFO) Adding meta_piece: <0x1D>\n",
      "trainer_interface.cc(423) LOG(INFO) Adding meta_piece: <0x1E>\n",
      "trainer_interface.cc(423) LOG(INFO) Adding meta_piece: <0x1F>\n",
      "trainer_interface.cc(423) LOG(INFO) Adding meta_piece: <0x20>\n",
      "trainer_interface.cc(423) LOG(INFO) Adding meta_piece: <0x21>\n",
      "trainer_interface.cc(423) LOG(INFO) Adding meta_piece: <0x22>\n",
      "trainer_interface.cc(423) LOG(INFO) Adding meta_piece: <0x23>\n",
      "trainer_interface.cc(423) LOG(INFO) Adding meta_piece: <0x24>\n",
      "trainer_interface.cc(423) LOG(INFO) Adding meta_piece: <0x25>\n",
      "trainer_interface.cc(423) LOG(INFO) Adding meta_piece: <0x26>\n",
      "trainer_interface.cc(423) LOG(INFO) Adding meta_piece: <0x27>\n",
      "trainer_interface.cc(423) LOG(INFO) Adding meta_piece: <0x28>\n",
      "trainer_interface.cc(423) LOG(INFO) Adding meta_piece: <0x29>\n",
      "trainer_interface.cc(423) LOG(INFO) Adding meta_piece: <0x2A>\n",
      "trainer_interface.cc(423) LOG(INFO) Adding meta_piece: <0x2B>\n",
      "trainer_interface.cc(423) LOG(INFO) Adding meta_piece: <0x2C>\n",
      "trainer_interface.cc(423) LOG(INFO) Adding meta_piece: <0x2D>\n",
      "trainer_interface.cc(423) LOG(INFO) Adding meta_piece: <0x2E>\n",
      "trainer_interface.cc(423) LOG(INFO) Adding meta_piece: <0x2F>\n",
      "trainer_interface.cc(423) LOG(INFO) Adding meta_piece: <0x30>\n",
      "trainer_interface.cc(423) LOG(INFO) Adding meta_piece: <0x31>\n",
      "trainer_interface.cc(423) LOG(INFO) Adding meta_piece: <0x32>\n",
      "trainer_interface.cc(423) LOG(INFO) Adding meta_piece: <0x33>\n",
      "trainer_interface.cc(423) LOG(INFO) Adding meta_piece: <0x34>\n",
      "trainer_interface.cc(423) LOG(INFO) Adding meta_piece: <0x35>\n",
      "trainer_interface.cc(423) LOG(INFO) Adding meta_piece: <0x36>\n",
      "trainer_interface.cc(423) LOG(INFO) Adding meta_piece: <0x37>\n",
      "trainer_interface.cc(423) LOG(INFO) Adding meta_piece: <0x38>\n",
      "trainer_interface.cc(423) LOG(INFO) Adding meta_piece: <0x39>\n",
      "trainer_interface.cc(423) LOG(INFO) Adding meta_piece: <0x3A>\n",
      "trainer_interface.cc(423) LOG(INFO) Adding meta_piece: <0x3B>\n",
      "trainer_interface.cc(423) LOG(INFO) Adding meta_piece: <0x3C>\n",
      "trainer_interface.cc(423) LOG(INFO) Adding meta_piece: <0x3D>\n",
      "trainer_interface.cc(423) LOG(INFO) Adding meta_piece: <0x3E>\n",
      "trainer_interface.cc(423) LOG(INFO) Adding meta_piece: <0x3F>\n",
      "trainer_interface.cc(423) LOG(INFO) Adding meta_piece: <0x40>\n",
      "trainer_interface.cc(423) LOG(INFO) Adding meta_piece: <0x41>\n",
      "trainer_interface.cc(423) LOG(INFO) Adding meta_piece: <0x42>\n",
      "trainer_interface.cc(423) LOG(INFO) Adding meta_piece: <0x43>\n",
      "trainer_interface.cc(423) LOG(INFO) Adding meta_piece: <0x44>\n",
      "trainer_interface.cc(423) LOG(INFO) Adding meta_piece: <0x45>\n",
      "trainer_interface.cc(423) LOG(INFO) Adding meta_piece: <0x46>\n",
      "trainer_interface.cc(423) LOG(INFO) Adding meta_piece: <0x47>\n",
      "trainer_interface.cc(423) LOG(INFO) Adding meta_piece: <0x48>\n",
      "trainer_interface.cc(423) LOG(INFO) Adding meta_piece: <0x49>\n",
      "trainer_interface.cc(423) LOG(INFO) Adding meta_piece: <0x4A>\n",
      "trainer_interface.cc(423) LOG(INFO) Adding meta_piece: <0x4B>\n",
      "trainer_interface.cc(423) LOG(INFO) Adding meta_piece: <0x4C>\n",
      "trainer_interface.cc(423) LOG(INFO) Adding meta_piece: <0x4D>\n",
      "trainer_interface.cc(423) LOG(INFO) Adding meta_piece: <0x4E>\n",
      "trainer_interface.cc(423) LOG(INFO) Adding meta_piece: <0x4F>\n",
      "trainer_interface.cc(423) LOG(INFO) Adding meta_piece: <0x50>\n",
      "trainer_interface.cc(423) LOG(INFO) Adding meta_piece: <0x51>\n",
      "trainer_interface.cc(423) LOG(INFO) Adding meta_piece: <0x52>\n",
      "trainer_interface.cc(423) LOG(INFO) Adding meta_piece: <0x53>\n",
      "trainer_interface.cc(423) LOG(INFO) Adding meta_piece: <0x54>\n",
      "trainer_interface.cc(423) LOG(INFO) Adding meta_piece: <0x55>\n",
      "trainer_interface.cc(423) LOG(INFO) Adding meta_piece: <0x56>\n",
      "trainer_interface.cc(423) LOG(INFO) Adding meta_piece: <0x57>\n",
      "trainer_interface.cc(423) LOG(INFO) Adding meta_piece: <0x58>\n",
      "trainer_interface.cc(423) LOG(INFO) Adding meta_piece: <0x59>\n",
      "trainer_interface.cc(423) LOG(INFO) Adding meta_piece: <0x5A>\n",
      "trainer_interface.cc(423) LOG(INFO) Adding meta_piece: <0x5B>\n",
      "trainer_interface.cc(423) LOG(INFO) Adding meta_piece: <0x5C>\n",
      "trainer_interface.cc(423) LOG(INFO) Adding meta_piece: <0x5D>\n",
      "trainer_interface.cc(423) LOG(INFO) Adding meta_piece: <0x5E>\n",
      "trainer_interface.cc(423) LOG(INFO) Adding meta_piece: <0x5F>\n",
      "trainer_interface.cc(423) LOG(INFO) Adding meta_piece: <0x60>\n",
      "trainer_interface.cc(423) LOG(INFO) Adding meta_piece: <0x61>\n",
      "trainer_interface.cc(423) LOG(INFO) Adding meta_piece: <0x62>\n",
      "trainer_interface.cc(423) LOG(INFO) Adding meta_piece: <0x63>\n",
      "trainer_interface.cc(423) LOG(INFO) Adding meta_piece: <0x64>\n",
      "trainer_interface.cc(423) LOG(INFO) Adding meta_piece: <0x65>\n",
      "trainer_interface.cc(423) LOG(INFO) Adding meta_piece: <0x66>\n",
      "trainer_interface.cc(423) LOG(INFO) Adding meta_piece: <0x67>\n",
      "trainer_interface.cc(423) LOG(INFO) Adding meta_piece: <0x68>\n",
      "trainer_interface.cc(423) LOG(INFO) Adding meta_piece: <0x69>\n",
      "trainer_interface.cc(423) LOG(INFO) Adding meta_piece: <0x6A>\n",
      "trainer_interface.cc(423) LOG(INFO) Adding meta_piece: <0x6B>\n",
      "trainer_interface.cc(423) LOG(INFO) Adding meta_piece: <0x6C>\n",
      "trainer_interface.cc(423) LOG(INFO) Adding meta_piece: <0x6D>\n",
      "trainer_interface.cc(423) LOG(INFO) Adding meta_piece: <0x6E>\n",
      "trainer_interface.cc(423) LOG(INFO) Adding meta_piece: <0x6F>\n",
      "trainer_interface.cc(423) LOG(INFO) Adding meta_piece: <0x70>\n",
      "trainer_interface.cc(423) LOG(INFO) Adding meta_piece: <0x71>\n",
      "trainer_interface.cc(423) LOG(INFO) Adding meta_piece: <0x72>\n",
      "trainer_interface.cc(423) LOG(INFO) Adding meta_piece: <0x73>\n",
      "trainer_interface.cc(423) LOG(INFO) Adding meta_piece: <0x74>\n",
      "trainer_interface.cc(423) LOG(INFO) Adding meta_piece: <0x75>\n",
      "trainer_interface.cc(423) LOG(INFO) Adding meta_piece: <0x76>\n",
      "trainer_interface.cc(423) LOG(INFO) Adding meta_piece: <0x77>\n",
      "trainer_interface.cc(423) LOG(INFO) Adding meta_piece: <0x78>\n",
      "trainer_interface.cc(423) LOG(INFO) Adding meta_piece: <0x79>\n",
      "trainer_interface.cc(423) LOG(INFO) Adding meta_piece: <0x7A>\n",
      "trainer_interface.cc(423) LOG(INFO) Adding meta_piece: <0x7B>\n",
      "trainer_interface.cc(423) LOG(INFO) Adding meta_piece: <0x7C>\n",
      "trainer_interface.cc(423) LOG(INFO) Adding meta_piece: <0x7D>\n",
      "trainer_interface.cc(423) LOG(INFO) Adding meta_piece: <0x7E>\n",
      "trainer_interface.cc(423) LOG(INFO) Adding meta_piece: <0x7F>\n",
      "trainer_interface.cc(423) LOG(INFO) Adding meta_piece: <0x80>\n",
      "trainer_interface.cc(423) LOG(INFO) Adding meta_piece: <0x81>\n",
      "trainer_interface.cc(423) LOG(INFO) Adding meta_piece: <0x82>\n",
      "trainer_interface.cc(423) LOG(INFO) Adding meta_piece: <0x83>\n",
      "trainer_interface.cc(423) LOG(INFO) Adding meta_piece: <0x84>\n",
      "trainer_interface.cc(423) LOG(INFO) Adding meta_piece: <0x85>\n",
      "trainer_interface.cc(423) LOG(INFO) Adding meta_piece: <0x86>\n",
      "trainer_interface.cc(423) LOG(INFO) Adding meta_piece: <0x87>\n",
      "trainer_interface.cc(423) LOG(INFO) Adding meta_piece: <0x88>\n",
      "trainer_interface.cc(423) LOG(INFO) Adding meta_piece: <0x89>\n",
      "trainer_interface.cc(423) LOG(INFO) Adding meta_piece: <0x8A>\n",
      "trainer_interface.cc(423) LOG(INFO) Adding meta_piece: <0x8B>\n",
      "trainer_interface.cc(423) LOG(INFO) Adding meta_piece: <0x8C>\n",
      "trainer_interface.cc(423) LOG(INFO) Adding meta_piece: <0x8D>\n",
      "trainer_interface.cc(423) LOG(INFO) Adding meta_piece: <0x8E>\n",
      "trainer_interface.cc(423) LOG(INFO) Adding meta_piece: <0x8F>\n",
      "trainer_interface.cc(423) LOG(INFO) Adding meta_piece: <0x90>\n",
      "trainer_interface.cc(423) LOG(INFO) Adding meta_piece: <0x91>\n",
      "trainer_interface.cc(423) LOG(INFO) Adding meta_piece: <0x92>\n",
      "trainer_interface.cc(423) LOG(INFO) Adding meta_piece: <0x93>\n",
      "trainer_interface.cc(423) LOG(INFO) Adding meta_piece: <0x94>\n",
      "trainer_interface.cc(423) LOG(INFO) Adding meta_piece: <0x95>\n",
      "trainer_interface.cc(423) LOG(INFO) Adding meta_piece: <0x96>\n",
      "trainer_interface.cc(423) LOG(INFO) Adding meta_piece: <0x97>\n",
      "trainer_interface.cc(423) LOG(INFO) Adding meta_piece: <0x98>\n",
      "trainer_interface.cc(423) LOG(INFO) Adding meta_piece: <0x99>\n",
      "trainer_interface.cc(423) LOG(INFO) Adding meta_piece: <0x9A>\n",
      "trainer_interface.cc(423) LOG(INFO) Adding meta_piece: <0x9B>\n",
      "trainer_interface.cc(423) LOG(INFO) Adding meta_piece: <0x9C>\n",
      "trainer_interface.cc(423) LOG(INFO) Adding meta_piece: <0x9D>\n",
      "trainer_interface.cc(423) LOG(INFO) Adding meta_piece: <0x9E>\n",
      "trainer_interface.cc(423) LOG(INFO) Adding meta_piece: <0x9F>\n",
      "trainer_interface.cc(423) LOG(INFO) Adding meta_piece: <0xA0>\n",
      "trainer_interface.cc(423) LOG(INFO) Adding meta_piece: <0xA1>\n",
      "trainer_interface.cc(423) LOG(INFO) Adding meta_piece: <0xA2>\n",
      "trainer_interface.cc(423) LOG(INFO) Adding meta_piece: <0xA3>\n",
      "trainer_interface.cc(423) LOG(INFO) Adding meta_piece: <0xA4>\n",
      "trainer_interface.cc(423) LOG(INFO) Adding meta_piece: <0xA5>\n",
      "trainer_interface.cc(423) LOG(INFO) Adding meta_piece: <0xA6>\n",
      "trainer_interface.cc(423) LOG(INFO) Adding meta_piece: <0xA7>\n",
      "trainer_interface.cc(423) LOG(INFO) Adding meta_piece: <0xA8>\n",
      "trainer_interface.cc(423) LOG(INFO) Adding meta_piece: <0xA9>\n",
      "trainer_interface.cc(423) LOG(INFO) Adding meta_piece: <0xAA>\n",
      "trainer_interface.cc(423) LOG(INFO) Adding meta_piece: <0xAB>\n",
      "trainer_interface.cc(423) LOG(INFO) Adding meta_piece: <0xAC>\n",
      "trainer_interface.cc(423) LOG(INFO) Adding meta_piece: <0xAD>\n",
      "trainer_interface.cc(423) LOG(INFO) Adding meta_piece: <0xAE>\n",
      "trainer_interface.cc(423) LOG(INFO) Adding meta_piece: <0xAF>\n",
      "trainer_interface.cc(423) LOG(INFO) Adding meta_piece: <0xB0>\n",
      "trainer_interface.cc(423) LOG(INFO) Adding meta_piece: <0xB1>\n",
      "trainer_interface.cc(423) LOG(INFO) Adding meta_piece: <0xB2>\n",
      "trainer_interface.cc(423) LOG(INFO) Adding meta_piece: <0xB3>\n",
      "trainer_interface.cc(423) LOG(INFO) Adding meta_piece: <0xB4>\n",
      "trainer_interface.cc(423) LOG(INFO) Adding meta_piece: <0xB5>\n",
      "trainer_interface.cc(423) LOG(INFO) Adding meta_piece: <0xB6>\n",
      "trainer_interface.cc(423) LOG(INFO) Adding meta_piece: <0xB7>\n",
      "trainer_interface.cc(423) LOG(INFO) Adding meta_piece: <0xB8>\n",
      "trainer_interface.cc(423) LOG(INFO) Adding meta_piece: <0xB9>\n",
      "trainer_interface.cc(423) LOG(INFO) Adding meta_piece: <0xBA>\n",
      "trainer_interface.cc(423) LOG(INFO) Adding meta_piece: <0xBB>\n",
      "trainer_interface.cc(423) LOG(INFO) Adding meta_piece: <0xBC>\n",
      "trainer_interface.cc(423) LOG(INFO) Adding meta_piece: <0xBD>\n",
      "trainer_interface.cc(423) LOG(INFO) Adding meta_piece: <0xBE>\n",
      "trainer_interface.cc(423) LOG(INFO) Adding meta_piece: <0xBF>\n",
      "trainer_interface.cc(423) LOG(INFO) Adding meta_piece: <0xC0>\n",
      "trainer_interface.cc(423) LOG(INFO) Adding meta_piece: <0xC1>\n",
      "trainer_interface.cc(423) LOG(INFO) Adding meta_piece: <0xC2>\n",
      "trainer_interface.cc(423) LOG(INFO) Adding meta_piece: <0xC3>\n",
      "trainer_interface.cc(423) LOG(INFO) Adding meta_piece: <0xC4>\n",
      "trainer_interface.cc(423) LOG(INFO) Adding meta_piece: <0xC5>\n",
      "trainer_interface.cc(423) LOG(INFO) Adding meta_piece: <0xC6>\n",
      "trainer_interface.cc(423) LOG(INFO) Adding meta_piece: <0xC7>\n",
      "trainer_interface.cc(423) LOG(INFO) Adding meta_piece: <0xC8>\n",
      "trainer_interface.cc(423) LOG(INFO) Adding meta_piece: <0xC9>\n",
      "trainer_interface.cc(423) LOG(INFO) Adding meta_piece: <0xCA>\n",
      "trainer_interface.cc(423) LOG(INFO) Adding meta_piece: <0xCB>\n",
      "trainer_interface.cc(423) LOG(INFO) Adding meta_piece: <0xCC>\n",
      "trainer_interface.cc(423) LOG(INFO) Adding meta_piece: <0xCD>\n",
      "trainer_interface.cc(423) LOG(INFO) Adding meta_piece: <0xCE>\n",
      "trainer_interface.cc(423) LOG(INFO) Adding meta_piece: <0xCF>\n",
      "trainer_interface.cc(423) LOG(INFO) Adding meta_piece: <0xD0>\n",
      "trainer_interface.cc(423) LOG(INFO) Adding meta_piece: <0xD1>\n",
      "trainer_interface.cc(423) LOG(INFO) Adding meta_piece: <0xD2>\n",
      "trainer_interface.cc(423) LOG(INFO) Adding meta_piece: <0xD3>\n",
      "trainer_interface.cc(423) LOG(INFO) Adding meta_piece: <0xD4>\n",
      "trainer_interface.cc(423) LOG(INFO) Adding meta_piece: <0xD5>\n",
      "trainer_interface.cc(423) LOG(INFO) Adding meta_piece: <0xD6>\n",
      "trainer_interface.cc(423) LOG(INFO) Adding meta_piece: <0xD7>\n",
      "trainer_interface.cc(423) LOG(INFO) Adding meta_piece: <0xD8>\n",
      "trainer_interface.cc(423) LOG(INFO) Adding meta_piece: <0xD9>\n",
      "trainer_interface.cc(423) LOG(INFO) Adding meta_piece: <0xDA>\n",
      "trainer_interface.cc(423) LOG(INFO) Adding meta_piece: <0xDB>\n",
      "trainer_interface.cc(423) LOG(INFO) Adding meta_piece: <0xDC>\n",
      "trainer_interface.cc(423) LOG(INFO) Adding meta_piece: <0xDD>\n",
      "trainer_interface.cc(423) LOG(INFO) Adding meta_piece: <0xDE>\n",
      "trainer_interface.cc(423) LOG(INFO) Adding meta_piece: <0xDF>\n",
      "trainer_interface.cc(423) LOG(INFO) Adding meta_piece: <0xE0>\n",
      "trainer_interface.cc(423) LOG(INFO) Adding meta_piece: <0xE1>\n",
      "trainer_interface.cc(423) LOG(INFO) Adding meta_piece: <0xE2>\n",
      "trainer_interface.cc(423) LOG(INFO) Adding meta_piece: <0xE3>\n",
      "trainer_interface.cc(423) LOG(INFO) Adding meta_piece: <0xE4>\n",
      "trainer_interface.cc(423) LOG(INFO) Adding meta_piece: <0xE5>\n",
      "trainer_interface.cc(423) LOG(INFO) Adding meta_piece: <0xE6>\n",
      "trainer_interface.cc(423) LOG(INFO) Adding meta_piece: <0xE7>\n",
      "trainer_interface.cc(423) LOG(INFO) Adding meta_piece: <0xE8>\n",
      "trainer_interface.cc(423) LOG(INFO) Adding meta_piece: <0xE9>\n",
      "trainer_interface.cc(423) LOG(INFO) Adding meta_piece: <0xEA>\n",
      "trainer_interface.cc(423) LOG(INFO) Adding meta_piece: <0xEB>\n",
      "trainer_interface.cc(423) LOG(INFO) Adding meta_piece: <0xEC>\n",
      "trainer_interface.cc(423) LOG(INFO) Adding meta_piece: <0xED>\n",
      "trainer_interface.cc(423) LOG(INFO) Adding meta_piece: <0xEE>\n",
      "trainer_interface.cc(423) LOG(INFO) Adding meta_piece: <0xEF>\n",
      "trainer_interface.cc(423) LOG(INFO) Adding meta_piece: <0xF0>\n",
      "trainer_interface.cc(423) LOG(INFO) Adding meta_piece: <0xF1>\n",
      "trainer_interface.cc(423) LOG(INFO) Adding meta_piece: <0xF2>\n",
      "trainer_interface.cc(423) LOG(INFO) Adding meta_piece: <0xF3>\n",
      "trainer_interface.cc(423) LOG(INFO) Adding meta_piece: <0xF4>\n",
      "trainer_interface.cc(423) LOG(INFO) Adding meta_piece: <0xF5>\n",
      "trainer_interface.cc(423) LOG(INFO) Adding meta_piece: <0xF6>\n",
      "trainer_interface.cc(423) LOG(INFO) Adding meta_piece: <0xF7>\n",
      "trainer_interface.cc(423) LOG(INFO) Adding meta_piece: <0xF8>\n",
      "trainer_interface.cc(423) LOG(INFO) Adding meta_piece: <0xF9>\n",
      "trainer_interface.cc(423) LOG(INFO) Adding meta_piece: <0xFA>\n",
      "trainer_interface.cc(423) LOG(INFO) Adding meta_piece: <0xFB>\n",
      "trainer_interface.cc(423) LOG(INFO) Adding meta_piece: <0xFC>\n",
      "trainer_interface.cc(423) LOG(INFO) Adding meta_piece: <0xFD>\n",
      "trainer_interface.cc(423) LOG(INFO) Adding meta_piece: <0xFE>\n",
      "trainer_interface.cc(423) LOG(INFO) Adding meta_piece: <0xFF>\n",
      "trainer_interface.cc(428) LOG(INFO) Normalizing sentences...\n",
      "trainer_interface.cc(537) LOG(INFO) all chars count=504\n",
      "trainer_interface.cc(558) LOG(INFO) Alphabet size=39\n",
      "trainer_interface.cc(559) LOG(INFO) Final character coverage=1\n",
      "trainer_interface.cc(591) LOG(INFO) Done! preprocessed 1 sentences.\n",
      "trainer_interface.cc(597) LOG(INFO) Tokenizing input sentences with whitespace: 1\n",
      "trainer_interface.cc(608) LOG(INFO) Done! 58\n",
      "bpe_model_trainer.cc(159) LOG(INFO) Updating active symbols. max_freq=18 min_freq=1\n",
      "bpe_model_trainer.cc(268) LOG(INFO) Added: freq=3 size=20 all=283 active=244 piece=ed\n",
      "bpe_model_trainer.cc(268) LOG(INFO) Added: freq=2 size=40 all=305 active=266 piece=.]\n",
      "bpe_model_trainer.cc(268) LOG(INFO) Added: freq=2 size=60 all=324 active=285 piece=ken\n",
      "bpe_model_trainer.cc(268) LOG(INFO) Added: freq=2 size=80 all=334 active=295 piece=▁model\n",
      "bpe_model_trainer.cc(268) LOG(INFO) Added: freq=1 size=100 all=338 active=299 piece=lo\n",
      "bpe_model_trainer.cc(159) LOG(INFO) Updating active symbols. max_freq=1 min_freq=0\n",
      "trainer_interface.cc(686) LOG(INFO) Saving model: tok400.model\n",
      "trainer_interface.cc(698) LOG(INFO) Saving vocabs: tok400.vocab\n"
     ]
    }
   ],
   "source": [
    "spm.SentencePieceTrainer.train(**options)"
   ]
  },
  {
   "cell_type": "code",
   "execution_count": 74,
   "metadata": {},
   "outputs": [
    {
     "data": {
      "text/plain": [
       "True"
      ]
     },
     "execution_count": 74,
     "metadata": {},
     "output_type": "execute_result"
    }
   ],
   "source": [
    "sp = spm.SentencePieceProcessor()\n",
    "sp.load('tok400.model')"
   ]
  },
  {
   "cell_type": "code",
   "execution_count": 75,
   "metadata": {},
   "outputs": [
    {
     "data": {
      "text/plain": [
       "[['<unk>', 0],\n",
       " ['<s>', 1],\n",
       " ['</s>', 2],\n",
       " ['<0x00>', 3],\n",
       " ['<0x01>', 4],\n",
       " ['<0x02>', 5],\n",
       " ['<0x03>', 6],\n",
       " ['<0x04>', 7],\n",
       " ['<0x05>', 8],\n",
       " ['<0x06>', 9],\n",
       " ['<0x07>', 10],\n",
       " ['<0x08>', 11],\n",
       " ['<0x09>', 12],\n",
       " ['<0x0A>', 13],\n",
       " ['<0x0B>', 14],\n",
       " ['<0x0C>', 15],\n",
       " ['<0x0D>', 16],\n",
       " ['<0x0E>', 17],\n",
       " ['<0x0F>', 18],\n",
       " ['<0x10>', 19],\n",
       " ['<0x11>', 20],\n",
       " ['<0x12>', 21],\n",
       " ['<0x13>', 22],\n",
       " ['<0x14>', 23],\n",
       " ['<0x15>', 24],\n",
       " ['<0x16>', 25],\n",
       " ['<0x17>', 26],\n",
       " ['<0x18>', 27],\n",
       " ['<0x19>', 28],\n",
       " ['<0x1A>', 29],\n",
       " ['<0x1B>', 30],\n",
       " ['<0x1C>', 31],\n",
       " ['<0x1D>', 32],\n",
       " ['<0x1E>', 33],\n",
       " ['<0x1F>', 34],\n",
       " ['<0x20>', 35],\n",
       " ['<0x21>', 36],\n",
       " ['<0x22>', 37],\n",
       " ['<0x23>', 38],\n",
       " ['<0x24>', 39],\n",
       " ['<0x25>', 40],\n",
       " ['<0x26>', 41],\n",
       " ['<0x27>', 42],\n",
       " ['<0x28>', 43],\n",
       " ['<0x29>', 44],\n",
       " ['<0x2A>', 45],\n",
       " ['<0x2B>', 46],\n",
       " ['<0x2C>', 47],\n",
       " ['<0x2D>', 48],\n",
       " ['<0x2E>', 49],\n",
       " ['<0x2F>', 50],\n",
       " ['<0x30>', 51],\n",
       " ['<0x31>', 52],\n",
       " ['<0x32>', 53],\n",
       " ['<0x33>', 54],\n",
       " ['<0x34>', 55],\n",
       " ['<0x35>', 56],\n",
       " ['<0x36>', 57],\n",
       " ['<0x37>', 58],\n",
       " ['<0x38>', 59],\n",
       " ['<0x39>', 60],\n",
       " ['<0x3A>', 61],\n",
       " ['<0x3B>', 62],\n",
       " ['<0x3C>', 63],\n",
       " ['<0x3D>', 64],\n",
       " ['<0x3E>', 65],\n",
       " ['<0x3F>', 66],\n",
       " ['<0x40>', 67],\n",
       " ['<0x41>', 68],\n",
       " ['<0x42>', 69],\n",
       " ['<0x43>', 70],\n",
       " ['<0x44>', 71],\n",
       " ['<0x45>', 72],\n",
       " ['<0x46>', 73],\n",
       " ['<0x47>', 74],\n",
       " ['<0x48>', 75],\n",
       " ['<0x49>', 76],\n",
       " ['<0x4A>', 77],\n",
       " ['<0x4B>', 78],\n",
       " ['<0x4C>', 79],\n",
       " ['<0x4D>', 80],\n",
       " ['<0x4E>', 81],\n",
       " ['<0x4F>', 82],\n",
       " ['<0x50>', 83],\n",
       " ['<0x51>', 84],\n",
       " ['<0x52>', 85],\n",
       " ['<0x53>', 86],\n",
       " ['<0x54>', 87],\n",
       " ['<0x55>', 88],\n",
       " ['<0x56>', 89],\n",
       " ['<0x57>', 90],\n",
       " ['<0x58>', 91],\n",
       " ['<0x59>', 92],\n",
       " ['<0x5A>', 93],\n",
       " ['<0x5B>', 94],\n",
       " ['<0x5C>', 95],\n",
       " ['<0x5D>', 96],\n",
       " ['<0x5E>', 97],\n",
       " ['<0x5F>', 98],\n",
       " ['<0x60>', 99],\n",
       " ['<0x61>', 100],\n",
       " ['<0x62>', 101],\n",
       " ['<0x63>', 102],\n",
       " ['<0x64>', 103],\n",
       " ['<0x65>', 104],\n",
       " ['<0x66>', 105],\n",
       " ['<0x67>', 106],\n",
       " ['<0x68>', 107],\n",
       " ['<0x69>', 108],\n",
       " ['<0x6A>', 109],\n",
       " ['<0x6B>', 110],\n",
       " ['<0x6C>', 111],\n",
       " ['<0x6D>', 112],\n",
       " ['<0x6E>', 113],\n",
       " ['<0x6F>', 114],\n",
       " ['<0x70>', 115],\n",
       " ['<0x71>', 116],\n",
       " ['<0x72>', 117],\n",
       " ['<0x73>', 118],\n",
       " ['<0x74>', 119],\n",
       " ['<0x75>', 120],\n",
       " ['<0x76>', 121],\n",
       " ['<0x77>', 122],\n",
       " ['<0x78>', 123],\n",
       " ['<0x79>', 124],\n",
       " ['<0x7A>', 125],\n",
       " ['<0x7B>', 126],\n",
       " ['<0x7C>', 127],\n",
       " ['<0x7D>', 128],\n",
       " ['<0x7E>', 129],\n",
       " ['<0x7F>', 130],\n",
       " ['<0x80>', 131],\n",
       " ['<0x81>', 132],\n",
       " ['<0x82>', 133],\n",
       " ['<0x83>', 134],\n",
       " ['<0x84>', 135],\n",
       " ['<0x85>', 136],\n",
       " ['<0x86>', 137],\n",
       " ['<0x87>', 138],\n",
       " ['<0x88>', 139],\n",
       " ['<0x89>', 140],\n",
       " ['<0x8A>', 141],\n",
       " ['<0x8B>', 142],\n",
       " ['<0x8C>', 143],\n",
       " ['<0x8D>', 144],\n",
       " ['<0x8E>', 145],\n",
       " ['<0x8F>', 146],\n",
       " ['<0x90>', 147],\n",
       " ['<0x91>', 148],\n",
       " ['<0x92>', 149],\n",
       " ['<0x93>', 150],\n",
       " ['<0x94>', 151],\n",
       " ['<0x95>', 152],\n",
       " ['<0x96>', 153],\n",
       " ['<0x97>', 154],\n",
       " ['<0x98>', 155],\n",
       " ['<0x99>', 156],\n",
       " ['<0x9A>', 157],\n",
       " ['<0x9B>', 158],\n",
       " ['<0x9C>', 159],\n",
       " ['<0x9D>', 160],\n",
       " ['<0x9E>', 161],\n",
       " ['<0x9F>', 162],\n",
       " ['<0xA0>', 163],\n",
       " ['<0xA1>', 164],\n",
       " ['<0xA2>', 165],\n",
       " ['<0xA3>', 166],\n",
       " ['<0xA4>', 167],\n",
       " ['<0xA5>', 168],\n",
       " ['<0xA6>', 169],\n",
       " ['<0xA7>', 170],\n",
       " ['<0xA8>', 171],\n",
       " ['<0xA9>', 172],\n",
       " ['<0xAA>', 173],\n",
       " ['<0xAB>', 174],\n",
       " ['<0xAC>', 175],\n",
       " ['<0xAD>', 176],\n",
       " ['<0xAE>', 177],\n",
       " ['<0xAF>', 178],\n",
       " ['<0xB0>', 179],\n",
       " ['<0xB1>', 180],\n",
       " ['<0xB2>', 181],\n",
       " ['<0xB3>', 182],\n",
       " ['<0xB4>', 183],\n",
       " ['<0xB5>', 184],\n",
       " ['<0xB6>', 185],\n",
       " ['<0xB7>', 186],\n",
       " ['<0xB8>', 187],\n",
       " ['<0xB9>', 188],\n",
       " ['<0xBA>', 189],\n",
       " ['<0xBB>', 190],\n",
       " ['<0xBC>', 191],\n",
       " ['<0xBD>', 192],\n",
       " ['<0xBE>', 193],\n",
       " ['<0xBF>', 194],\n",
       " ['<0xC0>', 195],\n",
       " ['<0xC1>', 196],\n",
       " ['<0xC2>', 197],\n",
       " ['<0xC3>', 198],\n",
       " ['<0xC4>', 199],\n",
       " ['<0xC5>', 200],\n",
       " ['<0xC6>', 201],\n",
       " ['<0xC7>', 202],\n",
       " ['<0xC8>', 203],\n",
       " ['<0xC9>', 204],\n",
       " ['<0xCA>', 205],\n",
       " ['<0xCB>', 206],\n",
       " ['<0xCC>', 207],\n",
       " ['<0xCD>', 208],\n",
       " ['<0xCE>', 209],\n",
       " ['<0xCF>', 210],\n",
       " ['<0xD0>', 211],\n",
       " ['<0xD1>', 212],\n",
       " ['<0xD2>', 213],\n",
       " ['<0xD3>', 214],\n",
       " ['<0xD4>', 215],\n",
       " ['<0xD5>', 216],\n",
       " ['<0xD6>', 217],\n",
       " ['<0xD7>', 218],\n",
       " ['<0xD8>', 219],\n",
       " ['<0xD9>', 220],\n",
       " ['<0xDA>', 221],\n",
       " ['<0xDB>', 222],\n",
       " ['<0xDC>', 223],\n",
       " ['<0xDD>', 224],\n",
       " ['<0xDE>', 225],\n",
       " ['<0xDF>', 226],\n",
       " ['<0xE0>', 227],\n",
       " ['<0xE1>', 228],\n",
       " ['<0xE2>', 229],\n",
       " ['<0xE3>', 230],\n",
       " ['<0xE4>', 231],\n",
       " ['<0xE5>', 232],\n",
       " ['<0xE6>', 233],\n",
       " ['<0xE7>', 234],\n",
       " ['<0xE8>', 235],\n",
       " ['<0xE9>', 236],\n",
       " ['<0xEA>', 237],\n",
       " ['<0xEB>', 238],\n",
       " ['<0xEC>', 239],\n",
       " ['<0xED>', 240],\n",
       " ['<0xEE>', 241],\n",
       " ['<0xEF>', 242],\n",
       " ['<0xF0>', 243],\n",
       " ['<0xF1>', 244],\n",
       " ['<0xF2>', 245],\n",
       " ['<0xF3>', 246],\n",
       " ['<0xF4>', 247],\n",
       " ['<0xF5>', 248],\n",
       " ['<0xF6>', 249],\n",
       " ['<0xF7>', 250],\n",
       " ['<0xF8>', 251],\n",
       " ['<0xF9>', 252],\n",
       " ['<0xFA>', 253],\n",
       " ['<0xFB>', 254],\n",
       " ['<0xFC>', 255],\n",
       " ['<0xFD>', 256],\n",
       " ['<0xFE>', 257],\n",
       " ['<0xFF>', 258],\n",
       " ['en', 259],\n",
       " ['▁t', 260],\n",
       " ['ce', 261],\n",
       " ['in', 262],\n",
       " ['ra', 263],\n",
       " ['▁a', 264],\n",
       " ['de', 265],\n",
       " ['er', 266],\n",
       " ['▁s', 267],\n",
       " ['ent', 268],\n",
       " ['or', 269],\n",
       " ['pr', 270],\n",
       " ['▁m', 271],\n",
       " ['▁u', 272],\n",
       " ['ing', 273],\n",
       " ['▁th', 274],\n",
       " ['ence', 275],\n",
       " ['entence', 276],\n",
       " ['Pi', 277],\n",
       " ['ed', 278],\n",
       " ['em', 279],\n",
       " ['ex', 280],\n",
       " ['is', 281],\n",
       " ['iz', 282],\n",
       " ['la', 283],\n",
       " ['on', 284],\n",
       " ['st', 285],\n",
       " ['▁S', 286],\n",
       " ['Pie', 287],\n",
       " ['end', 288],\n",
       " ['ext', 289],\n",
       " ['▁an', 290],\n",
       " ['▁pr', 291],\n",
       " ['▁to', 292],\n",
       " ['▁un', 293],\n",
       " ['▁the', 294],\n",
       " ['Piece', 295],\n",
       " ['▁Sentence', 296],\n",
       " ['▁SentencePiece', 297],\n",
       " ['.]', 298],\n",
       " ['Ne', 299],\n",
       " ['ag', 300],\n",
       " ['do', 301],\n",
       " ['ec', 302],\n",
       " ['gu', 303],\n",
       " ['ic', 304],\n",
       " ['ir', 305],\n",
       " ['it', 306],\n",
       " ['ly', 307],\n",
       " ['to', 308],\n",
       " ['▁(', 309],\n",
       " ['▁[', 310],\n",
       " ['▁f', 311],\n",
       " ['▁n', 312],\n",
       " ['▁w', 313],\n",
       " ['.])', 314],\n",
       " ['age', 315],\n",
       " ['del', 316],\n",
       " ['ion', 317],\n",
       " ['ken', 318],\n",
       " ['lan', 319],\n",
       " ['ral', 320],\n",
       " ['wor', 321],\n",
       " ['yst', 322],\n",
       " ['▁Ne', 323],\n",
       " ['▁al', 324],\n",
       " ['▁de', 325],\n",
       " ['▁is', 326],\n",
       " ['▁ma', 327],\n",
       " ['▁mo', 328],\n",
       " ['izer', 329],\n",
       " ['rain', 330],\n",
       " ['ural', 331],\n",
       " ['▁and', 332],\n",
       " ['▁lan', 333],\n",
       " ['▁pre', 334],\n",
       " ['guage', 335],\n",
       " ['ystem', 336],\n",
       " ['▁text', 337],\n",
       " ['▁model', 338],\n",
       " ['▁train', 339],\n",
       " ['kenizer', 340],\n",
       " ['▁system', 341],\n",
       " ['▁language', 342],\n",
       " ['▁training', 343],\n",
       " ['.,', 344],\n",
       " ['BP', 345],\n",
       " ['Ku', 346],\n",
       " ['ab', 347],\n",
       " ['as', 348],\n",
       " ['at', 349],\n",
       " ['by', 350],\n",
       " ['co', 351],\n",
       " ['es', 352],\n",
       " ['et', 353],\n",
       " ['if', 354],\n",
       " ['ig', 355],\n",
       " ['im', 356],\n",
       " ['ke', 357],\n",
       " ['lo', 358],\n",
       " ['nr', 359],\n",
       " ['oc', 360],\n",
       " ['e', 361],\n",
       " ['▁', 362],\n",
       " ['n', 363],\n",
       " ['t', 364],\n",
       " ['i', 365],\n",
       " ['r', 366],\n",
       " ['a', 367],\n",
       " ['o', 368],\n",
       " ['s', 369],\n",
       " ['d', 370],\n",
       " ['c', 371],\n",
       " ['l', 372],\n",
       " ['u', 373],\n",
       " ['g', 374],\n",
       " ['m', 375],\n",
       " ['p', 376],\n",
       " ['.', 377],\n",
       " ['h', 378],\n",
       " ['-', 379],\n",
       " ['w', 380],\n",
       " ['y', 381],\n",
       " ['P', 382],\n",
       " ['S', 383],\n",
       " ['b', 384],\n",
       " ['f', 385],\n",
       " ['k', 386],\n",
       " [')', 387],\n",
       " ['x', 388],\n",
       " ['z', 389],\n",
       " ['(', 390],\n",
       " ['N', 391],\n",
       " ['[', 392],\n",
       " [']', 393],\n",
       " ['v', 394],\n",
       " [',', 395],\n",
       " ['/', 396],\n",
       " ['B', 397],\n",
       " ['E', 398],\n",
       " ['K', 399]]"
      ]
     },
     "execution_count": 75,
     "metadata": {},
     "output_type": "execute_result"
    }
   ],
   "source": [
    "vocab = [[sp.id_to_piece(idx), idx] for idx in range(sp.get_piece_size())]\n",
    "vocab"
   ]
  },
  {
   "cell_type": "code",
   "execution_count": 76,
   "metadata": {},
   "outputs": [
    {
     "name": "stdout",
     "output_type": "stream",
     "text": [
      "[362, 378, 361, 372, 358, 362, 239, 152, 139, 238, 136, 152, 240, 152, 155, 239, 135, 187, 239, 157, 151]\n"
     ]
    }
   ],
   "source": [
    "ids = sp.encode(\"hello 안녕하세요\")\n",
    "print(ids)"
   ]
  },
  {
   "cell_type": "code",
   "execution_count": 77,
   "metadata": {},
   "outputs": [
    {
     "data": {
      "text/plain": [
       "['▁',\n",
       " 'h',\n",
       " 'e',\n",
       " 'l',\n",
       " 'lo',\n",
       " '▁',\n",
       " '<0xEC>',\n",
       " '<0x95>',\n",
       " '<0x88>',\n",
       " '<0xEB>',\n",
       " '<0x85>',\n",
       " '<0x95>',\n",
       " '<0xED>',\n",
       " '<0x95>',\n",
       " '<0x98>',\n",
       " '<0xEC>',\n",
       " '<0x84>',\n",
       " '<0xB8>',\n",
       " '<0xEC>',\n",
       " '<0x9A>',\n",
       " '<0x94>']"
      ]
     },
     "execution_count": 77,
     "metadata": {},
     "output_type": "execute_result"
    }
   ],
   "source": [
    "[sp.id_to_piece(idx) for idx in ids]"
   ]
  },
  {
   "cell_type": "code",
   "execution_count": 78,
   "metadata": {},
   "outputs": [
    {
     "data": {
      "text/plain": [
       "'hello 안녕하세요'"
      ]
     },
     "execution_count": 78,
     "metadata": {},
     "output_type": "execute_result"
    }
   ],
   "source": [
    "sp.decode(ids)"
   ]
  },
  {
   "cell_type": "code",
   "execution_count": 79,
   "metadata": {},
   "outputs": [
    {
     "data": {
      "text/plain": [
       "<sentencepiece.SentencePieceProcessor; proxy of <Swig Object of type 'sentencepiece::SentencePieceProcessor *' at 0x110a143c0> >"
      ]
     },
     "execution_count": 79,
     "metadata": {},
     "output_type": "execute_result"
    }
   ],
   "source": [
    "sp"
   ]
  },
  {
   "cell_type": "code",
   "execution_count": 80,
   "metadata": {},
   "outputs": [
    {
     "name": "stdout",
     "output_type": "stream",
     "text": [
      "Requirement already satisfied: sentencepiece in /Users/htkumar/anaconda3/envs/myenv/lib/python3.8/site-packages (0.1.99)\n"
     ]
    }
   ],
   "source": [
    "!pip install sentencepiece"
   ]
  },
  {
   "cell_type": "code",
   "execution_count": 84,
   "metadata": {},
   "outputs": [],
   "source": [
    "# !pip uninstall protobuf\n",
    "# !pip install --no-binary protobuf protobuf"
   ]
  },
  {
   "cell_type": "markdown",
   "metadata": {},
   "source": [
    "### Get details about LLaMa2 tokenizer"
   ]
  },
  {
   "cell_type": "code",
   "execution_count": 85,
   "metadata": {},
   "outputs": [],
   "source": [
    "from sentencepiece import sentencepiece_model_pb2 as model"
   ]
  },
  {
   "cell_type": "code",
   "execution_count": 102,
   "metadata": {},
   "outputs": [
    {
     "data": {
      "text/plain": [
       "499723"
      ]
     },
     "execution_count": 102,
     "metadata": {},
     "output_type": "execute_result"
    }
   ],
   "source": [
    "m = model.ModelProto()\n",
    "m.ParseFromString(open('../llama2/tokenizer.model', 'rb').read())"
   ]
  },
  {
   "cell_type": "code",
   "execution_count": 106,
   "metadata": {},
   "outputs": [
    {
     "data": {
      "text/plain": [
       "name: \"identity\"\n",
       "precompiled_charsmap: \"\"\n",
       "add_dummy_prefix: true\n",
       "remove_extra_whitespaces: false\n",
       "normalization_rule_tsv: \"\""
      ]
     },
     "execution_count": 106,
     "metadata": {},
     "output_type": "execute_result"
    }
   ],
   "source": [
    "m.normalizer_spec"
   ]
  },
  {
   "cell_type": "code",
   "execution_count": 107,
   "metadata": {},
   "outputs": [
    {
     "data": {
      "text/plain": [
       "input: \"/large_experiments/theorem/datasets/MERGED/all.test1.merged\"\n",
       "model_prefix: \"spm_model_32k_200M_charcov099995_allowWSO__v2\"\n",
       "model_type: BPE\n",
       "vocab_size: 32000\n",
       "self_test_sample_size: 0\n",
       "input_format: \"text\"\n",
       "character_coverage: 0.99995\n",
       "input_sentence_size: 200000000\n",
       "seed_sentencepiece_size: 1000000\n",
       "shrinking_factor: 0.75\n",
       "num_threads: 80\n",
       "num_sub_iterations: 2\n",
       "max_sentence_length: 4192\n",
       "shuffle_input_sentence: true\n",
       "max_sentencepiece_length: 16\n",
       "split_by_unicode_script: true\n",
       "split_by_whitespace: true\n",
       "split_by_number: true\n",
       "treat_whitespace_as_suffix: false\n",
       "split_digits: true\n",
       "allow_whitespace_only_pieces: true\n",
       "vocabulary_output_piece_score: true\n",
       "hard_vocab_limit: true\n",
       "use_all_vocab: false\n",
       "byte_fallback: true\n",
       "required_chars: \"\"\n",
       "unk_id: 0\n",
       "bos_id: 1\n",
       "eos_id: 2\n",
       "pad_id: -1\n",
       "unk_surface: \" \\342\\201\\207 \"\n",
       "unk_piece: \"<unk>\"\n",
       "bos_piece: \"<s>\"\n",
       "eos_piece: \"</s>\"\n",
       "pad_piece: \"<pad>\"\n",
       "train_extremely_large_corpus: false\n",
       "enable_differential_privacy: false\n",
       "differential_privacy_noise_level: 0.0\n",
       "differential_privacy_clipping_threshold: 0"
      ]
     },
     "execution_count": 107,
     "metadata": {},
     "output_type": "execute_result"
    }
   ],
   "source": [
    "m.trainer_spec"
   ]
  },
  {
   "cell_type": "code",
   "execution_count": 95,
   "metadata": {},
   "outputs": [
    {
     "data": {
      "text/plain": [
       "True"
      ]
     },
     "execution_count": 95,
     "metadata": {},
     "output_type": "execute_result"
    }
   ],
   "source": [
    "sp1 = spm.SentencePieceProcessor()\n",
    "sp1.LoadFromSerializedProto(open('../llama2/tokenizer.model', 'rb').read())"
   ]
  },
  {
   "cell_type": "code",
   "execution_count": 96,
   "metadata": {},
   "outputs": [
    {
     "data": {
      "text/plain": [
       "[22172, 29871, 31734, 238, 136, 152, 30944, 31578, 31527]"
      ]
     },
     "execution_count": 96,
     "metadata": {},
     "output_type": "execute_result"
    }
   ],
   "source": [
    "ids1 = sp1.encode(\"hello 안녕하세요\")\n",
    "ids1\n"
   ]
  },
  {
   "cell_type": "code",
   "execution_count": 97,
   "metadata": {},
   "outputs": [
    {
     "data": {
      "text/plain": [
       "[362,\n",
       " 378,\n",
       " 361,\n",
       " 372,\n",
       " 358,\n",
       " 362,\n",
       " 239,\n",
       " 152,\n",
       " 139,\n",
       " 238,\n",
       " 136,\n",
       " 152,\n",
       " 240,\n",
       " 152,\n",
       " 155,\n",
       " 239,\n",
       " 135,\n",
       " 187,\n",
       " 239,\n",
       " 157,\n",
       " 151]"
      ]
     },
     "execution_count": 97,
     "metadata": {},
     "output_type": "execute_result"
    }
   ],
   "source": [
    "ids"
   ]
  },
  {
   "cell_type": "code",
   "execution_count": 98,
   "metadata": {},
   "outputs": [
    {
     "ename": "ImportError",
     "evalue": "cannot import name 'spm_export_vocab' from 'sentencepiece' (/Users/htkumar/anaconda3/envs/myenv/lib/python3.8/site-packages/sentencepiece/__init__.py)",
     "output_type": "error",
     "traceback": [
      "\u001b[0;31m---------------------------------------------------------------------------\u001b[0m",
      "\u001b[0;31mImportError\u001b[0m                               Traceback (most recent call last)",
      "Cell \u001b[0;32mIn[98], line 1\u001b[0m\n\u001b[0;32m----> 1\u001b[0m \u001b[38;5;28;01mfrom\u001b[39;00m \u001b[38;5;21;01msentencepiece\u001b[39;00m \u001b[38;5;28;01mimport\u001b[39;00m spm_export_vocab\n",
      "\u001b[0;31mImportError\u001b[0m: cannot import name 'spm_export_vocab' from 'sentencepiece' (/Users/htkumar/anaconda3/envs/myenv/lib/python3.8/site-packages/sentencepiece/__init__.py)"
     ]
    }
   ],
   "source": [
    "from sentencepiece import spm_export_vocab"
   ]
  },
  {
   "cell_type": "code",
   "execution_count": 99,
   "metadata": {},
   "outputs": [
    {
     "data": {
      "text/plain": []
     },
     "execution_count": 99,
     "metadata": {},
     "output_type": "execute_result"
    }
   ],
   "source": [
    "m"
   ]
  },
  {
   "cell_type": "code",
   "execution_count": null,
   "metadata": {},
   "outputs": [],
   "source": []
  }
 ],
 "metadata": {
  "kernelspec": {
   "display_name": "myenv",
   "language": "python",
   "name": "python3"
  },
  "language_info": {
   "codemirror_mode": {
    "name": "ipython",
    "version": 3
   },
   "file_extension": ".py",
   "mimetype": "text/x-python",
   "name": "python",
   "nbconvert_exporter": "python",
   "pygments_lexer": "ipython3",
   "version": "3.8.18"
  }
 },
 "nbformat": 4,
 "nbformat_minor": 2
}
