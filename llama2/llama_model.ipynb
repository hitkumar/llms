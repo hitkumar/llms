{
 "cells": [
  {
   "cell_type": "markdown",
   "metadata": {},
   "source": [
    "### LLama model (model.py) in notebook form"
   ]
  },
  {
   "cell_type": "code",
   "execution_count": 1,
   "metadata": {},
   "outputs": [],
   "source": [
    "import torch\n",
    "import torch.nn as nn\n",
    "import torch.nn.functional as F\n",
    "import math\n",
    "from dataclasses import dataclass\n",
    "from typing import Optional"
   ]
  },
  {
   "cell_type": "code",
   "execution_count": 2,
   "metadata": {},
   "outputs": [],
   "source": [
    "@dataclass\n",
    "class ModelArgs:\n",
    "    dim: int = 4096\n",
    "    n_layers: int = 32\n",
    "    n_heads:int = 32 # number of heads for the queries\n",
    "    n_kv_heads: Optional[int] = None # number of heads for k,v\n",
    "    vocab_size: int = -1 # temp value for now, set when tokenizer is loaded\n",
    "    # hidden dimension of FFN layer\n",
    "    multiple_of: int = 256\n",
    "    ffn_dim_multiplier: Optional[float] = None\n",
    "    norm_eps: float = 1e-5\n",
    "\n",
    "    # Needed for KV cahche\n",
    "    max_batch_size: int = 32\n",
    "    max_seq_len: int = 2048\n",
    "\n",
    "    device: str = None"
   ]
  },
  {
   "cell_type": "code",
   "execution_count": 3,
   "metadata": {},
   "outputs": [],
   "source": [
    "# torch.polar??"
   ]
  },
  {
   "cell_type": "code",
   "execution_count": 4,
   "metadata": {},
   "outputs": [],
   "source": [
    "def precompute_theta_pos_frequencies(head_dim: int, seq_len: int, device: str, theta: float = 10000.0):\n",
    "    assert head_dim %2 == 0, \"Dimension must be even\" # from paper\n",
    "    # build the theta parameter\n",
    "    # Shape: (head_dim / 2)\n",
    "    theta_numerator =  torch.arange(0, head_dim, 2).float()\n",
    "    # shape: (head_dim, 2)\n",
    "    theta = 1.0 / (theta ** (theta_numerator / head_dim)).to(device)\n",
    "    # construct the positions (the m parameter)\n",
    "    # shape: (seq_len)\n",
    "    m = torch.arange(seq_len, device=device)\n",
    "    # multiply each theta by each position using outer product\n",
    "    # shape: (seq_len, head_dim/2)\n",
    "    freqs = torch.outer(m, theta).float()\n",
    "    # compute complex numbers in the polar form c = R * exp(i *m * theta) where R = 1 as follows\n",
    "    # shape: (seq_len, head_dim / 2)\n",
    "    freqs_complex = torch.polar(torch.ones_like(freqs), freqs)\n",
    "    return freqs_complex"
   ]
  },
  {
   "cell_type": "code",
   "execution_count": 5,
   "metadata": {},
   "outputs": [],
   "source": [
    "# apply position embeddings to a list of tokens.\n",
    "def apply_rotary_embeddings(x: torch.Tensor, freqs_complex: torch.Tensor, device: str):\n",
    "    # input (B, seq_len, H, head_dim) -> (B, seq_len, H, head_dim/2)\n",
    "    # TODO: Play around with this reshape more\n",
    "    x_complex = torch.view_as_complex(x.float().reshape(*x.shape[:-1], -1, 2))\n",
    "    # (seq_len, head_dim/2) -> (1, seq_len, 1, head_dim/2)\n",
    "    freqs_complex = freqs_complex.unsqueeze(0).unsqueeze(2)\n",
    "    # (B, seq_len, H, head_dim/2) * (1, seq_len, 1, head_dim/2) -> (B, seq_len, H, head_dim/2)\n",
    "    x_rotated = x_complex * freqs_complex\n",
    "    # (B, seq_len, H, head_dim/2) -> (B, seq_len, H, head_dim/2, 2)\n",
    "    x_out = x_rotated.view_as_real(x_rotated)\n",
    "    # (B, seq_len, H, head_dim)\n",
    "    x_out = x_out.reshape(*x.shape)\n",
    "    return x_out.type_as(x).to(device)\n"
   ]
  },
  {
   "cell_type": "code",
   "execution_count": 6,
   "metadata": {},
   "outputs": [],
   "source": [
    "class RMSNorm(nn.Module):\n",
    "    def __init__(self, dim: int, eps: float = 1e-6):\n",
    "        super().__init__()\n",
    "        self.eps = eps\n",
    "        # gamma\n",
    "        self.weight = nn.Parameter(torch.ones(dim))\n",
    "    \n",
    "    def _norm(self, x: torch.Tensor):\n",
    "        # (B, seq_len, Dim) * (B, seq_len, 1) => (B, seq_len, Dim)\n",
    "        return x * torch.rsqrt(x.pow(2).mean(-1, keepdim=True) + self.eps)\n",
    "    \n",
    "    def forward(self, x: torch.Tensor):\n",
    "        # (Dim) * (B, seq_len, Dim)\n",
    "        return self.weight * self._norm(x.float()).type_as(x)"
   ]
  },
  {
   "cell_type": "code",
   "execution_count": 7,
   "metadata": {},
   "outputs": [],
   "source": [
    "# torch.var??"
   ]
  },
  {
   "cell_type": "code",
   "execution_count": 8,
   "metadata": {},
   "outputs": [],
   "source": [
    "a = torch.tensor(\n",
    "...     [[ 0.2035,  1.2959,  1.8101, -0.4644],\n",
    "...      [ 1.5027, -0.3270,  0.5905,  0.6538],\n",
    "...      [-1.5745,  1.3330, -0.5596, -0.6548],\n",
    "...      [ 0.1264, -0.5080,  1.6420,  0.1992]])"
   ]
  },
  {
   "cell_type": "code",
   "execution_count": 9,
   "metadata": {},
   "outputs": [
    {
     "data": {
      "text/plain": [
       "tensor([[1.0631],\n",
       "        [0.5590],\n",
       "        [1.4893],\n",
       "        [0.8258]])"
      ]
     },
     "execution_count": 9,
     "metadata": {},
     "output_type": "execute_result"
    }
   ],
   "source": [
    "a_var = a.var(dim=1, keepdim=True)\n",
    "a_var.shape\n",
    "a_var"
   ]
  },
  {
   "cell_type": "code",
   "execution_count": 10,
   "metadata": {},
   "outputs": [
    {
     "data": {
      "text/plain": [
       "tensor(1.0631)"
      ]
     },
     "execution_count": 10,
     "metadata": {},
     "output_type": "execute_result"
    }
   ],
   "source": [
    "a[0].var()"
   ]
  },
  {
   "cell_type": "code",
   "execution_count": 11,
   "metadata": {},
   "outputs": [],
   "source": [
    "class LayerNorm(nn.Module):\n",
    "    def __init__(self, dim: int, epsilon: float = 1e-5):\n",
    "        super().__init__()\n",
    "        self.epsilon = epsilon\n",
    "        self.scale = nn.Parameter(torch.ones(dim))\n",
    "        self.shift = nn.Parameter(torch.zeros(dim))\n",
    "    \n",
    "    def forward(self, x: torch.Tensor):\n",
    "        mean = x.mean(-1, keepdim=True)\n",
    "        var = x.var(-1, keepdim=True, unbiased=False)\n",
    "        norm_x = (x - mean) / torch.sqrt(var + self.epsilon)\n",
    "        output = self.scale * norm_x + self.shift\n",
    "        return output"
   ]
  },
  {
   "cell_type": "code",
   "execution_count": 12,
   "metadata": {},
   "outputs": [],
   "source": [
    "def repeat_kv(x: torch.Tensor, n_rep: int) -> torch.Tensor:\n",
    "    batch_size, seq_len, n_kv_heads, head_dim = x.shape\n",
    "\n",
    "    if n_rep == 1:\n",
    "        return x\n",
    "    else:\n",
    "        return (\n",
    "            # (B, seq_len, N_kv_heads, 1, head_dim)\n",
    "            x[:, :, :, None, :]\n",
    "            .expand(batch_size, seq_len, n_kv_heads, n_rep, head_dim)\n",
    "            .reshape(batch_size, seq_len, n_kv_heads * n_rep, head_dim)\n",
    "        )"
   ]
  },
  {
   "cell_type": "code",
   "execution_count": 13,
   "metadata": {},
   "outputs": [],
   "source": [
    "class SelfAttention(nn.Module):\n",
    "\n",
    "    def __init__(self, args: ModelArgs):\n",
    "        super().__init__()\n",
    "\n",
    "        # number of heads for key and values\n",
    "        self.n_kv_heads = args.n_heads if args.n_kv_heads is None else args.n_kv_heads\n",
    "        # number of heads for the queries\n",
    "        self.n_heads_q = args.n_heads\n",
    "        \n",
    "        # number of times to repeat key and values to match the queries\n",
    "        self.n_rep = self.n_heads_q // self.n_kv_heads\n",
    "\n",
    "        # per head dim\n",
    "        self.head_dim = args.dim // args.n_heads\n",
    "\n",
    "        self.wq = nn.Linear(args.dim, args.n_heads * self.head_dim, bias=False)\n",
    "        self.wk = nn.Linear(args.dim, self.n_kv_heads * self.head_dim, bias=False)\n",
    "        self.wv = nn.Linear(args.dim, self.n_kv_heads * self.head_dim, bias=False)\n",
    "        self.wo = nn.Linear(args.n_heads * self.head_dim, args.dim, bias=False)\n",
    "\n",
    "        self.cache_k = torch.zeros((args.max_batch_size, args.max_seq_len, self.n_kv_heads, self.head_dim))\n",
    "        self.cache_v = torch.zeros((args.max_batch_size, args.max_seq_len, self.n_kv_heads, self.head_dim))\n",
    "    \n",
    "    \n",
    "    def forward(self, x: torch.Tensor, start_pos: int, freqs_complex: torch.Tensor):\n",
    "        batch_size, seq_len, _ = x.shape # (B, 1, Dim)\n",
    "\n",
    "        # Apply W matrices to the input to k, q, and v\n",
    "\n",
    "        # (B, 1, Dim) -> (B, 1, H_q * head_dim)\n",
    "        xq = self.wq(x)\n",
    "        # (B, 1, dim) -> (B, 1, H_kv * head_dim)\n",
    "        xk = self.wk(x)\n",
    "        # (B, 1, dim) -> (B, 1, H_kv * head_dim)\n",
    "        xv = self.wv(x)\n",
    "        \n",
    "        # (B, 1, H_q * head_dim) -> (B, 1, H_q, head_dim)\n",
    "        xq = xq.view(batch_size, seq_len, self.n_heads_q, self.head_dim)\n",
    "        # (B, 1, H_q * head_dim) -> (B, 1, H_kv, head_dim)\n",
    "        xk = xk.view(batch_size, seq_len, self.n_kv_heads, self.head_dim) \n",
    "        # (B, 1, H_q * head_dim) -> (B, 1, H_kv, head_dim)\n",
    "        xv = xv.view(batch_size, seq_len, self.n_kv_heads, self.head_dim)\n",
    "\n",
    "        # Same dimension for tensors\n",
    "        xq = apply_rotary_embeddings(xq, freqs_complex, device=x.device)\n",
    "        xk = apply_rotary_embeddings(xk, freqs_complex, device=x.device)\n",
    "\n",
    "        # Replace the entry in cache for this token\n",
    "        # xk, xv is of dim (n_kv_heads, head_dim)\n",
    "        self.cache_k[:batch_size, start_pos: start_pos+seq_len] = xk\n",
    "        self.cache_v[:batch_size, start_pos: start_pos+seq_len] = xv\n",
    "\n",
    "        # Retrieve the keys and values for multi head attention\n",
    "        # (B, seq_len_kv, H_kv, head_dim)\n",
    "        keys = self.cache_k[:batch_size, :start_pos+seq_len]\n",
    "        values = self.cache_v[:batch_size, :start_pos+seq_len]\n",
    "\n",
    "        # grouped multi-query attention logic\n",
    "        # (B, seq_len_kv, h_q, head_dim)\n",
    "        keys = repeat_kv(keys, self.n_rep)\n",
    "        values = repeat_kv(values, self.n_rep)\n",
    "\n",
    "        # now we proceed with normal attention implementation\n",
    "        # (xq is the query in kv cache)\n",
    "\n",
    "        # (B, 1, h_q, head_dim) -> (B, h_q, 1, head_dim)\n",
    "        xq = xq.transpose(1, 2)\n",
    "        keys = keys.transpose(1, 2)\n",
    "        values = values.transpose(1, 2)\n",
    "\n",
    "        # (B, h_q, 1, head_dim) @ (B, h_q, head_dim, seq_len_kv) -> (B, h_q, 1, seq_len_kv)\n",
    "        scores = torch.matmul(xq, keys.transpose(2, 3)) / math.sqrt(self.head_dim)\n",
    "        scores = F.softmax(scores.float(), dim=-1).type_as(xq)\n",
    "\n",
    "        # (B, h_q, 1, seq_len_kv) @ (B, h_q, seq_len_kv, head_dim) -> (B, h_q, 1, head_dim)\n",
    "        output = torch.matmul(scores, values)\n",
    "\n",
    "        # (B, h_q, 1, head_dim) -> (B, 1, h_q, head_dim) -> (B, 1, dim)\n",
    "        output = (output.transpose(1, 2).contiguous().view(batch_size, seq_len, -1))\n",
    "        return self.wo(output) # (B, 1, dim) -> (B, 1, dim)"
   ]
  },
  {
   "cell_type": "code",
   "execution_count": 15,
   "metadata": {},
   "outputs": [],
   "source": [
    "class FeedForward(nn.Module):\n",
    "    def __init__(self, args: ModelArgs):\n",
    "        super().__init__()\n",
    "\n",
    "        hidden_dim = 4 * args.dim\n",
    "        hidden_dim = int(2 * hidden_dim / 3)\n",
    "        if args.ffn_dim_multiplier is not None:\n",
    "            hidden_dim = int(args.ffn_dim_multiplier * hidden_dim)\n",
    "        \n",
    "        # Round off hidden_dim to nearest multiple of multiple_of parameter\n",
    "        hidden_dim = args.multiple_of * ((hidden_dim + args.multiple_of - 1) // args.multiple_of)\n",
    "\n",
    "        self.w1 = nn.Linear(args.dim, hidden_dim, bias=False)\n",
    "        self.w2 = nn.Linear(hidden_dim, args.dim, bias=False)\n",
    "        self.w3 = nn.Linear(args.dim, hidden_dim, bias=False)\n",
    "    \n",
    "    def forward(self, x: torch.Tensor):\n",
    "        swish = F.silu(self.w1(x))\n",
    "        x_v = self.w3(x)\n",
    "        x = swish * x_v\n",
    "        x = self.w2(x)\n",
    "        return x\n"
   ]
  },
  {
   "cell_type": "code",
   "execution_count": null,
   "metadata": {},
   "outputs": [],
   "source": []
  },
  {
   "cell_type": "code",
   "execution_count": null,
   "metadata": {},
   "outputs": [],
   "source": []
  },
  {
   "cell_type": "code",
   "execution_count": null,
   "metadata": {},
   "outputs": [],
   "source": []
  },
  {
   "cell_type": "code",
   "execution_count": 9,
   "metadata": {},
   "outputs": [],
   "source": [
    "class EncoderBlock(nn.Module):\n",
    "    def __init__(self, args: ModelArgs):\n",
    "        super().__init__()\n",
    "\n",
    "        self.n_heads = args.n_heads\n",
    "        self.dim = args.dim\n",
    "        self.head_dim = self.dim // self.n_heads\n",
    "\n",
    "        self.attention = SelfAttention(args)\n",
    "        self.feed_forward = FeedForward(args)\n",
    "\n",
    "        # normalization before self attention\n",
    "        self.attention_norm = RMSNorm(args.dim, eps=args.norm_eps)\n",
    "        #normalization after attention, before feed forward\n",
    "        self.ffn_norm = RMSNorm(args.dim, eps=args.norm_eps)\n",
    "\n",
    "    def forward(self, x: torch.Tensor, start_pos: int, freqs_complex: torch.Tensor):\n",
    "        # (B, seq_len, dim) + (B, seq_len, dim) --> (B, seq_len, dim  )\n",
    "        h = x + self.attention(self.attention_norm(x), start_pos, freqs_complex)\n",
    "        out = h + self.feed_forward(self.ffb_norm(h))\n",
    "        return out\n",
    "\n"
   ]
  },
  {
   "cell_type": "code",
   "execution_count": null,
   "metadata": {},
   "outputs": [],
   "source": []
  },
  {
   "cell_type": "code",
   "execution_count": null,
   "metadata": {},
   "outputs": [],
   "source": [
    "class Transformer(nn.Module):\n",
    "    def __init__(self, args: ModelArgs) -> None:\n",
    "        super().__init__()\n",
    "\n",
    "        assert args.vocab_size != -1, \"Vocab size must bve set\"\n",
    "        self.args = args\n",
    "        self.vocab_size = args.vocab_size\n",
    "        self.n_layers = args.n_layers \n",
    "        self.tok_embeddings = nn.Embedding(self.vocab_size, args.dim)\n",
    "\n",
    "        self.layers = nn.ModuleList()\n",
    "        for _ in range(args.n_layers):\n",
    "            self.layers.append(EncoderBlock(args))\n",
    "        \n",
    "        self.norm = RMSNorm(args.dim, eps=args.norm_eps)\n",
    "        self.output = nn.Linear(args.dim, self.vocab_size, bias=False)\n",
    "\n",
    "        self.freqs_complex = precompute_theta_pos_frequencies(self.args.dim // self.args.n_heads, self.args.max_seq_len * 2, device = self.args.device)\n",
    "    \n",
    "    def forward(self, tokens: torch.Tensor, start_pos: int):\n",
    "        # input is [B, seq_len]\n",
    "\n",
    "        batch_size, seq_len = tokens.shape\n",
    "        assert seq_len == 1, \"seq_len must be 1\"\n",
    "\n",
    "        # (B, seq_len) -> (B, seq_len, dim)\n",
    "        h = self.tok_embeddings(tokens)\n",
    "\n",
    "        freqs_complex = self.freqs_complex[start_pos: start_pos+seq_len]\n",
    "\n",
    "        # feed to feed forward encoder layers\n",
    "        for layer in self.layers:\n",
    "            h = layer(h, start_pos, freqs_complex)\n",
    "        \n",
    "        h = self.norm(h)\n",
    "        output = self.output(h).float()\n",
    "        return output"
   ]
  },
  {
   "cell_type": "markdown",
   "metadata": {},
   "source": [
    "### Open Questions\n",
    "\n",
    "1) What about torch.tensor vs torch.Tensor? Check LLama code\n",
    "2) "
   ]
  }
 ],
 "metadata": {
  "kernelspec": {
   "display_name": "Python 3",
   "language": "python",
   "name": "python3"
  },
  "language_info": {
   "codemirror_mode": {
    "name": "ipython",
    "version": 3
   },
   "file_extension": ".py",
   "mimetype": "text/x-python",
   "name": "python",
   "nbconvert_exporter": "python",
   "pygments_lexer": "ipython3",
   "version": "3.9.12"
  }
 },
 "nbformat": 4,
 "nbformat_minor": 2
}
